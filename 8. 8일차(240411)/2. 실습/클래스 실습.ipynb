{
 "cells": [
  {
   "cell_type": "markdown",
   "metadata": {},
   "source": [
    "# 클래스 실습"
   ]
  },
  {
   "cell_type": "markdown",
   "metadata": {},
   "source": [
    "## 1. 은행 계좌 관리 프로그램"
   ]
  },
  {
   "cell_type": "markdown",
   "metadata": {},
   "source": [
    "은행 계좌의 기본적인 입출금 관리 기능을 가진 프로그램을 만들고자 합니다.  \n",
    "이 프로그램은 고객의 계좌를 생성하고 입금(deposit), 출금(withdraw), 잔액조회(display_balance) 기능을 제공해야 합니다."
   ]
  },
  {
   "cell_type": "code",
   "execution_count": null,
   "metadata": {},
   "outputs": [],
   "source": []
  },
  {
   "cell_type": "markdown",
   "metadata": {},
   "source": [
    "초기 은행 계좌 관리 프로그램에 보안 이슈가 생겼습니다.  \n",
    "계좌를 생성할 때 비밀번호를 입력하고 입금, 출금, 잔액조회 시 비밀번호를 확인하는 기능과 거래 내역(account_history)을 기록하고 조회할 수 있는 기능을 추가하세요"
   ]
  },
  {
   "cell_type": "markdown",
   "metadata": {},
   "source": [
    "```python\n",
    "from datetime import datetime\n",
    "now = datetime.now() ## 현재 시간\n",
    "```"
   ]
  },
  {
   "cell_type": "markdown",
   "metadata": {},
   "source": [
    "힌트: 거래내역을 저장할 리스트를 만들고 출금, 입금 시 리스트에 저장하게 하면 됩니다"
   ]
  },
  {
   "cell_type": "code",
   "execution_count": null,
   "metadata": {},
   "outputs": [],
   "source": []
  },
  {
   "cell_type": "markdown",
   "metadata": {},
   "source": [
    "업무정의서를 읽다가 계좌이체(account_transfer) 기능을 빼먹은걸 확인했습니다. 기능을 추가하세요"
   ]
  },
  {
   "cell_type": "markdown",
   "metadata": {},
   "source": [
    "힌트: 이체 할 때 자신의 잔액을 깎고 받은 쪽의 Account 객체의 잔액을 늘리면 됩니다"
   ]
  },
  {
   "cell_type": "code",
   "execution_count": null,
   "metadata": {},
   "outputs": [],
   "source": []
  },
  {
   "cell_type": "markdown",
   "metadata": {},
   "source": [
    "한명의 고객이 여러 계좌를 신청할 수 있는 서비스를 시작하려고 합니다 그 기능을 추가해 보세요"
   ]
  },
  {
   "cell_type": "markdown",
   "metadata": {},
   "source": [
    "힌트: Account 객체를 저장할 User 객체를 만들어보세요"
   ]
  },
  {
   "cell_type": "code",
   "execution_count": null,
   "metadata": {},
   "outputs": [],
   "source": []
  },
  {
   "cell_type": "markdown",
   "metadata": {},
   "source": [
    "여러 계좌를 관리하면서 동일한 이름의 객체가 생성되어 계좌를 구분할 수 없는 문제가 생겼습니다. 계좌번호 기능을 추가하세요"
   ]
  },
  {
   "cell_type": "code",
   "execution_count": 43,
   "metadata": {},
   "outputs": [],
   "source": []
  },
  {
   "cell_type": "markdown",
   "metadata": {},
   "source": [
    "이후 본인이 생각해 본 기능을 추가하여 보세요"
   ]
  },
  {
   "cell_type": "markdown",
   "metadata": {},
   "source": [
    "## 2. 어드벤처 텍스트 게임"
   ]
  },
  {
   "cell_type": "markdown",
   "metadata": {},
   "source": [
    "던전 탐험 어드벤처 텍스트 게임을 만드려고 합니다.  \n",
    "던전의 기본 단위인 Room을 만들어 다양한 장소를 표현할 수 있게 만들어 보세요.  \n",
    "\n",
    "\n",
    "기본 요구사항  \n",
    "1. 방 만들기\n",
    "2. 방 연결하기(동쪽, 서쪽, 남쪽, 북쪽)\n",
    "3. 방의 정보와 연결된 방의 정보를 제공하기"
   ]
  },
  {
   "cell_type": "markdown",
   "metadata": {},
   "source": [
    "힌트: 연결된 방향을 key로 방의 객체를 value로 저장할 딕셔너리를 만들어서 저장해 보세요"
   ]
  },
  {
   "cell_type": "code",
   "execution_count": 10,
   "metadata": {},
   "outputs": [],
   "source": []
  },
  {
   "cell_type": "markdown",
   "metadata": {},
   "source": [
    "게임에서 플레이어를 나타내는 클래스를 만들어 플레이어가 게임 세계 내에서 다양한 방을 탐험할 수 있게 만들어 보세요\n",
    "\n",
    "1. 플레이어의 시작위치를 설정\n",
    "2. 플레이어가 있는 현재 방의 위치의 정보를 반환\n",
    "3. 방 이동"
   ]
  },
  {
   "cell_type": "markdown",
   "metadata": {},
   "source": [
    "힌트: Player 클래스를 초기화할 때 플레이어의 시작 위치를 나타내는 Room 객체를 넣어줌\n",
    "\n",
    "플레이어를 이동시킬 때 Room 클래스에서 특정 방향에 연결된 방이 있는지 확인"
   ]
  },
  {
   "cell_type": "code",
   "execution_count": 9,
   "metadata": {},
   "outputs": [],
   "source": []
  },
  {
   "cell_type": "markdown",
   "metadata": {},
   "source": [
    "입구: 당신은 신비로운 던전의 입구에 있습니다.  \n",
    "복도: 길고 어두운 복도가 당신 앞에 펼쳐집니다.  \n",
    "보물방: 당신은 보물방을 찾았지만, 비어 있습니다.  \n",
    "\n",
    "위와 같이 방을 만들어 각 방과 연결하고 Player 객체를 만들어서 잘 이동 되는지 테스트 해보세요"
   ]
  },
  {
   "cell_type": "code",
   "execution_count": null,
   "metadata": {},
   "outputs": [],
   "source": []
  },
  {
   "cell_type": "markdown",
   "metadata": {},
   "source": [
    "플레이어가 사용할 Item을 게임 세계에 추가하려고 합니다.  \n",
    "아이템의 이름과 설명을 받아서 아이템 객체를 만들어 보세요"
   ]
  },
  {
   "cell_type": "code",
   "execution_count": 16,
   "metadata": {},
   "outputs": [],
   "source": []
  },
  {
   "cell_type": "markdown",
   "metadata": {},
   "source": [
    "방에 아이템을 추가하는 기능을 구현하고 방의 정보를 제공할 때 어떤 아이템이 있는지 추가하세요"
   ]
  },
  {
   "cell_type": "code",
   "execution_count": 17,
   "metadata": {},
   "outputs": [],
   "source": []
  },
  {
   "cell_type": "markdown",
   "metadata": {},
   "source": [
    "플레이어가 아이템을 줍고 관리할 수 있도록 인벤토리를 Player 클래스에 추가해 보세요  \n",
    "플레이어가 아이템을 주우면 방에서는 아이템을 삭제해야 합니다"
   ]
  },
  {
   "cell_type": "code",
   "execution_count": 18,
   "metadata": {},
   "outputs": [],
   "source": []
  },
  {
   "cell_type": "markdown",
   "metadata": {},
   "source": [
    "텍스트 게임에 적을 추가하려고 합니다.  \n",
    "기본 특성(이름, 체력, 공격력)을 관리하고 플레이어와의 상호작용을 구현하세요\n",
    "1. 기본특성을 입력하여 초기화한다.\n",
    "2. 체력이 0인지 학인한다\n",
    "3. 플레이어와의 상호작용을 추가한다"
   ]
  },
  {
   "cell_type": "code",
   "execution_count": 33,
   "metadata": {},
   "outputs": [],
   "source": []
  },
  {
   "cell_type": "markdown",
   "metadata": {},
   "source": [
    "플레이어에 체력을 추가하고 적과의 상호작용을 추가하세요"
   ]
  },
  {
   "cell_type": "code",
   "execution_count": 34,
   "metadata": {},
   "outputs": [],
   "source": []
  },
  {
   "cell_type": "markdown",
   "metadata": {},
   "source": [
    "방에 적을 배치할 수 있도록 기능을 추가해 보세요"
   ]
  },
  {
   "cell_type": "code",
   "execution_count": 35,
   "metadata": {},
   "outputs": [],
   "source": []
  },
  {
   "cell_type": "markdown",
   "metadata": {},
   "source": [
    "Player, Room, Item, Enemy를 통합 관리할 Game 클래스를 만들어보세요"
   ]
  },
  {
   "cell_type": "code",
   "execution_count": 40,
   "metadata": {},
   "outputs": [],
   "source": []
  },
  {
   "cell_type": "markdown",
   "metadata": {},
   "source": [
    "이후 본인이 생각해 본 기능을 추가하여 보세요"
   ]
  }
 ],
 "metadata": {
  "kernelspec": {
   "display_name": "Python 3",
   "language": "python",
   "name": "python3"
  },
  "language_info": {
   "codemirror_mode": {
    "name": "ipython",
    "version": 3
   },
   "file_extension": ".py",
   "mimetype": "text/x-python",
   "name": "python",
   "nbconvert_exporter": "python",
   "pygments_lexer": "ipython3",
   "version": "3.9.13"
  }
 },
 "nbformat": 4,
 "nbformat_minor": 2
}
