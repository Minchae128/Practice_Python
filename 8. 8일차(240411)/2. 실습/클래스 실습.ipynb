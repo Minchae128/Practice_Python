{
 "cells": [
  {
   "cell_type": "markdown",
   "metadata": {},
   "source": [
    "# 클래스 실습"
   ]
  },
  {
   "cell_type": "markdown",
   "metadata": {},
   "source": [
    "## 1. 은행 계좌 관리 프로그램"
   ]
  },
  {
   "cell_type": "markdown",
   "metadata": {},
   "source": [
    "은행 계좌의 기본적인 입출금 관리 기능을 가진 프로그램을 만들고자 합니다.  \n",
    "이 프로그램은 고객의 계좌를 생성하고 입금(deposit), 출금(withdraw), 잔액조회(display_balance) 기능을 제공해야 합니다."
   ]
  },
  {
   "cell_type": "code",
   "execution_count": 11,
   "metadata": {},
   "outputs": [],
   "source": [
    "class Account:\n",
    "    def __init__(self, name, balance=0):\n",
    "        self.name = name\n",
    "        self.balance = balance\n",
    "\n",
    "    def deposit(self, amount): # 입금\n",
    "        if amount > 0:\n",
    "            self.balance += amount\n",
    "            print(f\"{amount}원이 입금되었습니다. 총 잔액 : {self.balance}원 입니다.\")\n",
    "        else:\n",
    "            print(\"입금액은 0보다 커야 합니다.\")\n",
    "\n",
    "    def withdraw(self, amount): # 출금\n",
    "        if 0 < amount <= self.balance:\n",
    "            self.balance -= amount\n",
    "            print(f\"{amount}원이 출금되었습니다. 총 잔액 : {self.balance}원 입니다.\")\n",
    "        else:\n",
    "            print(\"입금액은 0보다 커야 합니다.\")\n",
    "\n",
    "    def display_balance(self): # 잔액 조회\n",
    "        print(f\"현재 계좌의 잔액은 {self.balance}원 입니다.\")"
   ]
  },
  {
   "cell_type": "markdown",
   "metadata": {},
   "source": [
    "초기 은행 계좌 관리 프로그램에 보안 이슈가 생겼습니다.  \n",
    "계좌를 생성할 때 비밀번호를 입력하고 입금, 출금, 잔액조회 시 비밀번호를 확인하는 기능과 거래 내역(account_history)을 기록하고 조회할 수 있는 기능을 추가하세요"
   ]
  },
  {
   "cell_type": "markdown",
   "metadata": {},
   "source": [
    "```python\n",
    "from datetime import datetime\n",
    "now = datetime.now() ## 현재 시간\n",
    "```"
   ]
  },
  {
   "cell_type": "markdown",
   "metadata": {},
   "source": [
    "힌트: 거래내역을 저장할 리스트를 만들고 출금, 입금 시 리스트에 저장하게 하면 됩니다"
   ]
  },
  {
   "cell_type": "code",
   "execution_count": 10,
   "metadata": {},
   "outputs": [],
   "source": [
    "from datetime import datetime\n",
    "\n",
    "class Account:\n",
    "    def __init__(self, name, pw, balance=0):\n",
    "        self.name = name\n",
    "        self.pw = pw\n",
    "        self.balance = balance\n",
    "        self.account_history = []\n",
    "\n",
    "    def deposit(self, password, amount): # 입금\n",
    "        if self.pw == password: \n",
    "            if amount > 0:\n",
    "                self.balance += amount\n",
    "                self.account_history.append((datetime.now(), '입금', amount))\n",
    "                print(f\"{amount}원이 입금되었습니다. 총 잔액 : {self.balance}원 입니다.\")\n",
    "            else:\n",
    "                print(\"입금액은 0보다 커야 합니다.\")\n",
    "        else:\n",
    "            print(\"비밀번호가 틀렸습니다. 다시 입력하세요\")\n",
    "\n",
    "    def withdraw(self, password, amount): # 출금\n",
    "        if self.pw == password: \n",
    "            if 0 < amount <= self.balance:\n",
    "                self.balance -= amount\n",
    "                self.account_history.append((datetime.now(), '출금', amount))\n",
    "                print(f\"{amount}원이 출금되었습니다. 총 잔액 : {self.balance}원 입니다.\")\n",
    "            else:\n",
    "                print(\"출금액은 0보다 크고, 현재 잔액보다 작아야 합니다.\")\n",
    "        else:\n",
    "            print(\"비밀번호가 틀렸습니다. 다시 입력하세요\")\n",
    "\n",
    "    def display_balance(self, password): # 잔액조회\n",
    "        if self.pw == password: \n",
    "            print(f\"현재 계좌의 잔액은 {self.balance}원 입니다.\")\n",
    "            self.account_history.append((datetime.now(), '잔액조회', self.balance))\n",
    "        else:\n",
    "            print(\"비밀번호가 틀렸습니다. 다시 입력하세요\")"
   ]
  },
  {
   "cell_type": "markdown",
   "metadata": {},
   "source": [
    "업무정의서를 읽다가 계좌이체(account_transfer) 기능을 빼먹은걸 확인했습니다. 기능을 추가하세요"
   ]
  },
  {
   "cell_type": "markdown",
   "metadata": {},
   "source": [
    "힌트: 이체 할 때 자신의 잔액을 깎고 받은 쪽의 Account 객체의 잔액을 늘리면 됩니다"
   ]
  },
  {
   "cell_type": "code",
   "execution_count": 18,
   "metadata": {},
   "outputs": [],
   "source": [
    "from datetime import datetime\n",
    "\n",
    "class Account:\n",
    "    def __init__(self, name, pw, balance=0):\n",
    "        self.name = name\n",
    "        self.pw = pw\n",
    "        self.balance = balance\n",
    "        self.account_history = []\n",
    "\n",
    "    def deposit(self, password, amount): # 입금\n",
    "        if self.pw == password: \n",
    "            if amount > 0:\n",
    "                self.balance += amount\n",
    "                print(f\"{amount}원이 입금되었습니다. 총 잔액 : {self.balance}원 입니다.\")\n",
    "                self.account_history.append((datetime.now(), '입금', amount))\n",
    "            else:\n",
    "                print(\"입금액은 0보다 커야 합니다.\")\n",
    "        else:\n",
    "            print(\"비밀번호가 틀렸습니다. 다시 입력하세요\")\n",
    "\n",
    "    def withdraw(self, password, amount): # 출금\n",
    "        if self.pw == password: \n",
    "            if 0 < amount <= self.balance:\n",
    "                self.balance -= amount\n",
    "                print(f\"{amount}원이 출금되었습니다. 총 잔액 : {self.balance}원 입니다.\")\n",
    "                self.account_history.append((datetime.now(), '출금', amount))\n",
    "            else:\n",
    "                print(\"출금액은 0보다 크고, 현재 잔액보다 작아야 합니다.\")\n",
    "        else:\n",
    "            print(\"비밀번호가 틀렸습니다. 다시 입력하세요\")\n",
    "\n",
    "    def account_transfer(self, password, amount, recipient_account): # 계좌 이체\n",
    "        if self.pw == password: \n",
    "            recipient_account.deposit(self.pw, amount)\n",
    "            self.withdraw(self.pw, amount)\n",
    "            self.account_history.append((datetime.now(), '이체', amount))\n",
    "\n",
    "        else:\n",
    "            print(\"비밀번호가 틀렸습니다. 다시 입력하세요\")\n",
    "\n",
    "    def display_balance(self, password): # 잔액조회\n",
    "        if self.pw == password: \n",
    "            print(f\"현재 계좌의 잔액은 {self.balance}원 입니다.\")\n",
    "            self.account_history.append((datetime.now(), '잔액조회', self.balance))\n",
    "        else:\n",
    "            print(\"비밀번호가 틀렸습니다. 다시 입력하세요\")"
   ]
  },
  {
   "cell_type": "markdown",
   "metadata": {},
   "source": [
    "한명의 고객이 여러 계좌를 신청할 수 있는 서비스를 시작하려고 합니다 그 기능을 추가해 \n",
    "\n",
    "힌트: Account 객체를 저장할 User 객체를 만들어보세요"
   ]
  },
  {
   "cell_type": "code",
   "execution_count": null,
   "metadata": {},
   "outputs": [],
   "source": [
    "from datetime import datetime\n",
    "\n",
    "class User:\n",
    "    def __init__(self, name, user_id, pw):\n",
    "        self.name = name\n",
    "        self.user_id = user_id\n",
    "        self.pw = pw\n",
    "        self.accounts = []\n",
    "\n",
    "    def add_account(self, account):\n",
    "        self.accounts.append(account)\n",
    "\n",
    "    def get_accounts(self):\n",
    "        return self.accounts\n",
    "\n",
    "\n",
    "class Account:\n",
    "    def __init__(self, name, user, pw, balance=0):\n",
    "        self.name = name\n",
    "        self.user = user\n",
    "        self.pw = pw\n",
    "        self.balance = balance\n",
    "        self.account_history = []\n",
    "\n",
    "    def deposit(self, password, amount): # 입금\n",
    "        if self.pw == password: \n",
    "            if amount > 0:\n",
    "                self.balance += amount\n",
    "                print(f\"{amount}원이 입금되었습니다. 총 잔액 : {self.balance}원 입니다.\")\n",
    "                self.account_history.append((datetime.now(), '입금', amount))\n",
    "            else:\n",
    "                print(\"입금액은 0보다 커야 합니다.\")\n",
    "        else:\n",
    "            print(\"비밀번호가 틀렸습니다. 다시 입력하세요\")\n",
    "\n",
    "    def withdraw(self, password, amount): # 출금\n",
    "        if self.pw == password: \n",
    "            if 0 < amount <= self.balance:\n",
    "                self.balance -= amount\n",
    "                print(f\"{amount}원이 출금되었습니다. 총 잔액 : {self.balance}원 입니다.\")\n",
    "                self.account_history.append((datetime.now(), '출금', amount))\n",
    "            else:\n",
    "                print(\"출금액은 0보다 크고, 현재 잔액보다 작아야 합니다.\")\n",
    "        else:\n",
    "            print(\"비밀번호가 틀렸습니다. 다시 입력하세요\")\n",
    "\n",
    "    def account_transfer(self, password, amount, recipient_account): # 계좌 이체\n",
    "        if self.pw == password: \n",
    "            recipient_account.deposit(self.pw, amount)\n",
    "            self.withdraw(self.pw, amount)\n",
    "            self.account_history.append((datetime.now(), '이체', amount))\n",
    "\n",
    "        else:\n",
    "            print(\"비밀번호가 틀렸습니다. 다시 입력하세요\")\n",
    "\n",
    "    def display_balance(self, password): # 잔액조회\n",
    "        if self.pw == password: \n",
    "            print(f\"현재 계좌의 잔액은 {self.balance}원 입니다.\")\n",
    "            self.account_history.append((datetime.now(), '잔액조회', self.balance))\n",
    "        else:\n",
    "            print(\"비밀번호가 틀렸습니다. 다시 입력하세요\")"
   ]
  },
  {
   "cell_type": "markdown",
   "metadata": {},
   "source": [
    "여러 계좌를 관리하면서 동일한 이름의 객체가 생성되어 계좌를 구분할 수 없는 문제가 생겼습니다. 계좌번호 기능을 추가하세요"
   ]
  },
  {
   "cell_type": "code",
   "execution_count": 34,
   "metadata": {},
   "outputs": [],
   "source": [
    "from datetime import datetime\n",
    "import itertools\n",
    "\n",
    "class User:\n",
    "    def __init__(self, name, pw):\n",
    "        self.name = name\n",
    "        self.pw = pw\n",
    "        self.accounts = []\n",
    "\n",
    "    def add_account(self, account):\n",
    "        self.accounts.append(account)\n",
    "\n",
    "    def get_accounts(self):\n",
    "        return self.accounts\n",
    "\n",
    "\n",
    "class Account:\n",
    "    account_number_generator = itertools.count(start=1000)\n",
    "\n",
    "    def __init__(self, name, user, pw, balance=0):\n",
    "        self.name = name\n",
    "        self.user = user\n",
    "        self.pw = pw\n",
    "        self.balance = balance\n",
    "        self.account_number = next(self.account_number_generator)  # 새로운 계좌번호 할당\n",
    "        self.account_history = []\n",
    "\n",
    "    def deposit(self, password, amount): # 입금\n",
    "        if self.pw == password: \n",
    "            if amount > 0:\n",
    "                self.balance += amount\n",
    "                print(f\"{self.account_number} {amount}원이 입금되었습니다. 총 잔액 : {self.balance}원 입니다.\")\n",
    "                self.account_history.append((datetime.now(), '입금', amount))\n",
    "            else:\n",
    "                print(\"입금액은 0보다 커야 합니다.\")\n",
    "        else:\n",
    "            print(\"비밀번호가 틀렸습니다. 다시 입력하세요\")\n",
    "\n",
    "    def withdraw(self, password, amount): # 출금\n",
    "        if self.pw == password: \n",
    "            if 0 < amount <= self.balance:\n",
    "                self.balance -= amount\n",
    "                print(f\"{self.account_number} {amount}원이 출금되었습니다. 총 잔액 : {  self.balance}원 입니다.\")\n",
    "                self.account_history.append((datetime.now(), '출금', amount))\n",
    "            else:\n",
    "                print(\"출금액은 0보다 크고, 현재 잔액보다 작아야 합니다.\")\n",
    "        else:\n",
    "            print(\"비밀번호가 틀렸습니다. 다시 입력하세요\")\n",
    "\n",
    "    def account_transfer(self, password, amount, recipient_account): # 계좌 이체\n",
    "        if self.pw == password: \n",
    "            recipient_account.deposit(self.pw, amount)\n",
    "            self.withdraw(self.pw, amount)\n",
    "            self.account_history.append((datetime.now(), '이체', amount))\n",
    "\n",
    "        else:\n",
    "            print(\"비밀번호가 틀렸습니다. 다시 입력하세요\")\n",
    "\n",
    "    def display_balance(self, password): # 잔액조회\n",
    "        if self.pw == password: \n",
    "            print(f\"현재 계좌({self.account_number})의 잔액은 {self.balance}원 입니다.\")\n",
    "            self.account_history.append((datetime.now(), '잔액조회', self.balance))\n",
    "        else:\n",
    "            print(\"비밀번호가 틀렸습니다. 다시 입력하세요\")\n"
   ]
  },
  {
   "cell_type": "code",
   "execution_count": 33,
   "metadata": {},
   "outputs": [
    {
     "name": "stdout",
     "output_type": "stream",
     "text": [
      "1009 5000원이 입금되었습니다. 총 잔액 : 15000원 입니다.\n",
      "현재 계좌(1009)의 잔액은 15000원 입니다.\n",
      "1009 2000원이 출금되었습니다. 총 잔액 : 13000원 입니다.\n",
      "현재 계좌(1009)의 잔액은 13000원 입니다.\n",
      "비밀번호가 틀렸습니다. 다시 입력하세요\n",
      "1009 3000원이 출금되었습니다. 총 잔액 : 10000원 입니다.\n",
      "현재 계좌(1009)의 잔액은 10000원 입니다.\n",
      "현재 계좌(1010)의 잔액은 5000원 입니다.\n",
      "거래 내역:\n",
      "날짜: 2024-04-11 14:57:48.509205, 종류: 입금, 금액: 5000원\n",
      "날짜: 2024-04-11 14:57:48.509205, 종류: 잔액조회, 금액: 15000원\n",
      "날짜: 2024-04-11 14:57:48.510202, 종류: 출금, 금액: 2000원\n",
      "날짜: 2024-04-11 14:57:48.510202, 종류: 잔액조회, 금액: 13000원\n",
      "날짜: 2024-04-11 14:57:48.510202, 종류: 출금, 금액: 3000원\n",
      "날짜: 2024-04-11 14:57:48.510202, 종류: 이체, 금액: 3000원\n",
      "날짜: 2024-04-11 14:57:48.510202, 종류: 잔액조회, 금액: 10000원\n"
     ]
    }
   ],
   "source": [
    "# 고객 생성\n",
    "user1 = User(\"John\", \"john123\", \"password\")\n",
    "\n",
    "# 계좌 생성\n",
    "account1 = Account(\"John's Account 1\", user1, \"password\")\n",
    "account2 = Account(\"John's Account 2\", user1, \"password\")\n",
    "\n",
    "# 사용자에게 계좌 추가\n",
    "user1.add_account(account1)\n",
    "user1.add_account(account2)\n",
    "\n",
    "# 입금\n",
    "account1.deposit(\"password\", 1000)\n",
    "account2.deposit(\"password\", 500)\n",
    "\n",
    "# 출금\n",
    "account1.withdraw(\"password\", 200)\n",
    "account2.withdraw(\"password\", 100)\n",
    "\n",
    "# 계좌 간 이체\n",
    "account1.account_transfer(\"password\", 300, account2)\n",
    "\n",
    "# 잔액 조회\n",
    "account1.display_balance(\"password\")\n",
    "account2.display_balance(\"password\")\n"
   ]
  },
  {
   "cell_type": "markdown",
   "metadata": {},
   "source": [
    "이후 본인이 생각해 본 기능을 추가하여 보세요\n",
    "\n",
    "계좌 잔액 확인 기능 강화: 잔액 조회 메서드를 개선하여 보다 상세한 정보를 제공합니다. 예를 들어, 사용 가능 잔액, 계좌 번호, 소유자 정보 등을 포함할 수 있습니다.\n",
    "\n",
    "이체 수수료 적용: 계좌 간 이체 시 일정 비율의 수수료를 부과하는 기능을 추가합니다. 이체 메서드를 수정하여 수수료를 고려하여 이체를 처리합니다.\n",
    "\n",
    "적금 기능 추가: 정기적으로 일정 금액을 입금하는 적금 기능을 추가합니다. 예를 들어, 매달 정기적으로 일정 금액을 입금하고, 이자가 발생하는 기능을 구현할 수 있습니다.\n",
    "\n",
    "출금 한도 설정: 사용자가 계좌당 최대 출금 가능 금액을 설정할 수 있는 기능을 추가합니다. 출금 메서드를 수정하여 이 기능을 적용합니다.\n",
    "\n",
    "알림 기능: 특정 조건을 충족할 때 사용자에게 알림을 보내는 기능을 추가합니다. 예를 들어, 계좌 잔액이 일정 금액 이하로 내려갈 때 이메일이나 SMS 알림을 보내는 기능을 구현할 수 있습니다."
   ]
  },
  {
   "cell_type": "markdown",
   "metadata": {},
   "source": [
    "## 2. 어드벤처 텍스트 게임"
   ]
  },
  {
   "cell_type": "markdown",
   "metadata": {},
   "source": [
    "던전 탐험 어드벤처 텍스트 게임을 만드려고 합니다.  \n",
    "던전의 기본 단위인 Room을 만들어 다양한 장소를 표현할 수 있게 만들어 보세요.  \n",
    "\n",
    "\n",
    "기본 요구사항  \n",
    "1. 방 만들기\n",
    "2. 방 연결하기(동쪽, 서쪽, 남쪽, 북쪽)\n",
    "3. 방의 정보와 연결된 방의 정보를 제공하기"
   ]
  },
  {
   "cell_type": "markdown",
   "metadata": {},
   "source": [
    "힌트: 연결된 방향을 key로 방의 객체를 value로 저장할 딕셔너리를 만들어서 저장해 보세요"
   ]
  },
  {
   "cell_type": "code",
   "execution_count": 44,
   "metadata": {},
   "outputs": [
    {
     "name": "stdout",
     "output_type": "stream",
     "text": [
      "현재 방 : Room 2\n",
      "연결된 방 : \n",
      "north: None\n",
      "south: None\n",
      "east: None\n",
      "west: Room 1\n"
     ]
    }
   ],
   "source": [
    "class Room:\n",
    "    def __init__(self, name):\n",
    "        self.name = name\n",
    "        self.direction = {'north': None, 'south': None, 'east': None, 'west': None}\n",
    "\n",
    "class txt_game:\n",
    "    def __init__(self, room):\n",
    "        self.room = room\n",
    "\n",
    "    def info(self):\n",
    "        now_room = self.room.name\n",
    "        print(f\"현재 방 : {now_room}\")\n",
    "        print(f\"연결된 방 : \")\n",
    "        for direction, room in self.room.direction.items():\n",
    "            if room:\n",
    "                print(f\"{direction}: {room.name}\")\n",
    "            else:\n",
    "                print(f\"{direction}: None\")\n",
    "\n",
    "if __name__ == \"__main__\":\n",
    "    # 방 생성\n",
    "    room1 = Room(\"Room 1\")\n",
    "    room2 = Room(\"Room 2\")\n",
    "\n",
    "    # 방 연결\n",
    "    room1.direction['east'] = room2\n",
    "    room2.direction['west'] = room1\n",
    "\n",
    "    # 게임 생성\n",
    "    game = txt_game(room1)\n",
    "    game = txt_game(room2)\n",
    "    \n",
    "    \n",
    "    # 정보 출력\n",
    "    game.info()\n"
   ]
  },
  {
   "cell_type": "markdown",
   "metadata": {},
   "source": [
    "게임에서 플레이어를 나타내는 클래스를 만들어 플레이어가 게임 세계 내에서 다양한 방을 탐험할 수 있게 만들어 보세요\n",
    "\n",
    "1. 플레이어의 시작위치를 설정\n",
    "2. 플레이어가 있는 현재 방의 위치의 정보를 반환\n",
    "3. 방 이동"
   ]
  },
  {
   "cell_type": "markdown",
   "metadata": {},
   "source": [
    "힌트: Player 클래스를 초기화할 때 플레이어의 시작 위치를 나타내는 Room 객체를 넣어줌\n",
    "\n",
    "플레이어를 이동시킬 때 Room 클래스에서 특정 방향에 연결된 방이 있는지 확인"
   ]
  },
  {
   "cell_type": "code",
   "execution_count": 1,
   "metadata": {},
   "outputs": [
    {
     "ename": "IndentationError",
     "evalue": "expected an indented block (2642183993.py, line 4)",
     "output_type": "error",
     "traceback": [
      "\u001b[1;36m  Cell \u001b[1;32mIn[1], line 4\u001b[1;36m\u001b[0m\n\u001b[1;33m    class Room:\u001b[0m\n\u001b[1;37m               ^\u001b[0m\n\u001b[1;31mIndentationError\u001b[0m\u001b[1;31m:\u001b[0m expected an indented block\n"
     ]
    }
   ],
   "source": [
    "class Player:\n",
    "    def __init__(self, name):\n",
    "        self.name = name\n",
    "\n",
    "class Room:\n",
    "    def __init__(self, name):\n",
    "        self.name = name\n",
    "        self.direction = {'north': None, 'south': None, 'east': None, 'west': None}\n",
    "\n",
    "class txt_game:\n",
    "    def __init__(self, room):\n",
    "        self.room = room\n",
    "\n",
    "    def info(self):\n",
    "        now_room = self.room.name\n",
    "        print(f\"현재 방 : {now_room}\")\n",
    "        print(f\"연결된 방 : \")\n",
    "        for direction, room in self.room.direction.items():\n",
    "            if room:\n",
    "                print(f\"{direction}: {room.name}\")\n",
    "            else:\n",
    "                print(f\"{direction}: None\")\n"
   ]
  },
  {
   "cell_type": "markdown",
   "metadata": {},
   "source": [
    "입구: 당신은 신비로운 던전의 입구에 있습니다.  \n",
    "복도: 길고 어두운 복도가 당신 앞에 펼쳐집니다.  \n",
    "보물방: 당신은 보물방을 찾았지만, 비어 있습니다.  \n",
    "\n",
    "위와 같이 방을 만들어 각 방과 연결하고 Player 객체를 만들어서 잘 이동 되는지 테스트 해보세요"
   ]
  },
  {
   "cell_type": "code",
   "execution_count": null,
   "metadata": {},
   "outputs": [],
   "source": []
  },
  {
   "cell_type": "markdown",
   "metadata": {},
   "source": [
    "플레이어가 사용할 Item을 게임 세계에 추가하려고 합니다.  \n",
    "아이템의 이름과 설명을 받아서 아이템 객체를 만들어 보세요"
   ]
  },
  {
   "cell_type": "code",
   "execution_count": 16,
   "metadata": {},
   "outputs": [],
   "source": []
  },
  {
   "cell_type": "markdown",
   "metadata": {},
   "source": [
    "방에 아이템을 추가하는 기능을 구현하고 방의 정보를 제공할 때 어떤 아이템이 있는지 추가하세요"
   ]
  },
  {
   "cell_type": "code",
   "execution_count": 17,
   "metadata": {},
   "outputs": [],
   "source": []
  },
  {
   "cell_type": "markdown",
   "metadata": {},
   "source": [
    "플레이어가 아이템을 줍고 관리할 수 있도록 인벤토리를 Player 클래스에 추가해 보세요  \n",
    "플레이어가 아이템을 주우면 방에서는 아이템을 삭제해야 합니다"
   ]
  },
  {
   "cell_type": "code",
   "execution_count": 18,
   "metadata": {},
   "outputs": [],
   "source": []
  },
  {
   "cell_type": "markdown",
   "metadata": {},
   "source": [
    "텍스트 게임에 적을 추가하려고 합니다.  \n",
    "기본 특성(이름, 체력, 공격력)을 관리하고 플레이어와의 상호작용을 구현하세요\n",
    "1. 기본특성을 입력하여 초기화한다.\n",
    "2. 체력이 0인지 학인한다\n",
    "3. 플레이어와의 상호작용을 추가한다"
   ]
  },
  {
   "cell_type": "code",
   "execution_count": 33,
   "metadata": {},
   "outputs": [],
   "source": []
  },
  {
   "cell_type": "markdown",
   "metadata": {},
   "source": [
    "플레이어에 체력을 추가하고 적과의 상호작용을 추가하세요"
   ]
  },
  {
   "cell_type": "code",
   "execution_count": 34,
   "metadata": {},
   "outputs": [],
   "source": []
  },
  {
   "cell_type": "markdown",
   "metadata": {},
   "source": [
    "방에 적을 배치할 수 있도록 기능을 추가해 보세요"
   ]
  },
  {
   "cell_type": "code",
   "execution_count": 35,
   "metadata": {},
   "outputs": [],
   "source": []
  },
  {
   "cell_type": "markdown",
   "metadata": {},
   "source": [
    "Player, Room, Item, Enemy를 통합 관리할 Game 클래스를 만들어보세요"
   ]
  },
  {
   "cell_type": "code",
   "execution_count": 40,
   "metadata": {},
   "outputs": [],
   "source": []
  },
  {
   "cell_type": "markdown",
   "metadata": {},
   "source": [
    "이후 본인이 생각해 본 기능을 추가하여 보세요"
   ]
  }
 ],
 "metadata": {
  "kernelspec": {
   "display_name": "Python 3",
   "language": "python",
   "name": "python3"
  },
  "language_info": {
   "codemirror_mode": {
    "name": "ipython",
    "version": 3
   },
   "file_extension": ".py",
   "mimetype": "text/x-python",
   "name": "python",
   "nbconvert_exporter": "python",
   "pygments_lexer": "ipython3",
   "version": "3.9.13"
  }
 },
 "nbformat": 4,
 "nbformat_minor": 2
}
