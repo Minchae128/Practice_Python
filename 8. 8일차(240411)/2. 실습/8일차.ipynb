{
 "cells": [
  {
   "cell_type": "markdown",
   "metadata": {},
   "source": [
    "내장함수\n",
    "\n",
    "tuple :\n",
    "반복 가능한 데이터를 튜플로 바꾸어 리턴하는 함수\n",
    "\n",
    "all :\n",
    "반복 가능한 데이터 x를 입력값으로 받으며 이 x의 요소가 모두 참이면 True, 거짓이 하나라도 있으면 False를 리턴\n",
    "\n",
    "abc : \n",
    "어떤 숫자를 입력받았을 때 그 숫자의 절댓값을 리턴하는 함수\n",
    "\n",
    "enumerare :\n",
    "열거하다 라는 뜻\n",
    "이 함수는 순거가 있는 데이터(리스트, 튜플, 문자열)를 입력으로 받아 인덱스 값을 포함하는 \n",
    "enumerare객체를 리턴\n",
    "\n",
    "zip\n",
    "\n",
    "map\n",
    "\n",
    "eval(강사님 왈 -> 쓰지 말아라)\n"
   ]
  },
  {
   "cell_type": "code",
   "execution_count": null,
   "metadata": {},
   "outputs": [],
   "source": []
  },
  {
   "cell_type": "markdown",
   "metadata": {},
   "source": [
    "중간 실습\n",
    "\n",
    "1. 1~10까지의 리스트를 만들고 각 요소에 *3을 해보시오\n",
    "2. ['hello', 'world', 'python', 'map'] 리스트의 각요소를 대문자로 바꿔보세요\n",
    "3. list_a = [('홍길동', 5000), ('김팔득', 6000), ('곽두팔', 7000)]의\n",
    "    급여인상률은 10% 이다.\n",
    "    직원과 급여를 리스트로 만들고 각 직원의 급여를 업데이트 하세요"
   ]
  },
  {
   "cell_type": "code",
   "execution_count": 7,
   "metadata": {},
   "outputs": [
    {
     "name": "stdout",
     "output_type": "stream",
     "text": [
      "[1, 2, 3, 4, 5, 6, 7, 8, 9, 10, 1, 2, 3, 4, 5, 6, 7, 8, 9, 10, 1, 2, 3, 4, 5, 6, 7, 8, 9, 10]\n"
     ]
    },
    {
     "data": {
      "text/plain": [
       "[3, 6, 9, 12, 15, 18, 21, 24, 27, 30]"
      ]
     },
     "execution_count": 7,
     "metadata": {},
     "output_type": "execute_result"
    }
   ],
   "source": [
    "list_a = [1,2,3,4,5,6,7,8,9,10]\n",
    "\n",
    "print(list_a*3)\n",
    "\n",
    "def num(x):\n",
    "    return x*3\n",
    "\n",
    "list(map(num, [1, 2, 3, 4, 5, 6, 7, 8, 9, 10]))"
   ]
  },
  {
   "cell_type": "code",
   "execution_count": 4,
   "metadata": {},
   "outputs": [
    {
     "name": "stdout",
     "output_type": "stream",
     "text": [
      "['HELLO', 'WORLD', 'PYTHON', 'MAP']\n"
     ]
    }
   ],
   "source": [
    "list_a = ['hello', 'world', 'python', 'map'] \n",
    "list_b = []\n",
    "\n",
    "for i in range(len(list_a)):\n",
    "    list_b.append(list_a[i].upper())\n",
    "\n",
    "print(list_b)"
   ]
  },
  {
   "cell_type": "code",
   "execution_count": 10,
   "metadata": {},
   "outputs": [
    {
     "name": "stdout",
     "output_type": "stream",
     "text": [
      "[('홍길동', 5500), ('김팔득', 6600), ('곽두팔', 7700)]\n"
     ]
    }
   ],
   "source": [
    "list_a = [('홍길동', 5000), ('김팔득', 6000), ('곽두팔', 7000)]\n",
    "\n",
    "for i in range(len(list_a)):\n",
    "    name, money = list_a[i]\n",
    "    update_money = int(money * 1.1)\n",
    "    list_a[i] = (name, update_money)\n",
    "\n",
    "print(list_a)\n"
   ]
  },
  {
   "cell_type": "code",
   "execution_count": 11,
   "metadata": {},
   "outputs": [
    {
     "name": "stdout",
     "output_type": "stream",
     "text": [
      "[('홍길동', 5500.0), ('김팔득', 6600.0), ('곽두팔', 7700.0)]\n"
     ]
    }
   ],
   "source": [
    "list_a = [('홍길동', 5000), ('김팔득', 6000), ('곽두팔', 7000)]\n",
    "\n",
    "def int_rate(x):\n",
    "    name, money = x\n",
    "    new_money = money + (money * 0.1)\n",
    "    return name, new_money\n",
    "\n",
    "print(list(map(int_rate, list_a)))"
   ]
  },
  {
   "cell_type": "markdown",
   "metadata": {},
   "source": [
    "예외 처리\n"
   ]
  },
  {
   "cell_type": "code",
   "execution_count": null,
   "metadata": {},
   "outputs": [],
   "source": []
  }
 ],
 "metadata": {
  "kernelspec": {
   "display_name": "Python 3",
   "language": "python",
   "name": "python3"
  },
  "language_info": {
   "codemirror_mode": {
    "name": "ipython",
    "version": 3
   },
   "file_extension": ".py",
   "mimetype": "text/x-python",
   "name": "python",
   "nbconvert_exporter": "python",
   "pygments_lexer": "ipython3",
   "version": "3.9.13"
  }
 },
 "nbformat": 4,
 "nbformat_minor": 2
}
