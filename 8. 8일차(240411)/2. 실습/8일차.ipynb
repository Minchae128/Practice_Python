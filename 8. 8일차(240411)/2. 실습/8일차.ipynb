{
 "cells": [
  {
   "cell_type": "markdown",
   "metadata": {},
   "source": [
    "##내장함수\n",
    "\n",
    "tuple :\n",
    "반복 가능한 데이터를 튜플로 바꾸어 리턴하는 함수\n",
    "\n",
    "all :\n",
    "반복 가능한 데이터 x를 입력값으로 받으며 이 x의 요소가 모두 참이면 True, 거짓이 하나라도 있으면 False를 리턴\n",
    "\n",
    "abc : \n",
    "어떤 숫자를 입력받았을 때 그 숫자의 절댓값을 리턴하는 함수\n",
    "\n",
    "enumerare :\n",
    "열거하다 라는 뜻\n",
    "이 함수는 순거가 있는 데이터(리스트, 튜플, 문자열)를 입력으로 받아 인덱스 값을 포함하는 \n",
    "enumerare객체를 리턴"
   ]
  }
 ],
 "metadata": {
  "language_info": {
   "name": "python"
  }
 },
 "nbformat": 4,
 "nbformat_minor": 2
}
