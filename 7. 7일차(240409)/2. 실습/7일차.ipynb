{
 "cells": [
  {
   "cell_type": "markdown",
   "metadata": {},
   "source": [
    "클래스 기본구조\n",
    "```python\n",
    "class 클래스이름:\n",
    "    def __init__(self, 매개변수1, 매개변수2, ...):\n",
    "        # 인스턴스 변수 초기화\n",
    "        self.매개변수a = 매개변수1\n",
    "        self.매개변수b = 매개변수2\n",
    "        # ...\n",
    "\n",
    "    def 메서드이름1(self, 매개변수3, 매개변수4, ...):\n",
    "        # 메서드1의 구현\n",
    "        # ...\n",
    "\n",
    "    def 메서드이름2(self, 매개변수5, 매개변수6, ...):\n",
    "        # 메서드2의 구현\n",
    "        # ..."
   ]
  },
  {
   "cell_type": "markdown",
   "metadata": {},
   "source": [
    "클래스 용어 정리\n",
    "|용어|설명|\n",
    "|---|---|\n",
    "|클래스|제품의 설계도|\n",
    "|객체|설계도로 만든 제품|\n",
    "|속성|클래스안의 변수|\n",
    "|메서드|클래스안의 함수|\n",
    "|생성자|객체를 만들 때 실행되는 함수|\n",
    "|인스턴스|메모리에 살아있는 객체|"
   ]
  },
  {
   "cell_type": "code",
   "execution_count": 1,
   "metadata": {},
   "outputs": [
    {
     "name": "stdout",
     "output_type": "stream",
     "text": [
      "팥 속재료가 들어간 붕어빵을 굽습니다.\n",
      "이 붕어빵은 팥로 채워져 있습니다.\n"
     ]
    }
   ],
   "source": [
    "class 붕어빵:\n",
    "    def __init__(self, 재료):\n",
    "        self.재료 = 재료  # 붕어빵의 속재료를 정의\n",
    "\n",
    "    def bake(self):\n",
    "        print(f\"{self.재료} 속재료가 들어간 붕어빵을 굽습니다.\")\n",
    "\n",
    "    def describe(self):\n",
    "        print(f\"이 붕어빵은 {self.재료}로 채워져 있습니다.\")\n",
    "\n",
    "\n",
    "my_bung = 붕어빵(\"팥\")\n",
    "\n",
    "my_bung.bake()\n",
    "\n",
    "my_bung.describe()"
   ]
  },
  {
   "cell_type": "markdown",
   "metadata": {},
   "source": [
    ".items()<br>\n",
    "딕셔너리 함수 =  딕셔너리에 있는 키와 쌍을 얻을 수 있음\n",
    "\n",
    "car = {\"name\" : \"BMW\", \"price\" : \"7000\"} <br>\n",
    "car.items() <br>\n",
    "dict_items([('name', 'BMW'), ('price', '7000')]) "
   ]
  },
  {
   "cell_type": "code",
   "execution_count": 2,
   "metadata": {},
   "outputs": [
    {
     "name": "stdout",
     "output_type": "stream",
     "text": [
      "철수 학생의 과목별 점수 : \n",
      "math: 90\n",
      "english: 85\n",
      "history: 80\n"
     ]
    }
   ],
   "source": [
    "class Student:\n",
    "    def __init__(self, name):\n",
    "        self.name = name\n",
    "        self.scores = {}\n",
    "\n",
    "    def add_score(self, **kwargs):\n",
    "        for subj, score in kwargs.items():\n",
    "            self.scores[subj] = score\n",
    "\n",
    "    def print_score(self):\n",
    "        print(f'{self.name} 학생의 과목별 점수 : ')\n",
    "        for subj, score in self.scores.items():\n",
    "            print(f'{subj}: {score}')\n",
    "\n",
    "\n",
    "# 테스트\n",
    "student1 = Student(\"철수\")\n",
    "student1.add_score(math=90, english=85, history=80)\n",
    "student1.print_score()"
   ]
  },
  {
   "cell_type": "code",
   "execution_count": 3,
   "metadata": {},
   "outputs": [
    {
     "name": "stdout",
     "output_type": "stream",
     "text": [
      "철수 학생의 과목별 점수 : \n",
      "국어: 90\n",
      "영어: 85\n",
      "수학: 80\n",
      "과학: 95\n",
      "영희 학생의 과목별 점수 : \n",
      "국어: 85\n",
      "영어: 90\n",
      "수학: 95\n",
      "과학: 75\n"
     ]
    }
   ],
   "source": [
    "class Student:\n",
    "    def __init__(self, name):\n",
    "        self.name = name\n",
    "        self.scores = {}\n",
    "        self.subj_name = ['국어', '영어', '수학', '과학', '사회', '기술', '가정', '미술', '체육', '음악', '도덕']\n",
    "\n",
    "    def add_score(self, **kwargs):\n",
    "        for subj, score in kwargs.items():\n",
    "            self.scores[subj] = score\n",
    "\n",
    "    def print_score(self):\n",
    "        print(f'{self.name} 학생의 과목별 점수 : ')\n",
    "        for subj, score in self.scores.items():\n",
    "            print(f'{subj}: {score}')\n",
    "\n",
    "\n",
    "student1 = Student(\"철수\")\n",
    "student1.add_score(국어=90, 영어=85, 수학=80, 과학=95)\n",
    "student1.print_score()\n",
    "\n",
    "\n",
    "student2 = Student(\"영희\")\n",
    "student2.add_score(국어=85, 영어=90, 수학=95, 과학=75)\n",
    "student2.print_score()"
   ]
  }
 ],
 "metadata": {
  "kernelspec": {
   "display_name": "Python 3.9.13 64-bit",
   "language": "python",
   "name": "python3"
  },
  "language_info": {
   "codemirror_mode": {
    "name": "ipython",
    "version": 3
   },
   "file_extension": ".py",
   "mimetype": "text/x-python",
   "name": "python",
   "nbconvert_exporter": "python",
   "pygments_lexer": "ipython3",
   "version": "3.9.13"
  },
  "orig_nbformat": 4,
  "vscode": {
   "interpreter": {
    "hash": "1d5c1156327dacead463cc502c55ebae8ce9c8c01979cf154173ff808e75bf55"
   }
  }
 },
 "nbformat": 4,
 "nbformat_minor": 2
}
