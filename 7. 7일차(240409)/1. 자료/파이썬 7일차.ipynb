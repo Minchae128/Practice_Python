{
 "cells": [
  {
   "cell_type": "markdown",
   "metadata": {},
   "source": [
    "### 함수 보충"
   ]
  },
  {
   "cell_type": "markdown",
   "metadata": {},
   "source": [
    "1. 매개변수과 리턴값이 모두 있는 함수\n",
    "\n",
    "도서관에서 책을 빌리기 -> 도서관에 가서 원하는 책이름(매개변수)을 말하고 도서관 사서는 책을 찾아서 준다(반환값 = 책)\n",
    "```python\n",
    "def 책빌리기(책이름):\n",
    "  return f'{책이름}을 대여했습니다'\n",
    "```\n",
    "\n",
    "\n",
    "\n",
    "2. 반환값이 없는 함수\n",
    "\n",
    "방을 정리하기 -> 정리할 방의 이름(매개변수)을 말하면 그 방을 정리한다. 하지만 정리가 끝난 후 따로 받는 것은 없다.(반환값이 없다), 용돈을 받는다면 용돈이 반환값\n",
    "\n",
    "```python\n",
    "def 방정리하기(방이름):\n",
    "  print(f'{방이름}을 정리했습니다.')\n",
    "```\n",
    "\n",
    "\n",
    "\n",
    "3. 매개변수가 없는 함수\n",
    "\n",
    "벽에 있는 달력에서 날짜 확인하기 -> 달력을 보고 오늘 날짜를 확인한다(날짜라는 정보를 받는다), 달력은 이미 주변에 있으므로 변수로 받을 필요 없음\n",
    "\n",
    "```python\n",
    "def 오늘날짜():\n",
    "  return '2024년 04월 08일'\n",
    "```\n",
    "\n",
    "- 매개 변수가 있으려면 달력에서 어느 날짜를 확인 할지?(어제, 오늘 내일)\n",
    "\n",
    "```python\n",
    "def 날짜확인(날짜):\n",
    "  return f'{날짜}는 xxxx년 yy월 zz일' \n",
    "```\n",
    "\n",
    "\n",
    "\n",
    "\n",
    "4. 모두 없는 함수\n",
    "\n",
    "손 흔들기 -> 손을 들어서 인사한다(입력을 받을 필요 없고, 무언가 돌려 받을 필요도 없다)\n",
    "\n",
    "```python\n",
    "def 손흔들기():\n",
    "  print('손을 흔듭니다.')\n",
    "```\n",
    "\n",
    "\n",
    "\n",
    "5. *args\n",
    "\n",
    "과일 샐러드 만들기 -> 원하는 만큼의 과일(사과, 바나나, 포도, 배 등등..)을 선택해서 과일 샐러드(반환값)를 만든다\n",
    "\n",
    "```python\n",
    "def 과일샐러드만들기(*과일들):\n",
    "  샐러드 = ', '.join(과일들) + ' 샐러드'\n",
    "  return f'{샐러드}가 준비되었습니다.'\n",
    "```\n",
    "\n",
    "\n",
    "\n",
    "6. **kwargs\n",
    "\n",
    "소풍 가방 준비하기 -> 사람마다 가져가고 싶은 물건이 다름 -> 물건과 갯수를 넣어서 각자의 소풍 가방을 준비한다\n",
    "\n",
    "```python\n",
    "def 소풍가방(**물건들):\n",
    "    가방 = \"소풍 가방에 넣은 것들:\"\n",
    "    for 물건, 수량 in 물건들.items():\n",
    "        가방 += f\" {물건} {수량}개,\"\n",
    "    return 가방\n",
    "```\n",
    "\n",
    "7. 지역변수 전역변수\n",
    "\n"
   ]
  },
  {
   "cell_type": "markdown",
   "metadata": {},
   "source": [
    "### 중간실습\n",
    "1. 이름을 입력받아 Hello '이름'을 출력하는 함수를 작성하세요\n",
    "2. 문자열을 매개변수로 받아 홀수 번째 문자만을 모아 새로운 문자열을 반환하는 함수를 작성하세요\n",
    "3. 이메일주소를 문자열로 받아 도메인 부분(gmail.com, naver.com)만을 추출하여 반환하는 함수를 작성하세요\n",
    "4. 문자열을 매개변수로 받아 앞뒤 공백을 제거한 새로운 문자열을 반환하는 함수를 작성하세요\n",
    "5. 정수로 이루어진 숫자들을 매개변수로 받아 해당 숫자를 한글의 기본 자음으로 반환 하는 함수를 작성하세요(0=ㄱ, 1=ㄴ, 2=ㄷ.....)\n",
    "6. 정수로 이루어진 리스트를 매개변수로 받아 오름차순, 내림차순으로 정렬된 새로운 리스트를 반환하는 함수를 작성하세요(sort는 반환값이 없음, 어떤 함수를 사용해야 하는지 찾아보세요)\n",
    "7. 리스트를 매개변수로 받아 중복된 요소를 제거한 새로운 리스트를 반환하는 함수를 작성하세요\n",
    "8. 두개의 리스트를 매개면수로 받아 두 리스트 교집합을 찾고 새로운 리스트를 반환하는 함수를 작성하세요\n",
    "9. 리스트를 매개변수로 받아 리스트 내 최대값과 최소값을 반환하는 함수를 작성하세요(파이썬 내장함수 max, min 사용 금지)"
   ]
  },
  {
   "cell_type": "code",
   "execution_count": null,
   "metadata": {},
   "outputs": [],
   "source": [
    "# 1 이름을 입력받아 Hello '이름'을 출력하는 함수를 작성하세요 (반환값 없음)\n",
    "def greet(name):\n",
    "    print(f\"Hello {name}\")\n",
    "\n",
    "greet(\"Alice\")"
   ]
  },
  {
   "cell_type": "code",
   "execution_count": null,
   "metadata": {},
   "outputs": [],
   "source": [
    "# 2 문자열을 매개변수로 받아 홀수 번째 문자만을 모아 새로운 문자열을 반환하는 함수를 작성하세요\n",
    "def odd_characters(string):\n",
    "    return string[::2] # 홀수만 슬라이싱\n",
    "\n",
    "print(odd_characters(\"Hello, World!\"))"
   ]
  },
  {
   "cell_type": "code",
   "execution_count": null,
   "metadata": {},
   "outputs": [],
   "source": [
    "#3 이메일주소를 문자열로 받아 도메인 부분(gmail.com, naver.com)만을 추출하여 반환하는 함수를 작성하세요\n",
    "def extract_domain(email):\n",
    "    return email.split('@')[-1] # @로 split 한 후 맨 뒤 요소를 가져옴\n",
    "\n",
    "print(extract_domain(\"user@example.com\"))"
   ]
  },
  {
   "cell_type": "code",
   "execution_count": null,
   "metadata": {},
   "outputs": [],
   "source": [
    "#4 문자열을 매개변수로 받아 앞뒤 공백을 제거한 새로운 문자열을 반환하는 함수를 작성하세요\n",
    "def trim(string):\n",
    "    return string.strip() # 공백제거\n",
    "\n",
    "print(trim(\"  Hello, World!  \"))"
   ]
  },
  {
   "cell_type": "code",
   "execution_count": null,
   "metadata": {},
   "outputs": [],
   "source": [
    "#5 정수로 이루어진 숫자들을 매개변수로 받아 해당 숫자를 한글의 기본 자음으로 반환 하는 함수를 작성하세요(0=ㄱ, 1=ㄴ, 2=ㄷ.....)\n",
    "def int_to_korean(num):\n",
    "    if 0 <= num <=13:\n",
    "        korean_cha = \"ㄱㄴㄷㄹㅁㅂㅅㅇㅈㅊㅋㅌㅍㅎ\"\n",
    "        return korean_cha[num]\n",
    "    else:\n",
    "        return '0 ~ 13 사이를 넣어주세요'\n",
    "\n",
    "print(int_to_korean(0))  # 'ㄱ'"
   ]
  },
  {
   "cell_type": "code",
   "execution_count": null,
   "metadata": {},
   "outputs": [],
   "source": [
    "#5\n",
    "def int_to_korean(numbers):\n",
    "    korean_cha = \"ㄱㄴㄷㄹㅁㅂㅅㅇㅈㅊㅋㅌㅍㅎ\"\n",
    "    result = \"\"\n",
    "    \n",
    "    for num in numbers:\n",
    "        if 0 <= num <= 13:\n",
    "            result += korean_cha[num]\n",
    "        else:\n",
    "            return '0~13까지의 숫자를 입력해 주세요'\n",
    "    return result\n",
    "\n",
    "# 예제 사용\n",
    "print(int_to_korean([0, 1, 5, 12, 13]))  # 'ㄱㄴㅁㅍㅎ'\n"
   ]
  },
  {
   "cell_type": "code",
   "execution_count": null,
   "metadata": {},
   "outputs": [],
   "source": [
    "#6\n",
    "def sort_numbers(numbers):\n",
    "    return sorted(numbers), sorted(numbers, reverse=True) # 튜플로 반환 sored -> 내장함수\n",
    "\n",
    "list_a = [5, 3, 4, 1, 2]\n",
    "ascending, descending = sort_numbers(list_a)\n",
    "print(ascending)  # [1, 2, 3, 4, 5]\n",
    "print(descending)  # [5, 4, 3, 2, 1]"
   ]
  },
  {
   "cell_type": "code",
   "execution_count": null,
   "metadata": {},
   "outputs": [],
   "source": [
    "#6\n",
    "def sort_numbers(numbers):\n",
    "    list_a.sort()\n",
    "    return sorted(numbers), sorted(numbers, reverse=True) # 튜플로 반환 sored -> 내장함수\n",
    "\n",
    "list_a = [5, 3, 4, 1, 2]\n",
    "ascending, descending = sort_numbers(list_a)\n",
    "print(ascending)  # [1, 2, 3, 4, 5]\n",
    "print(descending)  # [5, 4, 3, 2, 1]"
   ]
  },
  {
   "cell_type": "code",
   "execution_count": null,
   "metadata": {},
   "outputs": [],
   "source": [
    "print(id(list_a))\n",
    "print(id(list_a.sort()))\n",
    "print(id(None))\n",
    "print(id(sorted(list_a)))"
   ]
  },
  {
   "cell_type": "code",
   "execution_count": null,
   "metadata": {},
   "outputs": [],
   "source": [
    "#7\n",
    "def remove_duplicates(lst):\n",
    "    return list(set(lst)) # 중복제거\n",
    "\n",
    "print(remove_duplicates([1, 2, 2, 3, 3, 3, 4]))"
   ]
  },
  {
   "cell_type": "code",
   "execution_count": null,
   "metadata": {},
   "outputs": [],
   "source": [
    "#8\n",
    "def intersection(lst1, lst2):\n",
    "    return list(set(lst1) & set(lst2))\n",
    "\n",
    "print(intersection([1, 2, 3, 4], [3, 4, 5, 6]))"
   ]
  },
  {
   "cell_type": "code",
   "execution_count": null,
   "metadata": {},
   "outputs": [],
   "source": [
    "#9 인덱싱, 슬라이싱\n",
    "def find_max_min(numbers):\n",
    "    max_value = numbers[0] # 최소값, 최대값 변수에 0번 요소를 삽입\n",
    "    min_value = numbers[0]\n",
    "\n",
    "\n",
    "    for num in numbers[1:]: # 인덱싱을 통해 1 ~ 마지막 요소를 반복\n",
    "        if num > max_value:\n",
    "            max_value = num\n",
    "        if num < min_value:\n",
    "            min_value = num\n",
    "    return max_value, min_value\n",
    "\n",
    "max_val, min_val = find_max_min([1, 2, 3, 4, 5])\n",
    "print(f\"Max: {max_val}, Min: {min_val}\")"
   ]
  },
  {
   "cell_type": "code",
   "execution_count": null,
   "metadata": {},
   "outputs": [],
   "source": [
    "#9 range(len())\n",
    "def find_max_min(numbers):\n",
    "    max_value = numbers[0] # 최소값, 최대값 변수에 0번 요소를 삽입\n",
    "    min_value = numbers[0]\n",
    "\n",
    "\n",
    "    for index in range(1, len(numbers)): # range를 통해 index를 얻고 index로 각 요소에 접근, 시작값은 1\n",
    "        if numbers[index] > max_value:\n",
    "            max_value = numbers[index]\n",
    "        if numbers[index] < min_value:\n",
    "            min_value = numbers[index]\n",
    "    return max_value, min_value\n",
    "\n",
    "max_value, min_value = find_max_min([1, 2, 3, 4, 5])\n",
    "print(f\"Max: {max_value}, Min: {min_value}\")"
   ]
  },
  {
   "cell_type": "markdown",
   "metadata": {},
   "source": [
    "## 13 클래스(class)"
   ]
  },
  {
   "cell_type": "markdown",
   "metadata": {},
   "source": [
    "객체를 만들기 위한 틀 (객체 지향 프로그램의 꽃)\n",
    "\n",
    "붕어빵(객체, 인스턴스), 붕어빵 기계(class) or 자동\n",
    "\n",
    "동일한 기능의 객채를 계속해서 만들수 있는 형태이고 각 객체들은 모두 고유한 성격을 지닌다\n",
    "\n",
    "붕어빵을 먹어도 다른 붕어빵에는 영향을 끼치지 않음"
   ]
  },
  {
   "cell_type": "markdown",
   "metadata": {},
   "source": [
    "클래스 기본구조\n",
    "```python\n",
    "class 클래스이름:\n",
    "    def __init__(self, 매개변수1, 매개변수2, ...):\n",
    "        # 인스턴스 변수 초기화\n",
    "        self.매개변수a = 매개변수1\n",
    "        self.매개변수b = 매개변수2\n",
    "        # ...\n",
    "\n",
    "    def 메서드이름1(self, 매개변수3, 매개변수4, ...):\n",
    "        # 메서드1의 구현\n",
    "        # ...\n",
    "\n",
    "    def 메서드이름2(self, 매개변수5, 매개변수6, ...):\n",
    "        # 메서드2의 구현\n",
    "        # ..."
   ]
  },
  {
   "cell_type": "code",
   "execution_count": null,
   "metadata": {},
   "outputs": [],
   "source": [
    "class 붕어빵:\n",
    "    def __init__(self, 재료):\n",
    "        self.재료 = 재료  # 붕어빵의 속재료를 정의\n",
    "\n",
    "    def bake(self):\n",
    "        print(f\"{self.재료} 속재료가 들어간 붕어빵을 굽습니다.\")\n",
    "\n",
    "    def describe(self):\n",
    "        print(f\"이 붕어빵은 {self.재료}로 채워져 있습니다.\")"
   ]
  },
  {
   "cell_type": "code",
   "execution_count": null,
   "metadata": {},
   "outputs": [],
   "source": [
    "팥붕어빵 = 붕어빵('팥')"
   ]
  },
  {
   "cell_type": "code",
   "execution_count": null,
   "metadata": {},
   "outputs": [],
   "source": [
    "팥붕어빵.bake()"
   ]
  },
  {
   "cell_type": "code",
   "execution_count": null,
   "metadata": {},
   "outputs": [],
   "source": [
    "팥붕어빵.describe()"
   ]
  },
  {
   "cell_type": "code",
   "execution_count": null,
   "metadata": {},
   "outputs": [],
   "source": [
    "print(팥붕어빵)"
   ]
  },
  {
   "cell_type": "markdown",
   "metadata": {},
   "source": [
    "학생들의 과목별 성적을 관리하는 프로그램을 클래스로 구현\n",
    "1. 학생이름으로 객체를 생성함\n",
    "2. 과목, 점수를 추가\n",
    "3. 평균을 계산\n",
    "4. 학생의 과목별 점수, 평균 점수를 print 출력\n",
    "\n",
    "이름, 과목,점수를 저장 할 변수가 2개가 필요함  \n",
    "과목, 점수를 변수에 저장"
   ]
  },
  {
   "cell_type": "code",
   "execution_count": null,
   "metadata": {},
   "outputs": [],
   "source": [
    "class Student:\n",
    "  def __init__(self, name):\n",
    "    self.name = name # 이름\n",
    "    self.scores = {} # 과목, 점수를 저장할 딕셔너리\n",
    "\n",
    "  def add_score(self, **kwargs): # kwargs로 딕셔너리로 넣어줌\n",
    "    for subj, score in kwargs.items(): # k, v 언패킹 하면서 반복\n",
    "      self.scores[subj] = score # self.scores[key] = value 형식으로 저장\n",
    "  \n",
    "  def print_score(self):\n",
    "    print(f'{self.name} 학생의 과목별 점수는:')\n",
    "    for subj, score in self.scores.items():\n",
    "      print(f'{subj}: {score}')"
   ]
  },
  {
   "cell_type": "code",
   "execution_count": null,
   "metadata": {},
   "outputs": [],
   "source": [
    "class Student:\n",
    "  def __init__(self, name):\n",
    "    self.name = name\n",
    "    self.scores = {}\n",
    "    self.subj_name = ['국어', '영어', '수학', '과학', '사회', '기술', '가정', '미술', '체육', '음악', '도덕']\n",
    "  \n",
    "  def add_score(self, **kwargs):\n",
    "    for subj, score in kwargs.items():\n",
    "      if subj in self.subj_name: # if 문으로 입력된 과목이 리스트에 포함되어 있는지 확인\n",
    "        self.scores[subj] = score\n",
    "\n",
    "  def cal_average(self):\n",
    "    if self.scores:\n",
    "      return sum(self.scores.values()) / len(self.scores)\n",
    "    else:\n",
    "      return '성적 정보가 없습니다'\n",
    "\n",
    "  def print_score(self):\n",
    "    if self.scores:\n",
    "      print(f'{self.name} 학생의 과목별 점수는:')\n",
    "      for subj, score in self.scores.items():\n",
    "        print(f'{subj} : {score}')\n",
    "      average = self.cal_average() # 함수를 호출 할 때 self 붙여줘야 함\n",
    "      print(f'평균점수: {average:.2f}')\n",
    "    else:\n",
    "      print('성적 정보가 없습니다')\n"
   ]
  },
  {
   "cell_type": "code",
   "execution_count": null,
   "metadata": {},
   "outputs": [],
   "source": [
    "김영욱 = Student('김영욱')"
   ]
  },
  {
   "cell_type": "code",
   "execution_count": null,
   "metadata": {},
   "outputs": [],
   "source": [
    "김영욱.add_score(수학=90, 과학=80)"
   ]
  },
  {
   "cell_type": "code",
   "execution_count": null,
   "metadata": {},
   "outputs": [],
   "source": [
    "김영욱.print_score()"
   ]
  }
 ],
 "metadata": {
  "kernelspec": {
   "display_name": "Python 3",
   "language": "python",
   "name": "python3"
  },
  "language_info": {
   "codemirror_mode": {
    "name": "ipython",
    "version": 3
   },
   "file_extension": ".py",
   "mimetype": "text/x-python",
   "name": "python",
   "nbconvert_exporter": "python",
   "pygments_lexer": "ipython3",
   "version": "3.9.13"
  }
 },
 "nbformat": 4,
 "nbformat_minor": 2
}
