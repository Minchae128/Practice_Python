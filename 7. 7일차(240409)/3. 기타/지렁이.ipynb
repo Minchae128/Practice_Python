{
 "cells": [
  {
   "cell_type": "code",
   "execution_count": 1,
   "metadata": {},
   "outputs": [
    {
     "name": "stdout",
     "output_type": "stream",
     "text": [
      "Collecting pygame\n",
      "  Downloading pygame-2.5.2-cp39-cp39-win_amd64.whl (10.8 MB)\n",
      "     --------------------------------------- 10.8/10.8 MB 11.1 MB/s eta 0:00:00\n",
      "Installing collected packages: pygame\n",
      "Successfully installed pygame-2.5.2\n",
      "Note: you may need to restart the kernel to use updated packages.\n"
     ]
    },
    {
     "name": "stderr",
     "output_type": "stream",
     "text": [
      "WARNING: You are using pip version 22.0.4; however, version 24.0 is available.\n",
      "You should consider upgrading via the 'c:\\Users\\USER\\AppData\\Local\\Programs\\Python\\Python39\\python.exe -m pip install --upgrade pip' command.\n"
     ]
    }
   ],
   "source": [
    "pip install pygame"
   ]
  },
  {
   "cell_type": "code",
   "execution_count": 5,
   "metadata": {},
   "outputs": [
    {
     "ename": "SystemExit",
     "evalue": "",
     "output_type": "error",
     "traceback": [
      "An exception has occurred, use %tb to see the full traceback.\n",
      "\u001b[1;31mSystemExit\u001b[0m\n"
     ]
    }
   ],
   "source": [
    "import pygame\n",
    "import sys\n",
    "import random\n",
    " \n",
    "# Pygame 초기화\n",
    "pygame.init()\n",
    " \n",
    "# 화면 크기 설정\n",
    "screen_width = 800\n",
    "screen_height = 600\n",
    "cell_size = 20\n",
    " \n",
    "# 색상 설정\n",
    "white = (255, 255, 255)\n",
    "black = (0, 0, 0)\n",
    "green = (0, 255, 0)\n",
    " \n",
    "# 화면 생성\n",
    "screen = pygame.display.set_mode((screen_width, screen_height))\n",
    "pygame.display.set_caption(\"지렁이 게임\")\n",
    " \n",
    "# 초기 위치 설정\n",
    "snake_x = screen_width // 2\n",
    "snake_y = screen_height // 2\n",
    " \n",
    "# 초기 방향 설정\n",
    "direction = \"RIGHT\"\n",
    " \n",
    "# 초기 뱀 길이와 몸통 위치 설정\n",
    "snake_length = 1\n",
    "snake_body = [(snake_x, snake_y)]\n",
    " \n",
    "# 초기 음식 위치 설정\n",
    "food_x = random.randint(0, (screen_width // cell_size) - 1) * cell_size\n",
    "food_y = random.randint(0, (screen_height // cell_size) - 1) * cell_size\n",
    " \n",
    "# 게임 변수 설정\n",
    "game_over = False\n",
    "score = 0\n",
    " \n",
    "# 게임 오버 메시지 설정\n",
    "font = pygame.font.Font(None, 36)\n",
    "game_over_text = font.render(\"Game Over\", True, white)\n",
    "game_over_text_rect = game_over_text.get_rect(center=(screen_width // 2, screen_height // 2))\n",
    " \n",
    "# 2초 대기\n",
    "pygame.time.delay(2000)\n",
    " \n",
    "# 게임 루프\n",
    "while not game_over:\n",
    "    for event in pygame.event.get():\n",
    "        if event.type == pygame.QUIT:\n",
    "            game_over = True\n",
    "        elif event.type == pygame.KEYDOWN:\n",
    "            if event.key == pygame.K_UP and direction != \"DOWN\":\n",
    "                direction = \"UP\"\n",
    "            elif event.key == pygame.K_DOWN and direction != \"UP\":\n",
    "                direction = \"DOWN\"\n",
    "            elif event.key == pygame.K_LEFT and direction != \"RIGHT\":\n",
    "                direction = \"LEFT\"\n",
    "            elif event.key == pygame.K_RIGHT and direction != \"LEFT\":\n",
    "                direction = \"RIGHT\"\n",
    " \n",
    "    # 뱀 머리 이동\n",
    "    if direction == \"UP\":\n",
    "        snake_y -= cell_size\n",
    "    elif direction == \"DOWN\":\n",
    "        snake_y += cell_size\n",
    "    elif direction == \"LEFT\":\n",
    "        snake_x -= cell_size\n",
    "    elif direction == \"RIGHT\":\n",
    "        snake_x += cell_size\n",
    " \n",
    "    # 뱀 머리와 음식 충돌 검사\n",
    "    if snake_x == food_x and snake_y == food_y:\n",
    "        score += 1\n",
    "        food_x = random.randint(0, (screen_width // cell_size) - 1) * cell_size\n",
    "        food_y = random.randint(0, (screen_height // cell_size) - 1) * cell_size\n",
    "        snake_length += 1\n",
    " \n",
    "    # 뱀 몸통 길이 관리\n",
    "    snake_body.append((snake_x, snake_y))\n",
    "    if len(snake_body) > snake_length:\n",
    "        del snake_body[0]\n",
    " \n",
    "    # 화면 초기화\n",
    "    screen.fill(black)\n",
    " \n",
    "    # 음식 그리기\n",
    "    pygame.draw.rect(screen, green, (food_x, food_y, cell_size, cell_size))\n",
    " \n",
    "    # 뱀 그리기\n",
    "    for segment in snake_body:\n",
    "        pygame.draw.rect(screen, white, (segment[0], segment[1], cell_size, cell_size))\n",
    " \n",
    "    # 게임 오버 조건 추가: 화면 경계를 벗어났을 때\n",
    "    if (\n",
    "        snake_x >= screen_width\n",
    "        or snake_x < 0\n",
    "        or snake_y >= screen_height\n",
    "        or snake_y < 0\n",
    "    ):\n",
    "        game_over = True\n",
    " \n",
    "    # 점수 표시\n",
    "    font = pygame.font.Font(None, 36)\n",
    "    text = font.render(\"Score: \" + str(score), True, white)\n",
    "    screen.blit(text, (10, 10))\n",
    " \n",
    "    # 게임 오버 상태일 때 게임 오버 메시지 표시\n",
    "    if game_over:\n",
    "        screen.blit(game_over_text, game_over_text_rect)\n",
    " \n",
    "    # 화면 업데이트\n",
    "    pygame.display.update()\n",
    " \n",
    "    # 게임 속도 조절\n",
    "    pygame.time.Clock().tick(10)\n",
    " \n",
    "# 게임 종료 시 창을 닫을 때까지 대기\n",
    "while True:\n",
    "    for event in pygame.event.get():\n",
    "        if event.type == pygame.QUIT:\n",
    "            pygame.quit()\n",
    "            sys.exit()\n"
   ]
  },
  {
   "cell_type": "code",
   "execution_count": null,
   "metadata": {},
   "outputs": [],
   "source": []
  }
 ],
 "metadata": {
  "kernelspec": {
   "display_name": "Python 3.9.13 64-bit",
   "language": "python",
   "name": "python3"
  },
  "language_info": {
   "codemirror_mode": {
    "name": "ipython",
    "version": 3
   },
   "file_extension": ".py",
   "mimetype": "text/x-python",
   "name": "python",
   "nbconvert_exporter": "python",
   "pygments_lexer": "ipython3",
   "version": "3.9.13"
  },
  "orig_nbformat": 4,
  "vscode": {
   "interpreter": {
    "hash": "1d5c1156327dacead463cc502c55ebae8ce9c8c01979cf154173ff808e75bf55"
   }
  }
 },
 "nbformat": 4,
 "nbformat_minor": 2
}
