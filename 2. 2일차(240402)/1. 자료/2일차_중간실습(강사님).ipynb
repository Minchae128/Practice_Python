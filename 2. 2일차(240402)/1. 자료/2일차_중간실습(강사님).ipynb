{
 "cells": [
  {
   "cell_type": "code",
   "execution_count": 1,
   "metadata": {},
   "outputs": [
    {
     "name": "stdout",
     "output_type": "stream",
     "text": [
      "3\n",
      "10\n",
      "10\n"
     ]
    }
   ],
   "source": [
    "# 문제 1\n",
    "# 1. 1부터 10까지의 숫자를 포함하는 리스트를 생성하세요.\n",
    "numbers = [1, 2, 3, 4, 5, 6, 7, 8, 9, 10]\n",
    "\n",
    "# 2. 생성한 리스트에서 세 번째 요소를 출력하세요.\n",
    "print(numbers[2])\n",
    "\n",
    "# 3. 리스트의 마지막 요소를 출력하세요.\n",
    "print(numbers[-1])\n",
    "print(numbers[9])"
   ]
  },
  {
   "cell_type": "code",
   "execution_count": 2,
   "metadata": {},
   "outputs": [
    {
     "name": "stdout",
     "output_type": "stream",
     "text": [
      "['apple', 'kiwi', 'blueberry', 'cherry', 'orange']\n"
     ]
    }
   ],
   "source": [
    "# 문제 2\n",
    "# 1. 다음 문자열을 요소로 하는 리스트를 생성하세요: \"apple\", \"banana\", \"cherry\"\n",
    "fruits = [\"apple\", \"banana\", \"cherry\"]\n",
    "\n",
    "# 2. \"banana\" 대신 \"blueberry\"를 넣어서 리스트를 수정하세요.\n",
    "fruits[1] = \"blueberry\"\n",
    "\n",
    "# 3. 리스트 끝에 \"orange\"를 추가하세요.\n",
    "fruits.append(\"orange\")\n",
    "\n",
    "# 4. 리스트의 두 번째 위치에 \"kiwi\"를 삽입하세요.\n",
    "fruits.insert(1, \"kiwi\")\n",
    "\n",
    "print(fruits)"
   ]
  },
  {
   "cell_type": "code",
   "execution_count": 4,
   "metadata": {},
   "outputs": [
    {
     "name": "stdout",
     "output_type": "stream",
     "text": [
      "오름차순 정렬: [1, 1, 2, 3, 4, 5, 9]\n",
      "최대값: 9\n",
      "최소값: 1\n",
      "리스트 길이: 7\n",
      "\"1\"의 개수: 2\n"
     ]
    }
   ],
   "source": [
    "# 문제 3\n",
    "# 다음 리스트를 사용하세요: [3, 1, 4, 1, 5, 9, 2]\n",
    "numbers = [3, 1, 4, 1, 5, 9, 2]\n",
    "\n",
    "# 2. 리스트를 오름차순으로 정렬하세요.\n",
    "numbers.sort()\n",
    "print(\"오름차순 정렬:\", numbers)\n",
    "\n",
    "# 3. 리스트에서 최대값과 최소값을 찾아 출력하세요.\n",
    "print(\"최대값:\", max(numbers))\n",
    "print(\"최소값:\", min(numbers))\n",
    "\n",
    "# 4. 리스트의 길이를 출력하세요.\n",
    "print(\"리스트 길이:\", len(numbers))\n",
    "\n",
    "# 5. 리스트에서 \"1\"의 개수를 세어 출력하세요.\n",
    "print('\"1\"의 개수:', numbers.count(1))"
   ]
  },
  {
   "cell_type": "code",
   "execution_count": null,
   "metadata": {},
   "outputs": [],
   "source": []
  }
 ],
 "metadata": {
  "kernelspec": {
   "display_name": "Python 3.9.13 64-bit",
   "language": "python",
   "name": "python3"
  },
  "language_info": {
   "codemirror_mode": {
    "name": "ipython",
    "version": 3
   },
   "file_extension": ".py",
   "mimetype": "text/x-python",
   "name": "python",
   "nbconvert_exporter": "python",
   "pygments_lexer": "ipython3",
   "version": "3.9.13"
  },
  "orig_nbformat": 4,
  "vscode": {
   "interpreter": {
    "hash": "1d5c1156327dacead463cc502c55ebae8ce9c8c01979cf154173ff808e75bf55"
   }
  }
 },
 "nbformat": 4,
 "nbformat_minor": 2
}
