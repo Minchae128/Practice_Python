{
 "cells": [
  {
   "cell_type": "markdown",
   "metadata": {},
   "source": [
    "2일차"
   ]
  },
  {
   "cell_type": "markdown",
   "metadata": {},
   "source": [
    "1. 리스트(list)\n",
    "리스트명 = {요소1, 요소2, 요소3, 요소4, .....}"
   ]
  },
  {
   "cell_type": "code",
   "execution_count": 12,
   "metadata": {},
   "outputs": [
    {
     "name": "stdout",
     "output_type": "stream",
     "text": [
      "['Life', 'is', 'too', 'short,', 'You', 'need', 'Python']\n",
      "['p', 'i', 't', 'h', 'o', 'n']\n",
      "['p', 'y', 't', 'h', 'o', 'n']\n"
     ]
    }
   ],
   "source": [
    "a = 'Life is too short, You need Python'\n",
    "b = 'pithon'\n",
    "\n",
    "list_a = a.split()\n",
    "list_b = list(b)\n",
    " \n",
    "print(list_a)\n",
    "print(list_b)\n",
    "\n",
    "# 리스트에 저장된 변수 변경해보기\n",
    "list_b[1] ='y'\n",
    "print(list_b) "
   ]
  },
  {
   "cell_type": "markdown",
   "metadata": {},
   "source": [
    "|Life|is|too|short,|You|need|Python|\n",
    "|---|---|---|---|---|---|---|\n",
    "|0|1|2|3|4|5|6|\n",
    "|-7|-6|-5|-4|-3|-2|-1|"
   ]
  },
  {
   "cell_type": "code",
   "execution_count": 11,
   "metadata": {},
   "outputs": [
    {
     "name": "stdout",
     "output_type": "stream",
     "text": [
      "['Python', 'need', 'You', 'short,', 'too', 'is', 'Life']\n"
     ]
    }
   ],
   "source": [
    "#리스트 역순으로 출력\n",
    "a = 'Life is too short, You need Python'\n",
    "list_a = a.split()\n",
    "\n",
    "reversed_list_a = list(reversed(list_a))\n",
    "print(reversed_list_a)\n"
   ]
  },
  {
   "cell_type": "code",
   "execution_count": 8,
   "metadata": {},
   "outputs": [
    {
     "name": "stdout",
     "output_type": "stream",
     "text": [
      "['too', 'short,', 'You', 'need', 'Python']\n"
     ]
    }
   ],
   "source": [
    "# 리스트 삭제\n",
    "del list_a[0]\n",
    "\n",
    "print(list_a)"
   ]
  },
  {
   "cell_type": "markdown",
   "metadata": {},
   "source": [
    "| 함수      | 설명                                                         |\n",
    "|---------|------------------------------------------------------------|\n",
    "| append  | 리스트 끝에 항목을 추가합니다.  list_a.append(6)                                         |\n",
    "| sort    | 리스트의 요소를 오름차순 또는 내림차순으로 정렬합니다. 설정을 통해 정렬 순서를 변경할 수 있습니다. list_a.sort(), list_a.sort(), list_a.sort(reverse=True)    |\n",
    "| reverse | 리스트의 요소 순서를 뒤집습니다.  list_a.reverse()                                     |\n",
    "| index   | 지정한 요소가 처음으로 나타나는 위치의 인덱스를 반환합니다. 요소가 리스트에 없으면 오류가 발생합니다.  list_a.index(3)|\n",
    "| insert  | 지정한 위치에 요소를 삽입합니다. 위치 인덱스는 리스트의 시작부터 0으로 계산됩니다.  list_a.insert(4, 5) # 4번째 위치에 5를 삽입             |\n",
    "| remove  | 리스트에서 첫 번째로 나오는 지정한 값을 삭제합니다. 요소가 리스트에 없으면 오류가 발생합니다.  list_a.remove(1) # 리스트에서 첫번째로 나오는 1을 제거      |\n",
    "| pop     | 지정한 위치에 있는 요소를 리스트에서 제거하고, 그 값을 반환합니다. 위치를 지정하지 않으면, 마지막 요소를 제거하고 반환합니다.  list_a.pop()  |\n",
    "| count   | 리스트에서 지정한 값이 나타나는 횟수를 반환합니다.  list_a.count(1)                             |\n",
    "| extend  | 리스트 끝에 다른 리스트(또는 반복 가능한 다른 요소)의 모든 항목을 추가합니다.   list_a.extend([4, 5])            |\n",
    "| min     | 리스트 내의 최소값을 반환합니다. 숫자 또는 알파벳 순서로 최소값을 찾을 수 있습니다.   min(list_a)           |\n",
    "| max     | 리스트 내의 최대값을 반환합니다. 숫자 또는 알파벳 순서로 최대값을 찾을 수 있습니다.   max(list_a)           |"
   ]
  },
  {
   "cell_type": "markdown",
   "metadata": {},
   "source": [
    "중간 실습 문제 1\n",
    "1. 1부터 10까지의 숫자를 포함하는 리스트를 생성하세요.\n",
    "2. 생성한 리스트에서 세 번째 요소를 출력하세요.\n",
    "3. 리스트의 마지막 요소를 출력하세요."
   ]
  },
  {
   "cell_type": "code",
   "execution_count": 35,
   "metadata": {},
   "outputs": [
    {
     "name": "stdout",
     "output_type": "stream",
     "text": [
      "['1', '2', '3', '4', '5', '6', '7', '8', '9']\n",
      "3\n",
      "9\n"
     ]
    }
   ],
   "source": [
    "a = '1,2,3,4,5,6,7,8,9'\n",
    "list_a = a.split(\",\")\n",
    "\n",
    "print(list_a)\n",
    "print(list_a[2])\n",
    "print(list_a[-1])"
   ]
  },
  {
   "cell_type": "markdown",
   "metadata": {},
   "source": [
    "중간 실습 문제 2\n",
    "1. 다음 문자열을 요소로 하는 리스트를 생성하세요. \"apple\", \"banana\",\"cherry\"\n",
    "2. \"banana\" 대신 \"blueberry\"를 넣어서 리스트를 수정하세요.\n",
    "3. 리스트 끝에 \"orange\"를 추가하세요.\n",
    "4. 리스트의 두 번째 위치에 \"kiwi\"를 삽입하세요."
   ]
  },
  {
   "cell_type": "code",
   "execution_count": 50,
   "metadata": {},
   "outputs": [
    {
     "name": "stdout",
     "output_type": "stream",
     "text": [
      "['apple', 'banana', 'cherry']\n",
      "['apple', 'blueberry', 'cherry']\n",
      "['apple', 'blueberry', 'cherry', 'orange']\n",
      "['apple', 'kiwi', 'blueberry', 'cherry', 'orange']\n"
     ]
    }
   ],
   "source": [
    "a = \"apple,banana,cherry\"\n",
    "list_a = a.split(\",\")\n",
    "print(list_a)\n",
    "\n",
    "list_a[1] = \"blueberry\"\n",
    "print(list_a)\n",
    "\n",
    "list_a.append(\"orange\")\n",
    "print(list_a)\n",
    "\n",
    "list_a.insert(1, \"kiwi\")\n",
    "print(list_a)\n",
    "\n"
   ]
  },
  {
   "cell_type": "markdown",
   "metadata": {},
   "source": [
    "중간 실습 문제 3\n",
    "1. 다음 리스트를 사용하세요. {3,1,4,1,5,9,2}\n",
    "2. 리스트를 오름차순으로 정렬하세요.\n",
    "3. 리스트에서 최대값과 최소값을 찾아 출력하세요.\n",
    "4. 리스트에 길이를 출력하세요.\n",
    "5. 리스트에서 \"1\"의 개수를 세어 출력하세요."
   ]
  },
  {
   "cell_type": "code",
   "execution_count": 82,
   "metadata": {},
   "outputs": [
    {
     "name": "stdout",
     "output_type": "stream",
     "text": [
      "['3', '1', '4', '1', '5', '9', '2']\n",
      "오름차순 : ['1', '1', '2', '3', '4', '5', '9']\n",
      "최대값 : 9 최소값 : 1\n",
      "리스트 길이 : 7\n",
      "1의 갯수 : 2\n"
     ]
    }
   ],
   "source": [
    "a = \"3,1,4,1,5,9,2\"\n",
    "list_a = a.split(\",\")\n",
    "\n",
    "print(list_a)\n",
    "\n",
    "list_a.sort()\n",
    "print(\"오름차순 : \"+ str(list_a))\n",
    "\n",
    "print(\"최대값 : \" + max(list_a) + \" 최소값 : \" + min(list_a))\n",
    "\n",
    "print(\"리스트 길이 : \"+ str(len(list_a)))\n",
    "\n",
    "print(\"1의 갯수 : \" + str(list_a.count(\"1\")))"
   ]
  },
  {
   "cell_type": "markdown",
   "metadata": {},
   "source": [
    "튜플(tuple)\n",
    "\n",
    "튜플명 = {요소1, 요소2, 요소3, 요소4, ....}\n",
    "요소 추가 삭제 수정 불가능"
   ]
  },
  {
   "cell_type": "markdown",
   "metadata": {},
   "source": [
    "딕셔너리\n",
    "\n",
    "딕셔너리명 = {key1:value1, key2:value2, .......}\n",
    "\n",
    "value 값만 수정 가능\n",
    "순서가 없음\n",
    "\n",
    "|키|값|\n",
    "|---|---|\n",
    "|name|Alice|\n",
    "|age|25|\n",
    "|language|Python|"
   ]
  },
  {
   "cell_type": "code",
   "execution_count": 87,
   "metadata": {},
   "outputs": [
    {
     "name": "stdout",
     "output_type": "stream",
     "text": [
      "{'name': 'Alice', 'age': '25', 'language': 'Python'}\n",
      "<class 'dict'>\n",
      "{'name': 'Alice', 'age': 26, 'language': 'Python'}\n",
      "{'name': 'Alice', 'language': 'Python'}\n"
     ]
    }
   ],
   "source": [
    "my_dict = {'name' : 'Alice', 'age' : '25', 'language' : 'Python'}\n",
    "\n",
    "print(my_dict)\n",
    "print(type(my_dict))\n",
    "\n",
    "my_dict[\"age\"] = 26\n",
    "print(my_dict)\n",
    "\n",
    "del my_dict['age']\n",
    "print(my_dict)"
   ]
  },
  {
   "cell_type": "code",
   "execution_count": 92,
   "metadata": {},
   "outputs": [
    {
     "name": "stdout",
     "output_type": "stream",
     "text": [
      "dict_keys(['name', 'age', 'language'])\n",
      "dict_values(['Alice', '25', 'Python'])\n",
      "None\n"
     ]
    }
   ],
   "source": [
    "my_dict = {'name' : 'Alice', 'age' : '25', 'language' : 'Python'}\n",
    "\n",
    "print(my_dict.keys())\n",
    "print(my_dict.values())"
   ]
  },
  {
   "cell_type": "code",
   "execution_count": 93,
   "metadata": {},
   "outputs": [
    {
     "name": "stdout",
     "output_type": "stream",
     "text": [
      "{}\n"
     ]
    }
   ],
   "source": [
    "my_dict = {'name' : 'Alice', 'age' : '25', 'language' : 'Python'}\n",
    "\n",
    "my_dict.clear()\n",
    "\n",
    "print(my_dict)"
   ]
  },
  {
   "cell_type": "markdown",
   "metadata": {},
   "source": [
    "집합(set)"
   ]
  },
  {
   "cell_type": "code",
   "execution_count": 94,
   "metadata": {},
   "outputs": [],
   "source": [
    "s1 = set() # 빈 집합\n",
    "s2 = {1,2,3,4,5}\n",
    "s3 = set({1,2,3,4,5})"
   ]
  },
  {
   "cell_type": "markdown",
   "metadata": {},
   "source": [
    "|연산|기호|설명|\n",
    "|---|---|---|\n",
    "|교집합|&|두 집합에 모두 있는 요소만 포함하는 새로운 집합을 반환|\n",
    "|합집합|'|'|두 집합의 모든 요소를 포함하는 새로운 집합을 반환 중복은 제거됨|\n",
    "|차집합|-|첫 번재 집합에는 있지만 두 번째 집합에는 없는 요소만 포함하는 새로운 집합을 반환|\n",
    "|대칭 차집합|^|양쪽 집합 중 하나에만 있는 요소를 모두 포함하는 새로운 집합을 반환|"
   ]
  },
  {
   "cell_type": "code",
   "execution_count": 101,
   "metadata": {},
   "outputs": [
    {
     "name": "stdout",
     "output_type": "stream",
     "text": [
      "set()\n"
     ]
    }
   ],
   "source": [
    "s1 = set() # 빈 집합\n",
    "s2 = {1,2,3,4,5}\n",
    "s3 = set({1,2,3,4,5})\n",
    "\n",
    "s2.clear()\n",
    "print(s2)"
   ]
  },
  {
   "cell_type": "markdown",
   "metadata": {},
   "source": [
    "불(bool) 자료형\n",
    "참(true)과 거짓(false)\n",
    "| 값         | 불리언 평가 |\n",
    "|------------|-----------|\n",
    "| `True`     | True      |\n",
    "| `False`    | False     |\n",
    "| `0`        | False     |\n",
    "| `1`        | True      |\n",
    "| `-1`       | True      |\n",
    "| `\"\"` (빈 문자열) | False  |\n",
    "| `\" \"` (공백) | True   |\n",
    "| `[]` (빈 리스트) | False  |\n",
    "| `[1, 2]` (요소가 있는 리스트) | True |\n",
    "| `()` (빈 튜플) | False  |\n",
    "| `(1,)` (요소가 있는 튜플) | True |\n",
    "| `{}` (빈 딕셔너리) | False  |\n",
    "| `{'key': 'value'}` (요소가 있는 딕셔너리) | True |\n",
    "| `None`     | False     |\n",
    "| `set()` (빈 집합) | False  |\n",
    "| `{1, 2}` (요소가 있는 집합) | True |\n",
    "\n",
    "bool()로 찍어볼 수 있음\n",
    "\n",
    "bool(1)and bool(0)"
   ]
  },
  {
   "cell_type": "code",
   "execution_count": 113,
   "metadata": {},
   "outputs": [
    {
     "name": "stdout",
     "output_type": "stream",
     "text": [
      "True\n"
     ]
    }
   ],
   "source": [
    "a = 6\n",
    "b = 11\n",
    "c = int(input());\n",
    "print(not(a <= c))"
   ]
  },
  {
   "cell_type": "markdown",
   "metadata": {},
   "source": [
    "마지막 실습\n",
    "1. [1,2,3,4,5], [4,5,6,7,8] 두 리스트에서 공통된 요소를 찾으세요\n",
    "2. 1-10까지의 리스트이 요소들이 합계를 출력하세요.\n",
    "3. 본인의 이름, 생년월일, 주소지를 딕셔너리에 입력하고 모든 키와 값을 리스트로 변환 후 출력하세요\n",
    "4. 1-10까지의 리스트를 3번 곱한 후 집합 자료형으로 변경해 보세요."
   ]
  },
  {
   "cell_type": "code",
   "execution_count": 126,
   "metadata": {},
   "outputs": [
    {
     "name": "stdout",
     "output_type": "stream",
     "text": [
      "['4', '5']\n",
      "55\n",
      "{'name': '홍길동', 'bth': '240402', 'address': '경기도'}\n",
      "['name', 'bth', 'address'] / ['홍길동', '240402', '경기도']\n",
      "{1, 2, 3, 4, 5, 6, 7, 8, 9, 10}\n"
     ]
    }
   ],
   "source": [
    "#1번\n",
    "a = \"1,2,3,4,5\"\n",
    "list_a = a.split(\",\")\n",
    "\n",
    "b = \"4,5,6,7,8\"\n",
    "list_b = b.split(\",\")\n",
    "\n",
    "intersection = list(set(list_a) & set(list_b))\n",
    "\n",
    "print(intersection)\n",
    "\n",
    "#2번\n",
    "ex = \"1,2,3,4,5,6,7,8,9,10\"\n",
    "list_ex = ex.split(\",\")\n",
    "\n",
    "total = 0\n",
    "for num in list_ex:\n",
    "    total += int(num)\n",
    "\n",
    "print(total)\n",
    "\n",
    "#3번\n",
    "my_dict = {'name': input('이름을 입력하세요: '), 'bth': input('생년월일을 입력하세요: '), 'address': input('주소를 입력하세요: ')}\n",
    "\n",
    "list_key = list(my_dict.keys()) \n",
    "list_value = list(my_dict.values()) \n",
    "\n",
    "print(my_dict)\n",
    "print(list_key, \"/\", list_value)\n",
    "\n",
    "#4번\n",
    "ex = \"1,2,3,4,5,6,7,8,9,10\"\n",
    "list_ex = ex.split(\",\")\n",
    "\n",
    "total = set()\n",
    "for _ in range(3):\n",
    "    for num in list_ex:\n",
    "        total.add(int(num))\n",
    "\n",
    "total = set(total)\n",
    "print(total)\n",
    "\n"
   ]
  },
  {
   "cell_type": "code",
   "execution_count": null,
   "metadata": {},
   "outputs": [],
   "source": []
  }
 ],
 "metadata": {
  "kernelspec": {
   "display_name": "Python 3.9.13 64-bit",
   "language": "python",
   "name": "python3"
  },
  "language_info": {
   "codemirror_mode": {
    "name": "ipython",
    "version": 3
   },
   "file_extension": ".py",
   "mimetype": "text/x-python",
   "name": "python",
   "nbconvert_exporter": "python",
   "pygments_lexer": "ipython3",
   "version": "3.9.13"
  },
  "orig_nbformat": 4,
  "vscode": {
   "interpreter": {
    "hash": "1d5c1156327dacead463cc502c55ebae8ce9c8c01979cf154173ff808e75bf55"
   }
  }
 },
 "nbformat": 4,
 "nbformat_minor": 2
}
