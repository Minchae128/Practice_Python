{
 "cells": [
  {
   "cell_type": "markdown",
   "metadata": {},
   "source": [
    "## 실습"
   ]
  },
  {
   "cell_type": "markdown",
   "metadata": {},
   "source": [
    "학생 점수.csv 파일을 읽어 데이터를 검토해 보세요(이 시험 기간의 날짜는 2022년도로 가정)\n",
    "\n",
    "결측치를 확인하고 어떻게 처리할지 생각해 보세요\n",
    "\n",
    "이상치를 확인하고 어떻게 처리할지 생각해 보세요 (시각화도 해보세요)"
   ]
  },
  {
   "cell_type": "code",
   "execution_count": null,
   "metadata": {},
   "outputs": [],
   "source": [
    "import pandas as pd\n",
    "\n",
    "df = pd.read_csv(\"학생 점수.csv\")"
   ]
  },
  {
   "cell_type": "code",
   "execution_count": null,
   "metadata": {},
   "outputs": [],
   "source": [
    "df.info() # 행이 410개 > 널값 있음"
   ]
  },
  {
   "cell_type": "code",
   "execution_count": null,
   "metadata": {},
   "outputs": [],
   "source": [
    "df.describe() # 점수가 음수인 사람이랑 100점이 넘는 사람이 있는걸 알수 있음"
   ]
  },
  {
   "cell_type": "code",
   "execution_count": null,
   "metadata": {},
   "outputs": [],
   "source": [
    "df.drop_duplicates(subset=['학생'], inplace=True)"
   ]
  },
  {
   "cell_type": "code",
   "execution_count": null,
   "metadata": {},
   "outputs": [],
   "source": [
    "df.info()"
   ]
  },
  {
   "cell_type": "code",
   "execution_count": null,
   "metadata": {},
   "outputs": [],
   "source": [
    "for col in df.columns[1:]: # 코로나로 인해 시험을 못 본 학생들이라 가정하고 평균의 100%로 점수를 채워 줌(이전 시험의 점수로 하는게 정확하나 이전 시험 데이터가 없으므로 평균의 100%로)\n",
    "  if df[col].isna().any():\n",
    "    df[col]= df[col].fillna(value= df[col].mean())"
   ]
  },
  {
   "cell_type": "code",
   "execution_count": null,
   "metadata": {},
   "outputs": [],
   "source": [
    "df.info()"
   ]
  },
  {
   "cell_type": "code",
   "execution_count": null,
   "metadata": {},
   "outputs": [],
   "source": [
    "df.describe()"
   ]
  },
  {
   "cell_type": "code",
   "execution_count": null,
   "metadata": {},
   "outputs": [],
   "source": [
    "import plotly.express as px\n",
    "\n",
    "fig = px.box(df, y=df.columns[1:])\n",
    "fig.show()"
   ]
  },
  {
   "cell_type": "code",
   "execution_count": null,
   "metadata": {},
   "outputs": [],
   "source": [
    "fig = px.histogram(df, x=\"학생\", y=\"평균\")\n",
    "fig.show()"
   ]
  },
  {
   "cell_type": "code",
   "execution_count": null,
   "metadata": {},
   "outputs": [],
   "source": [
    "for col in df.columns[1:]: # 음수를 절대값으로, 최대값을 100으로\n",
    "  df[col] = abs(df[col])\n",
    "  df[col] = df[col].clip(upper=100)"
   ]
  },
  {
   "cell_type": "code",
   "execution_count": null,
   "metadata": {},
   "outputs": [],
   "source": [
    "df.describe()"
   ]
  },
  {
   "cell_type": "code",
   "execution_count": null,
   "metadata": {},
   "outputs": [],
   "source": [
    "df.drop('평균', axis=1, inplace=True)"
   ]
  },
  {
   "cell_type": "code",
   "execution_count": null,
   "metadata": {},
   "outputs": [],
   "source": [
    "df['평균'] = df.iloc[:, 1:].mean(axis=1) # 널값을 채웠으니 평균을 다시 계산함"
   ]
  },
  {
   "cell_type": "code",
   "execution_count": null,
   "metadata": {},
   "outputs": [],
   "source": [
    "df.describe()"
   ]
  },
  {
   "cell_type": "markdown",
   "metadata": {},
   "source": [
    "## 문자열 조작"
   ]
  },
  {
   "cell_type": "markdown",
   "metadata": {},
   "source": [
    "| 메서드            | 설명                                              | 사용 예                                      |\n",
    "|-------------------|--------------------------------------------------|---------------------------------------------|\n",
    "| `str.replace()`   | 특정 문자열을 다른 문자열로 대체합니다.           | `df['Name'].str.replace('김영욱', '김동현')` |\n",
    "| `str.split()`     | 문자열을 지정된 구분자에 따라 분리합니다.          | `df['Data'].str.split(',')`                 |\n",
    "| `str.startswith()`| 문자열이 특정 문자열로 시작하는지 검사합니다.      | `df['Name'].str.startswith('서')`            |\n",
    "| `str.endswith()`  | 문자열이 특정 문자열로 끝나는지 검사합니다.        | `df['File'].str.endswith('.com')`           |\n",
    "| `str.contains()`  | 문자열에 특정 문자열이 포함되어 있는지 검사합니다. | `df['Email'].str.contains('@')`             |\n",
    "| `str.upper()`     | 문자열을 대문자로 변환합니다.                      | `df['Name'].str.upper()`                    |\n",
    "| `str.lower()`     | 문자열을 소문자로 변환합니다.                      | `df['Name'].str.lower()`                    |\n"
   ]
  },
  {
   "cell_type": "code",
   "execution_count": null,
   "metadata": {},
   "outputs": [],
   "source": [
    "import pandas as pd\n",
    "import numpy as np\n",
    "\n",
    "# 데이터프레임 생성\n",
    "data = {\n",
    "    '이름': ['김지수', '박영희', '이민준', '최예원'],\n",
    "    '나이': [28, 22, 21, 30],\n",
    "    '도시': ['서울', '부산', '대구', '광주'],\n",
    "    '직업': ['의사', '변호사', '회계사', '엔지니어'],\n",
    "    '날짜': ['2020, Jan', '2021, Feb', '2020, Mar', '2021, Apr'],\n",
    "    '메일': ['kimjisoo@example.com', 'parkyounghee@example.com', 'leeminjun@example.com', 'kimdonghyun@example.com']\n",
    "}\n",
    "df = pd.DataFrame(data)"
   ]
  },
  {
   "cell_type": "markdown",
   "metadata": {},
   "source": [
    "### 1. replace()"
   ]
  },
  {
   "cell_type": "code",
   "execution_count": null,
   "metadata": {},
   "outputs": [],
   "source": [
    "# 최예원을 김동현으로 raplce\n",
    "\n",
    "df['이름'] = df['이름'].str.replace('최예원', '김동현')\n",
    "df"
   ]
  },
  {
   "cell_type": "code",
   "execution_count": null,
   "metadata": {},
   "outputs": [],
   "source": [
    "# 엔지니어를 개발자로\n",
    "\n",
    "df['직업'] = df['직업'].str.replace('엔지니어', '개발자')\n",
    "df"
   ]
  },
  {
   "cell_type": "code",
   "execution_count": null,
   "metadata": {},
   "outputs": [],
   "source": [
    "df['이름'] = df['이름'].str.replace('지수', '영욱') # 찾으려는 문자열 일부만 있더라도 변경됨\n",
    "df"
   ]
  },
  {
   "cell_type": "markdown",
   "metadata": {},
   "source": [
    "판다스 내장함수 replace"
   ]
  },
  {
   "cell_type": "code",
   "execution_count": null,
   "metadata": {},
   "outputs": [],
   "source": [
    "df['이름'] = df['이름'].replace('영욱', '지수') # 판다스 내장함수 replace는 문자열이 완벽하게 일치해야 변경 가능\n",
    "df"
   ]
  },
  {
   "cell_type": "code",
   "execution_count": null,
   "metadata": {},
   "outputs": [],
   "source": [
    "df['도시'] = df['도시'].replace({'서울':'seoul', '부산':'busan', '대구':'daegu', '광주':'gwangju'}) # 판다스 내장함수의 장점은 딕셔너리 형태로 넣어서 한번에 변경 가능\n",
    "df"
   ]
  },
  {
   "cell_type": "markdown",
   "metadata": {},
   "source": [
    "### 2. split"
   ]
  },
  {
   "cell_type": "code",
   "execution_count": null,
   "metadata": {},
   "outputs": [],
   "source": [
    "# 날짜에서 연도 분리\n",
    "df['년도'] = df['날짜'].str.split(',').str[0]\n",
    "df"
   ]
  },
  {
   "cell_type": "code",
   "execution_count": null,
   "metadata": {},
   "outputs": [],
   "source": [
    "# 메일에서 도메인 분리\n",
    "df['도메인'] = df['메일'].str.split('@').str[1]\n",
    "df"
   ]
  },
  {
   "cell_type": "markdown",
   "metadata": {},
   "source": [
    "### 3. startswith"
   ]
  },
  {
   "cell_type": "markdown",
   "metadata": {},
   "source": [
    "시작 문자열 찾기"
   ]
  },
  {
   "cell_type": "code",
   "execution_count": null,
   "metadata": {},
   "outputs": [],
   "source": [
    "df[df['이름'].str.startswith('김')]"
   ]
  },
  {
   "cell_type": "markdown",
   "metadata": {},
   "source": [
    "### 4. endswith"
   ]
  },
  {
   "cell_type": "markdown",
   "metadata": {},
   "source": [
    "종료 문자열 찾기"
   ]
  },
  {
   "cell_type": "code",
   "execution_count": null,
   "metadata": {},
   "outputs": [],
   "source": [
    "df[df['직업'].str.endswith('사')]"
   ]
  },
  {
   "cell_type": "markdown",
   "metadata": {},
   "source": [
    "### 5. upper, lower"
   ]
  },
  {
   "cell_type": "markdown",
   "metadata": {},
   "source": [
    "이메일의 도메인 부분을 대문자로 바꿔서 도메인 컬럼에 저장"
   ]
  },
  {
   "cell_type": "code",
   "execution_count": null,
   "metadata": {},
   "outputs": [],
   "source": [
    "df['메일'].str.split('@')"
   ]
  },
  {
   "cell_type": "code",
   "execution_count": null,
   "metadata": {},
   "outputs": [],
   "source": [
    "# df['도메인'].str.upper()\n",
    "\n",
    "df['도메인'] = df['메일'].str.split('@').str[1].str.upper()\n",
    "df"
   ]
  },
  {
   "cell_type": "markdown",
   "metadata": {},
   "source": [
    "### 6. contains"
   ]
  },
  {
   "cell_type": "code",
   "execution_count": null,
   "metadata": {},
   "outputs": [],
   "source": [
    "df[df['메일'].str.contains('kim')]"
   ]
  },
  {
   "cell_type": "markdown",
   "metadata": {},
   "source": [
    "## 데이터 타입"
   ]
  },
  {
   "cell_type": "code",
   "execution_count": null,
   "metadata": {},
   "outputs": [],
   "source": [
    "import pandas as pd\n",
    "import numpy as np\n",
    "\n",
    "# 데이터프레임 생성\n",
    "data = {\n",
    "    '이름': ['김지수', '박영희', '이민준', '김동현'],\n",
    "    '나이': [28, 22, 21, 30],\n",
    "    '도시': ['서울', '부산', '대구', '광주'],\n",
    "    '직업': ['의사', '변호사', '회계사', '개발자'],\n",
    "    '날짜': ['2020, Jan', '2021, Feb', '2020, Mar', '2021, Apr'],\n",
    "    '메일': ['kimjisoo@example.com', 'parkyounghee@example.com', 'leeminjun@example.com', 'kimdonghyun@example.com']\n",
    "}\n",
    "df = pd.DataFrame(data)"
   ]
  },
  {
   "cell_type": "code",
   "execution_count": null,
   "metadata": {},
   "outputs": [],
   "source": [
    "df.info()"
   ]
  },
  {
   "cell_type": "code",
   "execution_count": null,
   "metadata": {},
   "outputs": [],
   "source": [
    "df.dtypes"
   ]
  },
  {
   "cell_type": "markdown",
   "metadata": {},
   "source": [
    "### 1. 데이터타입 변경(astype())"
   ]
  },
  {
   "cell_type": "markdown",
   "metadata": {},
   "source": [
    "| 데이터 타입 | 설명 |\n",
    "|-------------|------|\n",
    "| `object`    | 일반적으로 텍스트를 저장하는 데 사용됩니다. |\n",
    "| `int64`     | 정수형 데이터를 저장하는 데 사용됩니다. `int32`나 `int16` 등 크기에 따라 다른 정수 타입도 있습니다. |\n",
    "| `float64`   | 실수형 데이터를 저장하는 데 사용됩니다. `float32`와 같은 다른 크기의 실수 타입도 있습니다. |\n",
    "| `bool`      | Boolean 값(True 또는 False)을 저장하는 데 사용됩니다. |\n",
    "| `category`  | 범주형 데이터를 저장하는 데 사용됩니다. 메모리 사용을 최적화하고, 분석 성능을 향상시킬 수 있습니다. |\n",
    "| `datetime64`| 날짜 및 시간 데이터를 저장하는 데 사용됩니다. |"
   ]
  },
  {
   "cell_type": "code",
   "execution_count": null,
   "metadata": {},
   "outputs": [],
   "source": [
    "df['도시'] = df['도시'].astype('category')"
   ]
  },
  {
   "cell_type": "code",
   "execution_count": null,
   "metadata": {},
   "outputs": [],
   "source": [
    "df['직업'] = df['직업'].astype('category')"
   ]
  },
  {
   "cell_type": "code",
   "execution_count": null,
   "metadata": {},
   "outputs": [],
   "source": [
    "df['나이'] = df['나이'].astype('int64')"
   ]
  },
  {
   "cell_type": "code",
   "execution_count": null,
   "metadata": {},
   "outputs": [],
   "source": [
    "df.info()"
   ]
  },
  {
   "cell_type": "markdown",
   "metadata": {},
   "source": [
    "### 2. 시계열 데이터"
   ]
  },
  {
   "cell_type": "markdown",
   "metadata": {},
   "source": [
    "#### 1. 날짜와 시간 데이터 변환"
   ]
  },
  {
   "cell_type": "code",
   "execution_count": null,
   "metadata": {},
   "outputs": [],
   "source": [
    "data = {\n",
    "  'date': [\n",
    "      \"2023-01-01\", \"2023-01-15\", \"2023-02-01\", \"2023-02-15\", \"2023-03-01\",\n",
    "      \"2023-03-15\", \"2023-04-01\", \"2023-04-15\", \"2023-05-01\", \"2023-05-15\",\n",
    "      \"2023-06-01\", \"2023-06-15\", \"2023-07-01\", \"2023-07-15\"\n",
    "  ],\n",
    "  'value': [\n",
    "      100, 110, 200, 210, 300, 310, 400, 410, 500, 510, 600, 610, 700, 710\n",
    "  ]\n",
    "}\n",
    "\n",
    "df = pd.DataFrame(data)\n",
    "df"
   ]
  },
  {
   "cell_type": "code",
   "execution_count": null,
   "metadata": {},
   "outputs": [],
   "source": [
    "df['date'] = pd.to_datetime(df['date'])"
   ]
  },
  {
   "cell_type": "markdown",
   "metadata": {},
   "source": [
    "| 포맷 코드 | 설명 |\n",
    "|-----------|------|\n",
    "| `%Y`      | 4자리 연도 |\n",
    "| `%y`      | 2자리 연도 |\n",
    "| `%m`      | 2자리 월 (01-12) |\n",
    "| `%d`      | 2자리 일 (01-31) |\n",
    "| `%H`      | 24시간 기준 2자리 시간 (00-23) |\n",
    "| `%I`      | 12시간 기준 2자리 시간 (01-12) |\n",
    "| `%M`      | 2자리 분 (00-59) |\n",
    "| `%S`      | 2자리 초 (00-59) |\n",
    "| `%f`      | 마이크로초 (백만분의 일초) |\n",
    "| `%Z`      | 시간대 이름 (예: 'UTC') |\n",
    "| `%z`      | UTC 오프셋 (예: +0100) |\n",
    "| `%A`      | 요일의 전체 이름 (Sunday, Monday, ...) |\n",
    "| `%a`      | 요일의 짧은 이름 (Sun, Mon, ...) |\n",
    "| `%B`      | 월의 전체 이름 (January, February, ...) |\n",
    "| `%b`      | 월의 짧은 이름 (Jan, Feb, ...) |\n",
    "| `%p`      | AM 또는 PM |"
   ]
  },
  {
   "cell_type": "code",
   "execution_count": null,
   "metadata": {},
   "outputs": [],
   "source": [
    "date_str = '230412, Fri PM_02:30:00'\n",
    "date = pd.to_datetime(date_str, format='%y%m%d, %a %p_%I:%M:%S')"
   ]
  },
  {
   "cell_type": "code",
   "execution_count": null,
   "metadata": {},
   "outputs": [],
   "source": [
    "date"
   ]
  },
  {
   "cell_type": "code",
   "execution_count": null,
   "metadata": {},
   "outputs": [],
   "source": [
    "df.info()"
   ]
  },
  {
   "cell_type": "code",
   "execution_count": null,
   "metadata": {},
   "outputs": [],
   "source": [
    "df.set_index('date', inplace=True) # 인덱스 레이블을 시계열로\n",
    "df"
   ]
  },
  {
   "cell_type": "code",
   "execution_count": null,
   "metadata": {},
   "outputs": [],
   "source": [
    "df.loc['2023-02'] # 특정 기간에 대한 데이터를 쉽게 선택 가능"
   ]
  },
  {
   "cell_type": "markdown",
   "metadata": {},
   "source": [
    "#### 2. 데이터 리샘플링"
   ]
  },
  {
   "cell_type": "markdown",
   "metadata": {},
   "source": [
    "| Rule | 설명 | 예시 |\n",
    "|------|------|------|\n",
    "| `min` | 분 단위 리샘플링 | `df.resample('5min').mean()` - 5분 간격 평균 |\n",
    "| `H`   | 시간 단위 리샘플링 | `df.resample('H').sum()` - 시간당 합계 |\n",
    "| `D`   | 일 단위 리샘플링 | `df.resample('D').mean()` - 일일 평균 |\n",
    "| `W`   | 주 단위 리샘플링 | `df.resample('W').sum()` - 주간 합계 |\n",
    "| `M`   | 월 마지막 날 기준 월 단위 리샘플링 | `df.resample('M').mean()` - 월별 평균 |\n",
    "| `MS`  | 월 시작일 기준 월 단위 리샘플링 | `df.resample('MS').mean()` - 월 시작일 기준 월별 평균 |\n",
    "| `Q`   | 분기 마지막 날 기준 분기 단위 리샘플링 | `df.resample('Q').sum()` - 분기별 합계 |\n",
    "| `QS`  | 분기 시작일 기준 분기 단위 리샘플링 | `df.resample('QS').mean()` - 분기 시작일 기준 분기별 평균 |\n",
    "| `A`   | 연도 마지막 날 기준 연 단위 리샘플링 | `df.resample('A').mean()` - 연간 평균 |\n",
    "| `AS`  | 연도 시작일 기준 연 단위 리샘플링 | `df.resample('AS').mean()` - 연 시작일 기준 연간 평균 |\n",
    "| `B`   | 비즈니스 일 기준 리샘플링 | `df.resample('B').mean()` - 비즈니스 일기준 평균 |"
   ]
  },
  {
   "cell_type": "code",
   "execution_count": null,
   "metadata": {},
   "outputs": [],
   "source": [
    "df_2 = df.resample('ME').mean()"
   ]
  },
  {
   "cell_type": "code",
   "execution_count": null,
   "metadata": {},
   "outputs": [],
   "source": [
    "df_2"
   ]
  },
  {
   "cell_type": "markdown",
   "metadata": {},
   "source": [
    "#### 3. 이동, 지연"
   ]
  },
  {
   "cell_type": "code",
   "execution_count": null,
   "metadata": {},
   "outputs": [],
   "source": [
    "df['shft_value'] = df['value'].shift(1)\n",
    "df"
   ]
  },
  {
   "cell_type": "markdown",
   "metadata": {},
   "source": [
    "#### 4. dt 연산자"
   ]
  },
  {
   "cell_type": "code",
   "execution_count": null,
   "metadata": {},
   "outputs": [],
   "source": [
    "data = {\n",
    "  'date': [\n",
    "      \"2023-01-01\", \"2023-01-15\", \"2023-02-01\", \"2023-02-15\", \"2023-03-01\",\n",
    "      \"2023-03-15\", \"2023-04-01\", \"2023-04-15\", \"2023-05-01\", \"2023-05-15\",\n",
    "      \"2023-06-01\", \"2023-06-15\", \"2023-07-01\", \"2023-07-15\"\n",
    "  ],\n",
    "  'value': [\n",
    "      100, 110, 200, 210, 300, 310, 400, 410, 500, 510, 600, 610, 700, 710\n",
    "  ]\n",
    "}\n",
    "\n",
    "df = pd.DataFrame(data)\n",
    "df['date'] = pd.to_datetime(df['date'])\n",
    "df"
   ]
  },
  {
   "cell_type": "code",
   "execution_count": null,
   "metadata": {},
   "outputs": [],
   "source": [
    "# 날짜 정보 추출\n",
    "df['year'] = df['date'].dt.year   # 년도\n",
    "df['month'] = df['date'].dt.month  # 월\n",
    "df['day'] = df['date'].dt.day    # 일\n",
    "df['day_of_week'] = df['date'].dt.dayofweek  # 요일 (0=월요일, 6=일요일) # 월요일이 0\n",
    "df['day_name'] = df['date'].dt.day_name()  # 요일 이름\n",
    "\n",
    "# 결과 출력\n",
    "df"
   ]
  },
  {
   "cell_type": "markdown",
   "metadata": {},
   "source": [
    "## 데이터 그룹화"
   ]
  },
  {
   "cell_type": "markdown",
   "metadata": {},
   "source": [
    "#### 1. 기본적인 groupby 사용법"
   ]
  },
  {
   "cell_type": "code",
   "execution_count": null,
   "metadata": {},
   "outputs": [],
   "source": [
    "import pandas as pd\n",
    "\n",
    "data = {\n",
    "    'Category': ['A', 'B', 'A', 'B', 'C', 'A', 'B', 'C', 'A', 'B', 'C', 'A', 'C', 'B', 'C', 'A', 'B'],\n",
    "    'Data': [10, 15, 9, 7, 8, 12, 14, 11, 13, 12, 10, 14, 15, 8, 9, 16, 11],\n",
    "    'SubCategory': ['X', 'Y', 'X', 'Y', 'Z', 'X', 'Y', 'Z', 'X', 'Y', 'Z', 'X', 'Z', 'Y', 'Z', 'X', 'Y']\n",
    "}\n",
    "df = pd.DataFrame(data)\n",
    "\n",
    "# 데이터프레임 출력\n",
    "df"
   ]
  },
  {
   "cell_type": "code",
   "execution_count": null,
   "metadata": {},
   "outputs": [],
   "source": [
    "# 'Category' 열에 따라 그룹화하고 각 그룹의 데이터 합계 계산, SubCategory가 문자열이라 문자열 연산으로 다 더해짐\n",
    "grouped = df.groupby('Category').sum()\n",
    "grouped"
   ]
  },
  {
   "cell_type": "code",
   "execution_count": null,
   "metadata": {},
   "outputs": [],
   "source": [
    "# Category 열을 기준으로 그룹화하고, 각 그룹에 대해 Data 열의 합계를 계산\n",
    "grouped = df.groupby('Category')['Data'].sum() # 시리즈 형태\n",
    "grouped"
   ]
  },
  {
   "cell_type": "code",
   "execution_count": null,
   "metadata": {},
   "outputs": [],
   "source": [
    "# 데이터프레임 생성\n",
    "data = {\n",
    "    '이름': ['김지수', '박영희', '이민준', '최예원', '정우성', '조민수', '한예슬', '백두산', '서태지', '아이유', '강호동', '유재석', '신민아', '하정우', '김하늘'],\n",
    "    '나이': [28, 22, 21, 30, 37, 34, 29, 45, 48, 25, 41, 46, 38, 35, 37],\n",
    "    '도시': ['서울', '부산', '대구', '광주', '인천', '서울', '서울', '광주', '대구', '인천', '부산', '서울', '대구', '부산', '서울'],\n",
    "    '직업': ['의사', '변호사', '회계사', '엔지니어', '배우', '회계사', '의사', '엔지니어', '가수', '가수', '방송인', '방송인', '배우', '배우', '배우'],\n",
    "    '점수': [88, 92, 200, 85, 95, 78, 88, 95, 64, 82, 91, 89, 85, 90, 93]\n",
    "}\n",
    "df = pd.DataFrame(data)"
   ]
  },
  {
   "cell_type": "code",
   "execution_count": null,
   "metadata": {},
   "outputs": [],
   "source": [
    "df.groupby('도시')['나이'].mean()"
   ]
  },
  {
   "cell_type": "code",
   "execution_count": null,
   "metadata": {},
   "outputs": [],
   "source": [
    "df.groupby('직업')['점수'].mean()"
   ]
  },
  {
   "cell_type": "code",
   "execution_count": null,
   "metadata": {},
   "outputs": [],
   "source": [
    "df.groupby('직업')[['점수', '나이']].mean()"
   ]
  },
  {
   "cell_type": "markdown",
   "metadata": {},
   "source": [
    "#### 2. 집계 함수 사용"
   ]
  },
  {
   "cell_type": "markdown",
   "metadata": {},
   "source": [
    "집계 함수는 sum(), mean(), max(), min(), count(), std() 등"
   ]
  },
  {
   "cell_type": "code",
   "execution_count": null,
   "metadata": {},
   "outputs": [],
   "source": [
    "df.groupby('직업')[['점수', '나이']].agg(['mean', 'max', 'min'])"
   ]
  },
  {
   "cell_type": "markdown",
   "metadata": {},
   "source": [
    "## 실습"
   ]
  },
  {
   "cell_type": "markdown",
   "metadata": {},
   "source": [
    "실습 파일: CARD_SUBWAY_MONTH_202403.xlsx"
   ]
  },
  {
   "cell_type": "markdown",
   "metadata": {},
   "source": [
    "1. 데이터를 로드하고, 상위 5개 행을 출력하여 데이터를 확인하세요.\n",
    "2. 데이터의 각 컬럼의 데이터 타입과 결측치 유무를 확인하세요.\n",
    "3. 데이터의 타입을 확인하고 자신이 생각한 타입으로 변경해 보세요.(변경 후 메모리 사용량을 한번 더 확인해 보세요)\n",
    "4. 데이터에 대한 기초 통계치(평균, 최소, 최대 등)를 확인하세요.\n",
    "5. 승차총승객수가 5000명 이상인 데이터만 필터링하여 출력하세요.\n",
    "6. '사용일자' 데이터에서 '요일' 정보를 추출하세요.\n",
    "7. 승차총승객수를 기준으로 데이터를 내림차순으로 정렬하세요.\n",
    "8. 7번에서 나온 요일을 '월', '화'... 로 변경하세요.\n",
    "9. 요일을 기준으로 그룹화 하고 요일별 승차 승객수, 하차 승객수 합계, 평균을 확인하세요.\n",
    "10. 역별 총 승차 승객수, 하차 승객수 Top 10을 구하세요.\n",
    "\n",
    "데이터를 보고 분석도 해보세요"
   ]
  },
  {
   "cell_type": "code",
   "execution_count": null,
   "metadata": {},
   "outputs": [],
   "source": [
    "# 1\n",
    "\n",
    "import pandas as pd\n",
    "df = pd.read_excel('CARD_SUBWAY_MONTH_202403.xlsx')\n",
    "print(df.head())"
   ]
  },
  {
   "cell_type": "code",
   "execution_count": null,
   "metadata": {},
   "outputs": [],
   "source": [
    "# 2\n",
    "df.info()"
   ]
  },
  {
   "cell_type": "code",
   "execution_count": null,
   "metadata": {},
   "outputs": [],
   "source": [
    "# 3\n",
    "df['사용일자'] = pd.to_datetime(df['사용일자'], format='%Y%m%d')\n",
    "df['노선명'] = df['노선명'].astype('category')\n",
    "df['역명'] = df['역명'].astype('category')\n",
    "df.info()"
   ]
  },
  {
   "cell_type": "code",
   "execution_count": null,
   "metadata": {},
   "outputs": [],
   "source": [
    "# 4\n",
    "df.describe()"
   ]
  },
  {
   "cell_type": "code",
   "execution_count": null,
   "metadata": {},
   "outputs": [],
   "source": [
    "# 5\n",
    "df[df['승차총승객수'] >= 5000]"
   ]
  },
  {
   "cell_type": "code",
   "execution_count": null,
   "metadata": {},
   "outputs": [],
   "source": [
    "# 6\n",
    "df['요일'] = df['사용일자'].dt.day_of_week\n",
    "df"
   ]
  },
  {
   "cell_type": "code",
   "execution_count": null,
   "metadata": {},
   "outputs": [],
   "source": [
    "# 7\n",
    "df.sort_values(by='승차총승객수', ascending=False, ignore_index=True, inplace=True) # ignore_index > 인덱스 재설정\n",
    "df"
   ]
  },
  {
   "cell_type": "code",
   "execution_count": null,
   "metadata": {},
   "outputs": [],
   "source": [
    "# 8\n",
    "df['요일'] = df['요일'].astype('str')\n",
    "df['요일'] = df['요일'].replace({'0': '월', '1': '화', '2': '수', '3': '목', '4': '금', '5': '토', '6': '일'})\n",
    "df"
   ]
  },
  {
   "cell_type": "code",
   "execution_count": null,
   "metadata": {},
   "outputs": [],
   "source": [
    "grouped = df.groupby('요일')[['승차총승객수', '하차총승객수']].agg(['sum', 'mean'])"
   ]
  },
  {
   "cell_type": "code",
   "execution_count": null,
   "metadata": {},
   "outputs": [],
   "source": [
    "# 9\n",
    "df['요일'] = pd.Categorical(df['요일'], categories=['월', '화', '수', '목', '금', '토', '일'], ordered=True)\n",
    "grouped = df.groupby('요일')[['승차총승객수', '하차총승객수']].agg(['count','sum', 'mean'])\n",
    "grouped"
   ]
  },
  {
   "cell_type": "code",
   "execution_count": null,
   "metadata": {},
   "outputs": [],
   "source": [
    "# 요일에 따른 역의 출연 횟수\n",
    "df.groupby('요일')['역명'].count()"
   ]
  },
  {
   "cell_type": "markdown",
   "metadata": {},
   "source": [
    "금요일이 평균이 낮은 이유 분석\n",
    "\n",
    "금요일에는 더 많은 역에서 운영이 이루어질 수 있고 이는 평균값을 낮출 수 있습니다.\n",
    "\n",
    "목요일에는 특정 역에서 매우 높은 승차 및 하차 수치를 보이는 반면 다른 역에서는 상대적으로 적은 승객이 이용할 수 있습니다.  \n",
    "\n",
    "반면 금요일은 모든 역에서 고르게 승객 수가 분포되어 있어서, 높은 승객 수의 피크가 몇 개 역에 집중되지 않을 수 있습니다."
   ]
  },
  {
   "cell_type": "code",
   "execution_count": null,
   "metadata": {},
   "outputs": [],
   "source": [
    "# 10\n",
    "\n",
    "grouped_on = df.groupby('역명')['승차총승객수'].sum()\n",
    "grouped_on.sort_values(ascending=False, inplace=True)\n",
    "grouped_on.head(10)\n",
    "\n",
    "# df.groupby('역명')['승차총승객수'].sum().sort_values(ascending=False).head(10)"
   ]
  },
  {
   "cell_type": "code",
   "execution_count": null,
   "metadata": {},
   "outputs": [],
   "source": [
    "# 10\n",
    "\n",
    "grouped_off = df.groupby('역명')['하차총승객수'].sum()\n",
    "grouped_off.sort_values(ascending=False, inplace=True)\n",
    "grouped_off.head(10)\n",
    "\n",
    "# df.groupby('역명')['하차총승객수'].sum().sort_values(ascending=False).head(10)"
   ]
  },
  {
   "cell_type": "code",
   "execution_count": 1,
   "metadata": {},
   "outputs": [
    {
     "name": "stderr",
     "output_type": "stream",
     "text": [
      "C:\\Users\\USER\\AppData\\Local\\Temp\\ipykernel_11988\\3736928544.py:16: DtypeWarning: Columns (5) have mixed types. Specify dtype option on import or set low_memory=False.\n",
      "  df = pd.read_csv(file_path, encoding='CP949', usecols=[\"사용일자\", \"노선명\", \"역명\", \"승차총승객수\", \"하차총승객수\", \"등록일자\"]) # 디코딩 오류 예외처리\n"
     ]
    }
   ],
   "source": [
    "import os\n",
    "import pandas as pd\n",
    "\n",
    "# 특정 폴더안에 있는 csv 파일을 찾아 리스트에 저장\n",
    "folder_path = r'C:\\RPA_smc\\Practice_Python\\10. 11일차(240416)\\1. 자료\\역별 승하차 통계'\n",
    "files = os.listdir(folder_path)\n",
    "csv_files = [file for file in files if file.endswith('.csv')]\n",
    "\n",
    "\n",
    "data = []\n",
    "for csv_file in csv_files:\n",
    "    file_path = os.path.join(folder_path, csv_file)\n",
    "    try:\n",
    "        df = pd.read_csv(file_path, usecols=[\"사용일자\", \"노선명\", \"역명\", \"승차총승객수\", \"하차총승객수\", \"등록일자\"])\n",
    "    except UnicodeDecodeError:\n",
    "        df = pd.read_csv(file_path, encoding='CP949', usecols=[\"사용일자\", \"노선명\", \"역명\", \"승차총승객수\", \"하차총승객수\", \"등록일자\"]) # 디코딩 오류 예외처리\n",
    "    data.append(df)\n",
    "\n",
    "df = pd.concat(data, ignore_index=True)"
   ]
  },
  {
   "cell_type": "code",
   "execution_count": 2,
   "metadata": {},
   "outputs": [
    {
     "name": "stderr",
     "output_type": "stream",
     "text": [
      "C:\\Users\\USER\\AppData\\Local\\Temp\\ipykernel_11988\\3148625387.py:5: SettingWithCopyWarning: \n",
      "A value is trying to be set on a copy of a slice from a DataFrame\n",
      "\n",
      "See the caveats in the documentation: https://pandas.pydata.org/pandas-docs/stable/user_guide/indexing.html#returning-a-view-versus-a-copy\n",
      "  filtered_df.drop(['노선명', '역명'], axis=1, inplace=True)\n"
     ]
    },
    {
     "data": {
      "text/html": [
       "<div>\n",
       "<style scoped>\n",
       "    .dataframe tbody tr th:only-of-type {\n",
       "        vertical-align: middle;\n",
       "    }\n",
       "\n",
       "    .dataframe tbody tr th {\n",
       "        vertical-align: top;\n",
       "    }\n",
       "\n",
       "    .dataframe thead th {\n",
       "        text-align: right;\n",
       "    }\n",
       "</style>\n",
       "<table border=\"1\" class=\"dataframe\">\n",
       "  <thead>\n",
       "    <tr style=\"text-align: right;\">\n",
       "      <th></th>\n",
       "      <th>승차총승객수</th>\n",
       "      <th>하차총승객수</th>\n",
       "    </tr>\n",
       "    <tr>\n",
       "      <th>사용일자</th>\n",
       "      <th></th>\n",
       "      <th></th>\n",
       "    </tr>\n",
       "  </thead>\n",
       "  <tbody>\n",
       "    <tr>\n",
       "      <th>2015-01-31</th>\n",
       "      <td>16268.483871</td>\n",
       "      <td>17649.322581</td>\n",
       "    </tr>\n",
       "    <tr>\n",
       "      <th>2015-02-28</th>\n",
       "      <td>15119.214286</td>\n",
       "      <td>16314.892857</td>\n",
       "    </tr>\n",
       "    <tr>\n",
       "      <th>2015-03-31</th>\n",
       "      <td>16885.516129</td>\n",
       "      <td>18440.580645</td>\n",
       "    </tr>\n",
       "    <tr>\n",
       "      <th>2015-04-30</th>\n",
       "      <td>16871.533333</td>\n",
       "      <td>18470.333333</td>\n",
       "    </tr>\n",
       "    <tr>\n",
       "      <th>2015-05-31</th>\n",
       "      <td>16055.354839</td>\n",
       "      <td>17376.774194</td>\n",
       "    </tr>\n",
       "    <tr>\n",
       "      <th>...</th>\n",
       "      <td>...</td>\n",
       "      <td>...</td>\n",
       "    </tr>\n",
       "    <tr>\n",
       "      <th>2023-10-31</th>\n",
       "      <td>16190.258065</td>\n",
       "      <td>16915.548387</td>\n",
       "    </tr>\n",
       "    <tr>\n",
       "      <th>2023-11-30</th>\n",
       "      <td>17575.466667</td>\n",
       "      <td>18343.166667</td>\n",
       "    </tr>\n",
       "    <tr>\n",
       "      <th>2023-12-31</th>\n",
       "      <td>16544.483871</td>\n",
       "      <td>17194.806452</td>\n",
       "    </tr>\n",
       "    <tr>\n",
       "      <th>2024-01-31</th>\n",
       "      <td>17178.096774</td>\n",
       "      <td>17918.387097</td>\n",
       "    </tr>\n",
       "    <tr>\n",
       "      <th>2024-02-29</th>\n",
       "      <td>16010.296296</td>\n",
       "      <td>16682.629630</td>\n",
       "    </tr>\n",
       "  </tbody>\n",
       "</table>\n",
       "<p>110 rows × 2 columns</p>\n",
       "</div>"
      ],
      "text/plain": [
       "                  승차총승객수        하차총승객수\n",
       "사용일자                                  \n",
       "2015-01-31  16268.483871  17649.322581\n",
       "2015-02-28  15119.214286  16314.892857\n",
       "2015-03-31  16885.516129  18440.580645\n",
       "2015-04-30  16871.533333  18470.333333\n",
       "2015-05-31  16055.354839  17376.774194\n",
       "...                  ...           ...\n",
       "2023-10-31  16190.258065  16915.548387\n",
       "2023-11-30  17575.466667  18343.166667\n",
       "2023-12-31  16544.483871  17194.806452\n",
       "2024-01-31  17178.096774  17918.387097\n",
       "2024-02-29  16010.296296  16682.629630\n",
       "\n",
       "[110 rows x 2 columns]"
      ]
     },
     "execution_count": 2,
     "metadata": {},
     "output_type": "execute_result"
    }
   ],
   "source": [
    "df['사용일자'] = pd.to_datetime(df['사용일자'], format='%Y%m%d')\n",
    "df.drop('등록일자', axis=1, inplace=True)\n",
    "filtered_df = df[df['역명'] == '정자']\n",
    "filtered_df.set_index('사용일자', inplace=True)\n",
    "filtered_df.drop(['노선명', '역명'], axis=1, inplace=True)\n",
    "df_end = filtered_df.resample('ME').mean()\n",
    "df_end"
   ]
  },
  {
   "cell_type": "code",
   "execution_count": 3,
   "metadata": {},
   "outputs": [
    {
     "ename": "ValueError",
     "evalue": "Mime type rendering requires nbformat>=4.2.0 but it is not installed",
     "output_type": "error",
     "traceback": [
      "\u001b[1;31m---------------------------------------------------------------------------\u001b[0m",
      "\u001b[1;31mValueError\u001b[0m                                Traceback (most recent call last)",
      "Cell \u001b[1;32mIn[3], line 4\u001b[0m\n\u001b[0;32m      1\u001b[0m \u001b[38;5;28;01mimport\u001b[39;00m \u001b[38;5;21;01mplotly\u001b[39;00m\u001b[38;5;21;01m.\u001b[39;00m\u001b[38;5;21;01mexpress\u001b[39;00m \u001b[38;5;28;01mas\u001b[39;00m \u001b[38;5;21;01mpx\u001b[39;00m\n\u001b[0;32m      3\u001b[0m fig \u001b[38;5;241m=\u001b[39m px\u001b[38;5;241m.\u001b[39mline(df_end, y\u001b[38;5;241m=\u001b[39m\u001b[38;5;124m\"\u001b[39m\u001b[38;5;124m승차총승객수\u001b[39m\u001b[38;5;124m\"\u001b[39m, title\u001b[38;5;241m=\u001b[39m\u001b[38;5;124m'\u001b[39m\u001b[38;5;124m2015~2024.2 정자역 승차총승객수\u001b[39m\u001b[38;5;124m'\u001b[39m)\n\u001b[1;32m----> 4\u001b[0m \u001b[43mfig\u001b[49m\u001b[38;5;241;43m.\u001b[39;49m\u001b[43mshow\u001b[49m\u001b[43m(\u001b[49m\u001b[43m)\u001b[49m\n",
      "File \u001b[1;32mc:\\Users\\USER\\AppData\\Local\\Programs\\Python\\Python39\\lib\\site-packages\\plotly\\basedatatypes.py:3410\u001b[0m, in \u001b[0;36mBaseFigure.show\u001b[1;34m(self, *args, **kwargs)\u001b[0m\n\u001b[0;32m   3377\u001b[0m \u001b[39m\u001b[39m\u001b[39m\"\"\"\u001b[39;00m\n\u001b[0;32m   3378\u001b[0m \u001b[39mShow a figure using either the default renderer(s) or the renderer(s)\u001b[39;00m\n\u001b[0;32m   3379\u001b[0m \u001b[39mspecified by the renderer argument\u001b[39;00m\n\u001b[1;32m   (...)\u001b[0m\n\u001b[0;32m   3406\u001b[0m \u001b[39mNone\u001b[39;00m\n\u001b[0;32m   3407\u001b[0m \u001b[39m\"\"\"\u001b[39;00m\n\u001b[0;32m   3408\u001b[0m \u001b[39mimport\u001b[39;00m \u001b[39mplotly\u001b[39;00m\u001b[39m.\u001b[39;00m\u001b[39mio\u001b[39;00m \u001b[39mas\u001b[39;00m \u001b[39mpio\u001b[39;00m\n\u001b[1;32m-> 3410\u001b[0m \u001b[39mreturn\u001b[39;00m pio\u001b[39m.\u001b[39mshow(\u001b[39mself\u001b[39m, \u001b[39m*\u001b[39margs, \u001b[39m*\u001b[39m\u001b[39m*\u001b[39mkwargs)\n",
      "File \u001b[1;32mc:\\Users\\USER\\AppData\\Local\\Programs\\Python\\Python39\\lib\\site-packages\\plotly\\io\\_renderers.py:394\u001b[0m, in \u001b[0;36mshow\u001b[1;34m(fig, renderer, validate, **kwargs)\u001b[0m\n\u001b[0;32m    389\u001b[0m         \u001b[39mraise\u001b[39;00m \u001b[39mValueError\u001b[39;00m(\n\u001b[0;32m    390\u001b[0m             \u001b[39m\"\u001b[39m\u001b[39mMime type rendering requires ipython but it is not installed\u001b[39m\u001b[39m\"\u001b[39m\n\u001b[0;32m    391\u001b[0m         )\n\u001b[0;32m    393\u001b[0m     \u001b[39mif\u001b[39;00m \u001b[39mnot\u001b[39;00m nbformat \u001b[39mor\u001b[39;00m Version(nbformat\u001b[39m.\u001b[39m__version__) \u001b[39m<\u001b[39m Version(\u001b[39m\"\u001b[39m\u001b[39m4.2.0\u001b[39m\u001b[39m\"\u001b[39m):\n\u001b[1;32m--> 394\u001b[0m         \u001b[39mraise\u001b[39;00m \u001b[39mValueError\u001b[39;00m(\n\u001b[0;32m    395\u001b[0m             \u001b[39m\"\u001b[39m\u001b[39mMime type rendering requires nbformat>=4.2.0 but it is not installed\u001b[39m\u001b[39m\"\u001b[39m\n\u001b[0;32m    396\u001b[0m         )\n\u001b[0;32m    398\u001b[0m     ipython_display\u001b[39m.\u001b[39mdisplay(bundle, raw\u001b[39m=\u001b[39m\u001b[39mTrue\u001b[39;00m)\n\u001b[0;32m    400\u001b[0m \u001b[39m# external renderers\u001b[39;00m\n",
      "\u001b[1;31mValueError\u001b[0m: Mime type rendering requires nbformat>=4.2.0 but it is not installed"
     ]
    }
   ],
   "source": [
    "import plotly.express as px\n",
    "\n",
    "fig = px.line(df_end, y=\"승차총승객수\", title='2015~2024.2 정자역 승차총승객수')\n",
    "fig.show()"
   ]
  },
  {
   "cell_type": "code",
   "execution_count": null,
   "metadata": {},
   "outputs": [],
   "source": [
    "# 프롤리티 플로틀리"
   ]
  }
 ],
 "metadata": {
  "kernelspec": {
   "display_name": "Python 3.9.13 64-bit",
   "language": "python",
   "name": "python3"
  },
  "language_info": {
   "codemirror_mode": {
    "name": "ipython",
    "version": 3
   },
   "file_extension": ".py",
   "mimetype": "text/x-python",
   "name": "python",
   "nbconvert_exporter": "python",
   "pygments_lexer": "ipython3",
   "version": "3.9.13"
  },
  "vscode": {
   "interpreter": {
    "hash": "1d5c1156327dacead463cc502c55ebae8ce9c8c01979cf154173ff808e75bf55"
   }
  }
 },
 "nbformat": 4,
 "nbformat_minor": 2
}
