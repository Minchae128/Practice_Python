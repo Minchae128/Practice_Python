{
 "cells": [
  {
   "cell_type": "code",
   "execution_count": null,
   "metadata": {},
   "outputs": [],
   "source": [
    "# pip install ultralytics"
   ]
  },
  {
   "cell_type": "code",
   "execution_count": 5,
   "metadata": {},
   "outputs": [
    {
     "name": "stdout",
     "output_type": "stream",
     "text": [
      "\n",
      "0: 448x640 8 persons, 87.8ms\n",
      "Speed: 3.0ms preprocess, 87.8ms inference, 843.8ms postprocess per image at shape (1, 3, 448, 640)\n",
      "[ultralytics.engine.results.Results object with attributes:\n",
      "\n",
      "boxes: ultralytics.engine.results.Boxes object\n",
      "keypoints: None\n",
      "masks: None\n",
      "names: {0: 'person', 1: 'bicycle', 2: 'car', 3: 'motorcycle', 4: 'airplane', 5: 'bus', 6: 'train', 7: 'truck', 8: 'boat', 9: 'traffic light', 10: 'fire hydrant', 11: 'stop sign', 12: 'parking meter', 13: 'bench', 14: 'bird', 15: 'cat', 16: 'dog', 17: 'horse', 18: 'sheep', 19: 'cow', 20: 'elephant', 21: 'bear', 22: 'zebra', 23: 'giraffe', 24: 'backpack', 25: 'umbrella', 26: 'handbag', 27: 'tie', 28: 'suitcase', 29: 'frisbee', 30: 'skis', 31: 'snowboard', 32: 'sports ball', 33: 'kite', 34: 'baseball bat', 35: 'baseball glove', 36: 'skateboard', 37: 'surfboard', 38: 'tennis racket', 39: 'bottle', 40: 'wine glass', 41: 'cup', 42: 'fork', 43: 'knife', 44: 'spoon', 45: 'bowl', 46: 'banana', 47: 'apple', 48: 'sandwich', 49: 'orange', 50: 'broccoli', 51: 'carrot', 52: 'hot dog', 53: 'pizza', 54: 'donut', 55: 'cake', 56: 'chair', 57: 'couch', 58: 'potted plant', 59: 'bed', 60: 'dining table', 61: 'toilet', 62: 'tv', 63: 'laptop', 64: 'mouse', 65: 'remote', 66: 'keyboard', 67: 'cell phone', 68: 'microwave', 69: 'oven', 70: 'toaster', 71: 'sink', 72: 'refrigerator', 73: 'book', 74: 'clock', 75: 'vase', 76: 'scissors', 77: 'teddy bear', 78: 'hair drier', 79: 'toothbrush'}\n",
      "obb: None\n",
      "orig_img: array([[[196, 187, 174],\n",
      "        [189, 180, 167],\n",
      "        [189, 178, 164],\n",
      "        ...,\n",
      "        [254, 227, 190],\n",
      "        [254, 227, 190],\n",
      "        [254, 227, 190]],\n",
      "\n",
      "       [[199, 187, 175],\n",
      "        [191, 179, 167],\n",
      "        [187, 176, 162],\n",
      "        ...,\n",
      "        [255, 228, 191],\n",
      "        [254, 227, 190],\n",
      "        [254, 227, 190]],\n",
      "\n",
      "       [[201, 189, 177],\n",
      "        [192, 180, 168],\n",
      "        [186, 175, 161],\n",
      "        ...,\n",
      "        [255, 228, 191],\n",
      "        [254, 227, 190],\n",
      "        [254, 227, 190]],\n",
      "\n",
      "       ...,\n",
      "\n",
      "       [[ 63,  65,  65],\n",
      "        [ 63,  65,  65],\n",
      "        [ 72,  74,  74],\n",
      "        ...,\n",
      "        [ 61,  37,  25],\n",
      "        [ 59,  35,  23],\n",
      "        [ 58,  34,  22]],\n",
      "\n",
      "       [[ 41,  45,  39],\n",
      "        [ 64,  68,  62],\n",
      "        [ 74,  78,  72],\n",
      "        ...,\n",
      "        [ 61,  36,  26],\n",
      "        [ 62,  37,  27],\n",
      "        [ 61,  36,  26]],\n",
      "\n",
      "       [[ 50,  52,  46],\n",
      "        [ 54,  56,  50],\n",
      "        [ 53,  55,  49],\n",
      "        ...,\n",
      "        [ 61,  36,  26],\n",
      "        [ 61,  36,  26],\n",
      "        [ 60,  35,  25]]], dtype=uint8)\n",
      "orig_shape: (666, 1000)\n",
      "path: 'C:\\\\RPA_smc\\\\Practice_Python\\\\12. 13일차(240418)\\\\2. 실습\\\\test_img.jpg'\n",
      "probs: None\n",
      "save_dir: 'runs\\\\detect\\\\predict'\n",
      "speed: {'preprocess': 2.9921531677246094, 'inference': 87.7676010131836, 'postprocess': 843.7659740447998}]\n"
     ]
    }
   ],
   "source": [
    "from ultralytics import YOLO\n",
    "\n",
    "# Load a model\n",
    "model = YOLO('yolov8n.pt')  # pretrained YOLOv8n model\n",
    "\n",
    "# Run batched inference on a list of images\n",
    "results = model(['test_img.jpg'])  # return a list of Results objects\n",
    "\n",
    "print(results)\n",
    "\n",
    "# Process results list\n",
    "for result in results:\n",
    "    boxes = result.boxes  # Boxes object for bounding box outputs\n",
    "    masks = result.masks  # Masks object for segmentation masks outputs\n",
    "    keypoints = result.keypoints  # Keypoints object for pose outputs\n",
    "    probs = result.probs  # Probs object for classification outputs\n",
    "    result.show()  # display to screen\n",
    "    result.save(filename='result.jpg')  # save to disk"
   ]
  },
  {
   "cell_type": "code",
   "execution_count": null,
   "metadata": {},
   "outputs": [],
   "source": []
  }
 ],
 "metadata": {
  "kernelspec": {
   "display_name": "Python 3.9.13 64-bit",
   "language": "python",
   "name": "python3"
  },
  "language_info": {
   "codemirror_mode": {
    "name": "ipython",
    "version": 3
   },
   "file_extension": ".py",
   "mimetype": "text/x-python",
   "name": "python",
   "nbconvert_exporter": "python",
   "pygments_lexer": "ipython3",
   "version": "3.9.13"
  },
  "orig_nbformat": 4,
  "vscode": {
   "interpreter": {
    "hash": "1d5c1156327dacead463cc502c55ebae8ce9c8c01979cf154173ff808e75bf55"
   }
  }
 },
 "nbformat": 4,
 "nbformat_minor": 2
}
