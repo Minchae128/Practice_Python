{
 "cells": [
  {
   "cell_type": "code",
   "execution_count": 1,
   "metadata": {},
   "outputs": [
    {
     "name": "stdout",
     "output_type": "stream",
     "text": [
      "a + b = 7\n",
      "a - b = 3\n",
      "a * b = 10\n",
      "a ** b = 25\n",
      "a / b = 2.5\n",
      "a // b = 2\n",
      "a % b = 1\n"
     ]
    }
   ],
   "source": [
    "# 두 수를 입력 받음\n",
    "a = int(input(\"첫 번째 수 (a): \"))\n",
    "b = int(input(\"두 번째 수 (b): \"))\n",
    "\n",
    "# 연산 수행\n",
    "print(\"a + b =\", a + b)\n",
    "print(\"a - b =\", a - b)\n",
    "print(\"a * b =\", a * b)\n",
    "print(\"a ** b =\", a ** b)\n",
    "print(\"a / b =\", a / b)\n",
    "print(\"a // b =\", a // b)\n",
    "print(\"a % b =\", a % b)"
   ]
  },
  {
   "cell_type": "code",
   "execution_count": null,
   "metadata": {},
   "outputs": [],
   "source": []
  }
 ],
 "metadata": {
  "kernelspec": {
   "display_name": "Python 3.10.6 64-bit (windows store)",
   "language": "python",
   "name": "python3"
  },
  "language_info": {
   "codemirror_mode": {
    "name": "ipython",
    "version": 3
   },
   "file_extension": ".py",
   "mimetype": "text/x-python",
   "name": "python",
   "nbconvert_exporter": "python",
   "pygments_lexer": "ipython3",
   "version": "3.10.11"
  },
  "orig_nbformat": 4,
  "vscode": {
   "interpreter": {
    "hash": "9fcc6fa51be0ad111bbc12f6c1c3e54930c34b0f1ae03fb7b761eacf59634953"
   }
  }
 },
 "nbformat": 4,
 "nbformat_minor": 2
}
