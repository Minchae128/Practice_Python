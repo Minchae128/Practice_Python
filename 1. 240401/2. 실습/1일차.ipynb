{
 "cells": [
  {
   "cell_type": "code",
   "execution_count": 3,
   "metadata": {},
   "outputs": [
    {
     "name": "stdout",
     "output_type": "stream",
     "text": [
      "1\n"
     ]
    }
   ],
   "source": [
    "print(1) # 출력\n",
    "input()  # 입력"
   ]
  },
  {
   "cell_type": "code",
   "execution_count": 5,
   "metadata": {},
   "outputs": [
    {
     "name": "stdout",
     "output_type": "stream",
     "text": [
      "Hello World\n"
     ]
    }
   ],
   "source": [
    "print(input())"
   ]
  },
  {
   "cell_type": "markdown",
   "metadata": {},
   "source": [
    "변수"
   ]
  },
  {
   "cell_type": "code",
   "execution_count": 9,
   "metadata": {},
   "outputs": [
    {
     "name": "stdout",
     "output_type": "stream",
     "text": [
      "Hello World\n",
      "Hello World\n",
      "Hello World\n"
     ]
    }
   ],
   "source": [
    "a = \"Hello World\" # 변수 길이에는 제한이 없다 / 변수이름은 직관적으로 / _ 변수에 사용 가능\n",
    "print(a)\n",
    "\n",
    "a_a = \"Hello World\" # 맨앞에 숫자 사용 안됨 / 원래 선언되어있는 기본 파이썬 용어로 변수 사용 불가능\n",
    "print(a_a)\n",
    "\n",
    "A_a = \"Hello World\" # 대소문자 구분함\n",
    "print(A_a)"
   ]
  },
  {
   "cell_type": "code",
   "execution_count": 2,
   "metadata": {},
   "outputs": [
    {
     "name": "stdout",
     "output_type": "stream",
     "text": [
      "<class 'int'> <class 'int'> <class 'int'>\n"
     ]
    }
   ],
   "source": [
    "# 정수 int\n",
    "\n",
    "a = 123\n",
    "b = -157\n",
    "c = 0\n",
    "\n",
    "print(type(a), type(b), type(c))"
   ]
  },
  {
   "cell_type": "code",
   "execution_count": 3,
   "metadata": {},
   "outputs": [
    {
     "name": "stdout",
     "output_type": "stream",
     "text": [
      "<class 'float'> <class 'float'> <class 'float'>\n"
     ]
    }
   ],
   "source": [
    "# 실수 float\n",
    "\n",
    "a = 1.7\n",
    "b = -12.65\n",
    "c = 3.5e10\n",
    "\n",
    "print(type(a), type(b), type(c))"
   ]
  },
  {
   "cell_type": "markdown",
   "metadata": {},
   "source": [
    "산출 연산자\n",
    "|연산자|기능|산출결과|\n",
    "|------|---|---|\n",
    "|+|뎃셈|5+2 = 7|\n",
    "|-|뺄셈|5-2 = 3|\n",
    "|*|곱셈|5* = 10|\n",
    "|**|제곱|5**2 = 25|\n",
    "|/|나눗셈|5/2 = 2.5|\n",
    "|//|몫|5//2 = 2|\n",
    "|%|나머지 값|5%2 = 1|"
   ]
  },
  {
   "cell_type": "markdown",
   "metadata": {},
   "source": [
    "자료형 변환<br><br>\n",
    "int() : 다른 데이터 타입을 정수형으로 변환<br>\n",
    "float() : 다른 데이터 타입을 실수형으로 변환<br>\n",
    "str() : 다른 데이터 타입을 문자열로 변환<br>\n",
    "<br>\n",
    "자료형 변환을 사용하려면 해당 데이터 타입으로 변환이 가능해야 한다는 점 주의"
   ]
  },
  {
   "cell_type": "code",
   "execution_count": 20,
   "metadata": {},
   "outputs": [
    {
     "name": "stdout",
     "output_type": "stream",
     "text": [
      "2\n",
      "0\n",
      "1\n",
      "1\n",
      "1.0\n",
      "1\n",
      "0\n",
      "<class 'str'>\n"
     ]
    }
   ],
   "source": [
    "# input을 사용하여 a,b 두 수를 받아 a+b , a-b, a*b, a**b, a/b, a//b, a%b를 각 줄에 출력하는 코드를 작성해보시오\n",
    "\n",
    "a = int(input(a));\n",
    "b = int(input(b));\n",
    "\n",
    "print(a + b)\n",
    "print(a - b)\n",
    "print(a * b)\n",
    "print(a ** b)\n",
    "print(a / b)\n",
    "print(a // b)\n",
    "print(a % b)\n",
    "\n",
    "# print(type(input())) input으로 입력 받는 값은 str 즉, 문자열로 받게 된다. 그래서 계산을 하고 싶을때는 데이터 타입을 변경해주어야 한다."
   ]
  },
  {
   "cell_type": "markdown",
   "metadata": {},
   "source": [
    "산출 연산자\n",
    "|연산자|기능|산출결과|산출결과|\n",
    "|------|---|---|---|\n",
    "|+|뎃셈|5+2 = 7|---|\n",
    "|-|뺄셈|5-2 = 3|---|\n",
    "|*|곱셈|5* = 10|---|\n",
    "|**|제곱|5**2 = 25|---|\n",
    "|/|나눗셈|5/2 = 2.5|---|\n",
    "|//|몫|5//2 = 2|---|\n",
    "|%|나머지 값|5%2 = 1|---|"
   ]
  },
  {
   "cell_type": "markdown",
   "metadata": {},
   "source": [
    "문자열"
   ]
  },
  {
   "cell_type": "markdown",
   "metadata": {},
   "source": [
    "이스케이프 코드\n",
    "|코드|설명|\n",
    "|------|---|\n",
    "|\\n|문자열 안에서 줄을 바꿀 때 사용|\n",
    "|\\t|문자열 사이에 탭(tab) 간격을 줄 때 사용|\n",
    "|\\ \\ |\\를 그대로 표현할 때 사용|\n",
    "|\\'|작은따옴표(')를 그대로 표현할 때 사용|\n",
    "|\\\"|큰따옴표(\")를 그대로 표현할 때 사용|\n",
    "|\\r|캐리지 리턴(줄 바꿈 문자, 커서를 현재 줄의 가장 앞으로 이동)|\n",
    "|\\f|폼 피드(줄 바꿈 문자, 커서를 현재 줄의 다음 줄로 이동)|\n",
    "|\\a|벨 소리(출력할 때, PC 스피커에서 '삑'소리가 난다.)|\n",
    "|\\b|백스페이스(한 칸 앞으로 이동할 때 사용)|\n",
    "|\\000|null 문자|"
   ]
  },
  {
   "cell_type": "code",
   "execution_count": 26,
   "metadata": {},
   "outputs": [
    {
     "name": "stdout",
     "output_type": "stream",
     "text": [
      "Hello\n",
      "world\n"
     ]
    }
   ],
   "source": [
    "a = 'Hello World'\n",
    "b = \"Hello World\"\n",
    "c = '''Hello'''\n",
    "d = \"\"\"Hello\"\"\"\n",
    "e = '''H\n",
    "e\n",
    "l\n",
    "l\n",
    "o'''\n",
    "f = \"Hello\"\n",
    "g = 'Hello\\nworld'\n",
    "\n",
    "\n",
    "print(g)\n"
   ]
  },
  {
   "cell_type": "code",
   "execution_count": 29,
   "metadata": {},
   "outputs": [
    {
     "name": "stdout",
     "output_type": "stream",
     "text": [
      "Life is too short, You need Python\n",
      "Life is too short, You need Python\n",
      "Life is too short, You need Python\n",
      "Life is too short, You need Python\n"
     ]
    }
   ],
   "source": [
    "# 문자열 다양하게 사용해 보기 a = Life is too short, You need Python\n",
    "a = 'Life is too short, You need Python'\n",
    "b = \"Life is too short, You need Python\"\n",
    "c = '''Life is too short, You need Python'''\n",
    "d = \"\"\"Life is too short, You need Python\"\"\"\n",
    "\n",
    "print(a)\n",
    "print(b)\n",
    "print(c)\n",
    "print(d)"
   ]
  },
  {
   "cell_type": "code",
   "execution_count": 30,
   "metadata": {},
   "outputs": [
    {
     "name": "stdout",
     "output_type": "stream",
     "text": [
      "HelloWorld\n",
      "HelloHello\n"
     ]
    }
   ],
   "source": [
    "a = 'Hello'\n",
    "b = 'World'\n",
    "\n",
    "print(a + b)\n",
    "print(a * 2)"
   ]
  },
  {
   "cell_type": "code",
   "execution_count": 62,
   "metadata": {},
   "outputs": [
    {
     "name": "stdout",
     "output_type": "stream",
     "text": [
      "Life is too short\n",
      "nohtyP deen uoY ,trohs oot si efiL\n"
     ]
    }
   ],
   "source": [
    "#문자 슬라이싱\n",
    "print(a[:4] + ' ' + a[5:7] + \" \"+ a[8:11] + \" \" + a[12:17])\n",
    "\n",
    "print(a[0] + a)\n",
    "\n",
    "print(a[::-1])"
   ]
  },
  {
   "cell_type": "code",
   "execution_count": 73,
   "metadata": {},
   "outputs": [
    {
     "name": "stdout",
     "output_type": "stream",
     "text": [
      "2024\n",
      "02\n",
      "10\n",
      "Korean Lunar New Year\n",
      "python\n"
     ]
    }
   ],
   "source": [
    "# 1. \"2024.02.10 Korean Lunar New Year\"로 year, month, day, event로 슬라이싱 해보세요\n",
    "# 2. 슬라이싱을 사용하여 \"pithon\" 문자열을 python으로 바꿔보세요\n",
    "a = \"2024.02.10 Korean Lunar New Year\"\n",
    "\n",
    "print(a[:4])\n",
    "print(a[5:7])\n",
    "print(a[8:10])\n",
    "print(a[11:32])\n",
    "\n",
    "b = \"pithon\"\n",
    "\n",
    "print(b[:1]+\"y\"+b[2:6])\n",
    "\n"
   ]
  },
  {
   "cell_type": "code",
   "execution_count": null,
   "metadata": {},
   "outputs": [],
   "source": []
  }
 ],
 "metadata": {
  "kernelspec": {
   "display_name": "Python 3.10.6 64-bit (windows store)",
   "language": "python",
   "name": "python3"
  },
  "language_info": {
   "codemirror_mode": {
    "name": "ipython",
    "version": 3
   },
   "file_extension": ".py",
   "mimetype": "text/x-python",
   "name": "python",
   "nbconvert_exporter": "python",
   "pygments_lexer": "ipython3",
   "version": "3.10.11"
  },
  "orig_nbformat": 4,
  "vscode": {
   "interpreter": {
    "hash": "9fcc6fa51be0ad111bbc12f6c1c3e54930c34b0f1ae03fb7b761eacf59634953"
   }
  }
 },
 "nbformat": 4,
 "nbformat_minor": 2
}
