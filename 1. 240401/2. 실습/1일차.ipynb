{
 "cells": [
  {
   "cell_type": "code",
   "execution_count": 3,
   "metadata": {},
   "outputs": [
    {
     "name": "stdout",
     "output_type": "stream",
     "text": [
      "1\n"
     ]
    }
   ],
   "source": [
    "print(1) # 출력\n",
    "input()  # 입력"
   ]
  },
  {
   "cell_type": "code",
   "execution_count": 5,
   "metadata": {},
   "outputs": [
    {
     "name": "stdout",
     "output_type": "stream",
     "text": [
      "Hello World\n"
     ]
    }
   ],
   "source": [
    "print(input())"
   ]
  },
  {
   "cell_type": "markdown",
   "metadata": {},
   "source": [
    "변수"
   ]
  },
  {
   "cell_type": "code",
   "execution_count": 9,
   "metadata": {},
   "outputs": [
    {
     "name": "stdout",
     "output_type": "stream",
     "text": [
      "Hello World\n",
      "Hello World\n",
      "Hello World\n"
     ]
    }
   ],
   "source": [
    "a = \"Hello World\" # 변수 길이에는 제한이 없다 / 변수이름은 직관적으로 / _ 변수에 사용 가능\n",
    "print(a)\n",
    "\n",
    "a_a = \"Hello World\" # 맨앞에 숫자 사용 안됨 / 원래 선언되어있는 기본 파이썬 용어로 변수 사용 불가능\n",
    "print(a_a)\n",
    "\n",
    "A_a = \"Hello World\" # 대소문자 구분함\n",
    "print(A_a)"
   ]
  },
  {
   "cell_type": "code",
   "execution_count": 2,
   "metadata": {},
   "outputs": [
    {
     "name": "stdout",
     "output_type": "stream",
     "text": [
      "<class 'int'> <class 'int'> <class 'int'>\n"
     ]
    }
   ],
   "source": [
    "# 정수 int\n",
    "\n",
    "a = 123\n",
    "b = -157\n",
    "c = 0\n",
    "\n",
    "print(type(a), type(b), type(c))"
   ]
  },
  {
   "cell_type": "code",
   "execution_count": 3,
   "metadata": {},
   "outputs": [
    {
     "name": "stdout",
     "output_type": "stream",
     "text": [
      "<class 'float'> <class 'float'> <class 'float'>\n"
     ]
    }
   ],
   "source": [
    "# 실수 float\n",
    "\n",
    "a = 1.7\n",
    "b = -12.65\n",
    "c = 3.5e10\n",
    "\n",
    "print(type(a), type(b), type(c))"
   ]
  },
  {
   "cell_type": "markdown",
   "metadata": {},
   "source": [
    "산출 연산자\n",
    "|연산자|기능|산출결과|\n",
    "|------|---|---|\n",
    "|+|뎃셈|5+2 = 7|\n",
    "|-|뺄셈|5-2 = 3|\n",
    "|*|곱셈|5* = 10|\n",
    "|**|제곱|5**2 = 25|\n",
    "|/|나눗셈|5/2 = 2.5|\n",
    "|//|몫|5//2 = 2|\n",
    "|%|나머지 값|5%2 = 1|"
   ]
  },
  {
   "cell_type": "markdown",
   "metadata": {},
   "source": [
    "자료형 변환<br><br>\n",
    "int() : 다른 데이터 타입을 정수형으로 변환<br>\n",
    "float() : 다른 데이터 타입을 실수형으로 변환<br>\n",
    "str() : 다른 데이터 타입을 문자열로 변환<br>\n",
    "<br>\n",
    "자료형 변환을 사용하려면 해당 데이터 타입으로 변환이 가능해야 한다는 점 주의"
   ]
  },
  {
   "cell_type": "code",
   "execution_count": 18,
   "metadata": {},
   "outputs": [
    {
     "name": "stdout",
     "output_type": "stream",
     "text": [
      "7\n",
      "3\n",
      "10\n",
      "25\n",
      "2.5\n",
      "2\n",
      "1\n"
     ]
    }
   ],
   "source": [
    "# input을 사용하여 a,b 두 수를 받아 a+b , a-b, a*b, a**b, a/b, a//b, a%b를 각 줄에 출력하는 코드를 작성해보시오\n",
    "\n",
    "a = int(input(a));\n",
    "b = int(input(b));\n",
    "\n",
    "print(a + b)\n",
    "print(a - b)\n",
    "print(a * b)\n",
    "print(a ** b)\n",
    "print(a / b)\n",
    "print(a // b)\n",
    "print(a % b)"
   ]
  },
  {
   "cell_type": "code",
   "execution_count": null,
   "metadata": {},
   "outputs": [],
   "source": []
  }
 ],
 "metadata": {
  "kernelspec": {
   "display_name": "Python 3.10.6 64-bit (windows store)",
   "language": "python",
   "name": "python3"
  },
  "language_info": {
   "codemirror_mode": {
    "name": "ipython",
    "version": 3
   },
   "file_extension": ".py",
   "mimetype": "text/x-python",
   "name": "python",
   "nbconvert_exporter": "python",
   "pygments_lexer": "ipython3",
   "version": "3.10.11"
  },
  "orig_nbformat": 4,
  "vscode": {
   "interpreter": {
    "hash": "9fcc6fa51be0ad111bbc12f6c1c3e54930c34b0f1ae03fb7b761eacf59634953"
   }
  }
 },
 "nbformat": 4,
 "nbformat_minor": 2
}
