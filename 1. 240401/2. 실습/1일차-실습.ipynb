{
 "cells": [
  {
   "cell_type": "markdown",
   "metadata": {},
   "source": [
    "중간실습 - input , 포매팅 사용\n",
    "1. 포매팅을 사용하여 이름을 입력받아 화면에 'Hello, 이름'을 출력하세요\n",
    "2. 섭씨 온도(C)를 입력받아 화씨 온도(F)로 변환하여 출력하세요(변환공식: F = C * 9/5 + 32)\n",
    "3. 금액을 입력받아, 10%, 20%, 30% 팁을 계산하여 출력하세요\n",
    "4. 문자열을 입력받아 그 문자열의 길이를 구하세요\n",
    "5. 원의 반지름을 입력받아 원의 면적(πr²)과 둘레(2πr)를 출력하세요 (π는 3.14159로 가정)\n",
    "6. 정수 하나를 입력받아 그 수의 2배, 3배, 4배의 값을 한줄에 출력하세요\n",
    "7. 이름을 입력받아 이름의 문자들 사이에 공백을 두고 출력하세요\n",
    "8. 소숫점을 포함한 숫자를 입력받아 소숫점 이하를 제거하고 정수 부분만 출력하세요"
   ]
  },
  {
   "cell_type": "code",
   "execution_count": 5,
   "metadata": {},
   "outputs": [
    {
     "name": "stdout",
     "output_type": "stream",
     "text": [
      "Hello, 홍길동\n"
     ]
    }
   ],
   "source": [
    "# 1\n",
    "print('Hello, {a}'.format(a = input()))"
   ]
  },
  {
   "cell_type": "code",
   "execution_count": 11,
   "metadata": {},
   "outputs": [
    {
     "name": "stdout",
     "output_type": "stream",
     "text": [
      "41.0\n"
     ]
    }
   ],
   "source": [
    "#2\n",
    "a = int(input(a));\n",
    "b = a * 9/5 + 32\n",
    "\n",
    "print(b)"
   ]
  },
  {
   "cell_type": "code",
   "execution_count": 14,
   "metadata": {},
   "outputs": [
    {
     "name": "stdout",
     "output_type": "stream",
     "text": [
      "5.5 11.0 16.5\n"
     ]
    }
   ],
   "source": [
    "#3\n",
    "a = int(input(a));\n",
    "\n",
    "t1 = float(a * 0.1);\n",
    "t2 = float(a * 0.2);\n",
    "t3 = float(a * 0.3);\n",
    "\n",
    "print(t1, t2, t3)"
   ]
  },
  {
   "cell_type": "code",
   "execution_count": 22,
   "metadata": {},
   "outputs": [
    {
     "name": "stdout",
     "output_type": "stream",
     "text": [
      "4\n"
     ]
    }
   ],
   "source": [
    "#4\n",
    "a = input(a);\n",
    "\n",
    "print(len(a))"
   ]
  },
  {
   "cell_type": "code",
   "execution_count": 29,
   "metadata": {},
   "outputs": [
    {
     "name": "stdout",
     "output_type": "stream",
     "text": [
      "113.09724 37.699079999999995\n"
     ]
    }
   ],
   "source": [
    "#5\n",
    "a = int(input(a));\n",
    "pi = float(3.14159)\n",
    "b = float(a * a * pi)\n",
    "c = float(2 * pi * a)\n",
    "\n",
    "print(b, c)\n",
    "\n"
   ]
  },
  {
   "cell_type": "code",
   "execution_count": 30,
   "metadata": {},
   "outputs": [
    {
     "name": "stdout",
     "output_type": "stream",
     "text": [
      "4 6 8\n"
     ]
    }
   ],
   "source": [
    "#6\n",
    "a = int(input(a));\n",
    "\n",
    "t1 = a*2\n",
    "t2 = a*3\n",
    "t3 = a*4\n",
    "\n",
    "print(t1, t2, t3)"
   ]
  },
  {
   "cell_type": "code",
   "execution_count": 26,
   "metadata": {},
   "outputs": [
    {
     "name": "stdout",
     "output_type": "stream",
     "text": [
      "홍 길 동\n"
     ]
    }
   ],
   "source": [
    "#7\n",
    "a = input(a)\n",
    "\n",
    "print(\" \".join(a))"
   ]
  },
  {
   "cell_type": "code",
   "execution_count": 28,
   "metadata": {},
   "outputs": [
    {
     "name": "stdout",
     "output_type": "stream",
     "text": [
      "255\n"
     ]
    }
   ],
   "source": [
    "#8\n",
    "a = float(input(a))\n",
    "\n",
    "print(int(a))"
   ]
  },
  {
   "cell_type": "code",
   "execution_count": null,
   "metadata": {},
   "outputs": [],
   "source": []
  }
 ],
 "metadata": {
  "kernelspec": {
   "display_name": "Python 3.10.6 64-bit (windows store)",
   "language": "python",
   "name": "python3"
  },
  "language_info": {
   "codemirror_mode": {
    "name": "ipython",
    "version": 3
   },
   "file_extension": ".py",
   "mimetype": "text/x-python",
   "name": "python",
   "nbconvert_exporter": "python",
   "pygments_lexer": "ipython3",
   "version": "3.10.11"
  },
  "orig_nbformat": 4,
  "vscode": {
   "interpreter": {
    "hash": "9fcc6fa51be0ad111bbc12f6c1c3e54930c34b0f1ae03fb7b761eacf59634953"
   }
  }
 },
 "nbformat": 4,
 "nbformat_minor": 2
}
