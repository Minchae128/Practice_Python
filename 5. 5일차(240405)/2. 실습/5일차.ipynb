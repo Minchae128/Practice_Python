{
 "cells": [
  {
   "cell_type": "markdown",
   "metadata": {},
   "source": [
    "range(len())\n",
    "\n",
    "list = [1,2,3,4,5,6]"
   ]
  },
  {
   "cell_type": "code",
   "execution_count": 2,
   "metadata": {},
   "outputs": [
    {
     "name": "stdout",
     "output_type": "stream",
     "text": [
      "7\n",
      "range(0, 7)\n",
      "[0, 1, 2, 3, 4, 5, 6]\n"
     ]
    }
   ],
   "source": [
    "list_a = [0,1,2,3,4,5,6]\n",
    "\n",
    "print(len(list_a))\n",
    "print(range(len(list_a)))\n",
    "print(list(range(len(list_a))))"
   ]
  },
  {
   "cell_type": "markdown",
   "metadata": {},
   "source": [
    "1. range 함수를 이용하여 1~10까지 출력하세요\n",
    "2. range 함수를 이용하여 2~20까지 짝수만 출력하세요\n",
    "3. 구구단 단수를 입력하여 입력한 단수의 1~9까지 출력하세요\n",
    "4. [[1, 2], [3, 4], (5, 6), 'ab', 7]이 리스트를 언패킹할 때 나오는 에러메세지를 확인 후 수정하세요\n",
    "5. 4번에서 수정한 리스트를 통해 리스트 안의 리스트의 요소를 출력하세요\n",
    "6. 1부터 100까지 합계를 출력하세요\n",
    "7. range 함수를 사용하여 [\"n\", \"o\", \"h\", \"t\", \"y\", \"p\"]리스트의 요소를 출력하세요\n",
    "8. [\"a\", \"b\", \"c\", \"d\", \"e\", \"f\", \"g\", \"h\", \"i\", \"j\", \"k\"] 리스트 range 함수를 사용하여 \"짝수 번째 인덱스 요소\"만 출력하세요\n",
    "9. 7번에서 사용한 리스트를 동일하게 리스트의 요소를 역순으로 출력하세요\n",
    "10. 1부터 100까지의 숫자를 출력하는데, 3의 배수일 때는 \"Fizz\", 5의 배수일 때는 \"Buzz\", 3과 5의 공배수일 때는 \"FizzBuzz\"를 출력하세요"
   ]
  },
  {
   "cell_type": "code",
   "execution_count": 4,
   "metadata": {},
   "outputs": [
    {
     "name": "stdout",
     "output_type": "stream",
     "text": [
      "1\n",
      "2\n",
      "3\n",
      "4\n",
      "5\n",
      "6\n",
      "7\n",
      "8\n",
      "9\n",
      "10\n"
     ]
    }
   ],
   "source": [
    "# 1 range 함수를 이용하여 1~10까지 출력하세요\n",
    "for i in range(1,11):\n",
    "    print(i)"
   ]
  },
  {
   "cell_type": "code",
   "execution_count": 5,
   "metadata": {},
   "outputs": [
    {
     "name": "stdout",
     "output_type": "stream",
     "text": [
      "2\n",
      "4\n",
      "6\n",
      "8\n",
      "10\n",
      "12\n",
      "14\n",
      "16\n",
      "18\n",
      "20\n"
     ]
    }
   ],
   "source": [
    "# 2 range 함수를 이용하여 2~20까지 짝수만 출력하세요\n",
    "for i in range(1,21):\n",
    "    if i % 2 == 0:\n",
    "        print(i)"
   ]
  },
  {
   "cell_type": "code",
   "execution_count": 6,
   "metadata": {},
   "outputs": [
    {
     "name": "stdout",
     "output_type": "stream",
     "text": [
      "2 * 1 =  2\n",
      "2 * 2 =  4\n",
      "2 * 3 =  6\n",
      "2 * 4 =  8\n",
      "2 * 5 =  10\n",
      "2 * 6 =  12\n",
      "2 * 7 =  14\n",
      "2 * 8 =  16\n",
      "2 * 9 =  18\n"
     ]
    }
   ],
   "source": [
    "# 3 구구단 단수를 입력하여 입력한 단수의 1~9까지 출력하세요\n",
    "i = int(input('출력할 단수를 입력하시오.'))\n",
    "\n",
    "for j in range(1,10):\n",
    "    print(f'{i} * {j} = ',(i*j))"
   ]
  },
  {
   "cell_type": "code",
   "execution_count": 20,
   "metadata": {},
   "outputs": [
    {
     "name": "stdout",
     "output_type": "stream",
     "text": [
      "1 2\n",
      "3 4\n",
      "5 6\n",
      "a b\n",
      "1 2 3 4 5 6 ab\n",
      "7\n"
     ]
    }
   ],
   "source": [
    "# 4. [[1, 2], [3, 4], (5, 6), 'ab', 7]이 리스트를 언패킹할 때 나오는 에러메세지를 확인 후 수정하세요\n",
    "# 에러를 확인해 보면, \"ValueError: too many values to unpack\"라는 메시지가 나옵니다. 이 메시지는 너무 많은 값을 언패킹하려고 했다는 것을 나타냅니다.\n",
    "# 서브리스트를 풀어서 언패킹하는 과정에서 문제가 발생하고 있습니다. \n",
    "# 예를 들어, {1, 2}와 같은 서브리스트는 하나의 값으로 간주되어야 하지만, 현재 코드에서는 이를 i와 j에 각각 할당하려고 시도하고 있습니다.\n",
    "# 따라서, 이 문제를 해결하기 위해서는 리스트 내의 서브리스트와 튜플은 하나의 값으로 취급해야 합니다. \n",
    "# 이를 위해서는 리스트의 요소들을 서브리스트와 튜플이 아닌 다른 방식으로 구성해야 합니다.\n",
    "# 한 가지 방법은 리스트의 서브리스트를 튜플로 변경하는 것입니다. 이를 위해 [] 대신 ()를 사용하여 각 서브리스트를 튜플로 변경하면 됩니다.\n",
    "a = [{1, 2},{3, 4}, {5, 6}, 'ab']\n",
    "\n",
    "for i,j in a:\n",
    "    print(i, j)\n",
    "\n",
    "# 5. 4번에서 수정한 리스트를 통해 리스트 안의 리스트의 요소를 출력하세요\n",
    "a = [(1, 2), (3, 4), (5, 6), 'ab', 7]  # 주어진 리스트 정의\n",
    "\n",
    "for item in a:  # 리스트의 각 요소를 반복문으로 순회\n",
    "    if isinstance(item, (list, tuple)):  # 만약 요소가 리스트 또는 튜플이라면\n",
    "        for element in item:  # 해당 요소를 다시 순회하며\n",
    "            print(element, end=' ')  # 각 요소를 출력합니다. 끝에 공백을 추가하여 한 줄에 출력될 수 있도록 합니다.\n",
    "    else:  # 리스트 또는 튜플이 아니라면\n",
    "        print(item)  # 그대로 출력합니다.\n"
   ]
  },
  {
   "cell_type": "code",
   "execution_count": 8,
   "metadata": {},
   "outputs": [
    {
     "name": "stdout",
     "output_type": "stream",
     "text": [
      "5050\n"
     ]
    }
   ],
   "source": [
    "# 6 1부터 100까지 합계를 출력하세요\n",
    "sum = 0;\n",
    "\n",
    "for i in range(1,101):\n",
    "    sum += i\n",
    "\n",
    "    if i == 100:\n",
    "        print(sum)\n"
   ]
  },
  {
   "cell_type": "code",
   "execution_count": 11,
   "metadata": {},
   "outputs": [
    {
     "name": "stdout",
     "output_type": "stream",
     "text": [
      "n\n",
      "o\n",
      "h\n",
      "t\n",
      "y\n",
      "p\n"
     ]
    }
   ],
   "source": [
    "# 7 range 함수를 사용하여 [\"n\", \"o\", \"h\", \"t\", \"y\", \"p\"]리스트의 요소를 출력하세요\n",
    "\n",
    "list_a = list([\"n\", \"o\", \"h\", \"t\", \"y\", \"p\"])\n",
    "\n",
    "for i in list_a:\n",
    "    print(i)\n"
   ]
  },
  {
   "cell_type": "code",
   "execution_count": 13,
   "metadata": {},
   "outputs": [
    {
     "name": "stdout",
     "output_type": "stream",
     "text": [
      "a\n",
      "c\n",
      "e\n",
      "g\n",
      "i\n",
      "k\n"
     ]
    }
   ],
   "source": [
    "# 8 [\"a\", \"b\", \"c\", \"d\", \"e\", \"f\", \"g\", \"h\", \"i\", \"j\", \"k\"] 리스트 range 함수를 사용하여 \"짝수 번째 인덱스 요소\"만 출력하세요\n",
    "list_a = [\"a\", \"b\", \"c\", \"d\", \"e\", \"f\", \"g\", \"h\", \"i\", \"j\", \"k\"]\n",
    "\n",
    "for i in range(0, len(list_a), 2):  # 짝수 번째 인덱스에 접근\n",
    "    print(list_a[i])"
   ]
  },
  {
   "cell_type": "code",
   "execution_count": 15,
   "metadata": {},
   "outputs": [
    {
     "name": "stdout",
     "output_type": "stream",
     "text": [
      "p\n",
      "y\n",
      "t\n",
      "h\n",
      "o\n",
      "n\n"
     ]
    }
   ],
   "source": [
    "# 9  7번에서 사용한 리스트를 동일하게 리스트의 요소를 역순으로 출력하세요\n",
    "list_a = [\"n\", \"o\", \"h\", \"t\", \"y\", \"p\"]\n",
    "\n",
    "for i in range(len(list_a) - 1, -1, -1):  # 시작 인덱스는 리스트의 마지막 인덱스부터, 끝 인덱스는 -1로, 스텝은 -1로 설정\n",
    "    print(list_a[i])\n"
   ]
  },
  {
   "cell_type": "code",
   "execution_count": 17,
   "metadata": {},
   "outputs": [
    {
     "name": "stdout",
     "output_type": "stream",
     "text": [
      "1\n",
      "2\n",
      "3 \"Fizz\"\n",
      "4\n",
      "5 \"Buzz\"\n",
      "6 \"Fizz\"\n",
      "7\n",
      "8\n",
      "9 \"Fizz\"\n",
      "10 \"Buzz\"\n",
      "11\n",
      "12 \"Fizz\"\n",
      "13\n",
      "14\n",
      "15 \"FizzBuzz\"\n",
      "16\n",
      "17\n",
      "18 \"Fizz\"\n",
      "19\n",
      "20 \"Buzz\"\n",
      "21 \"Fizz\"\n",
      "22\n",
      "23\n",
      "24 \"Fizz\"\n",
      "25 \"Buzz\"\n",
      "26\n",
      "27 \"Fizz\"\n",
      "28\n",
      "29\n",
      "30 \"FizzBuzz\"\n",
      "31\n",
      "32\n",
      "33 \"Fizz\"\n",
      "34\n",
      "35 \"Buzz\"\n",
      "36 \"Fizz\"\n",
      "37\n",
      "38\n",
      "39 \"Fizz\"\n",
      "40 \"Buzz\"\n",
      "41\n",
      "42 \"Fizz\"\n",
      "43\n",
      "44\n",
      "45 \"FizzBuzz\"\n",
      "46\n",
      "47\n",
      "48 \"Fizz\"\n",
      "49\n",
      "50 \"Buzz\"\n",
      "51 \"Fizz\"\n",
      "52\n",
      "53\n",
      "54 \"Fizz\"\n",
      "55 \"Buzz\"\n",
      "56\n",
      "57 \"Fizz\"\n",
      "58\n",
      "59\n",
      "60 \"FizzBuzz\"\n",
      "61\n",
      "62\n",
      "63 \"Fizz\"\n",
      "64\n",
      "65 \"Buzz\"\n",
      "66 \"Fizz\"\n",
      "67\n",
      "68\n",
      "69 \"Fizz\"\n",
      "70 \"Buzz\"\n",
      "71\n",
      "72 \"Fizz\"\n",
      "73\n",
      "74\n",
      "75 \"FizzBuzz\"\n",
      "76\n",
      "77\n",
      "78 \"Fizz\"\n",
      "79\n",
      "80 \"Buzz\"\n",
      "81 \"Fizz\"\n",
      "82\n",
      "83\n",
      "84 \"Fizz\"\n",
      "85 \"Buzz\"\n",
      "86\n",
      "87 \"Fizz\"\n",
      "88\n",
      "89\n",
      "90 \"FizzBuzz\"\n",
      "91\n",
      "92\n",
      "93 \"Fizz\"\n",
      "94\n",
      "95 \"Buzz\"\n",
      "96 \"Fizz\"\n",
      "97\n",
      "98\n",
      "99 \"Fizz\"\n",
      "100 \"Buzz\"\n"
     ]
    }
   ],
   "source": [
    "# 10 1부터 100까지의 숫자를 출력하는데, \n",
    "# 3의 배수일 때는 \"Fizz\", 5의 배수일 때는 \"Buzz\", 3과 5의 공배수일 때는 \"FizzBuzz\"를 출력하세요\n",
    "\n",
    "for i in range(1, 101):\n",
    "    \n",
    "    if i % 3 == 0 and i % 5 ==0:\n",
    "        print(f'{i} \"FizzBuzz\"')\n",
    "    elif i % 5 == 0:\n",
    "        print(f'{i} \"Buzz\"')\n",
    "    elif i % 3 == 0:\n",
    "        print(f'{i} \"Fizz\"')\n",
    "    else:\n",
    "        print(i)"
   ]
  },
  {
   "cell_type": "code",
   "execution_count": 23,
   "metadata": {},
   "outputs": [
    {
     "data": {
      "text/plain": [
       "95"
      ]
     },
     "execution_count": 23,
     "metadata": {},
     "output_type": "execute_result"
    }
   ],
   "source": [
    "from random import randrange\n",
    "\n",
    "randrange(1, 101) # 1~100사이의 값을 랜덤으로 선택하고 반환"
   ]
  },
  {
   "cell_type": "code",
   "execution_count": null,
   "metadata": {},
   "outputs": [],
   "source": []
  }
 ],
 "metadata": {
  "kernelspec": {
   "display_name": "Python 3.9.13 64-bit",
   "language": "python",
   "name": "python3"
  },
  "language_info": {
   "codemirror_mode": {
    "name": "ipython",
    "version": 3
   },
   "file_extension": ".py",
   "mimetype": "text/x-python",
   "name": "python",
   "nbconvert_exporter": "python",
   "pygments_lexer": "ipython3",
   "version": "3.9.13"
  },
  "orig_nbformat": 4,
  "vscode": {
   "interpreter": {
    "hash": "1d5c1156327dacead463cc502c55ebae8ce9c8c01979cf154173ff808e75bf55"
   }
  }
 },
 "nbformat": 4,
 "nbformat_minor": 2
}
