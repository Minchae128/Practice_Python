{
 "cells": [
  {
   "cell_type": "markdown",
   "metadata": {},
   "source": [
    "# 파이썬 교육"
   ]
  },
  {
   "cell_type": "markdown",
   "metadata": {},
   "source": [
    "## 추가(이중 리스트)"
   ]
  },
  {
   "cell_type": "markdown",
   "metadata": {},
   "source": [
    "[1, 2, 3, 4, [5, 6, 7, 8, 9], [10, 11, 12, 13, 14, 15]]\n",
    "\n",
    "| 값 | 1 | 2 | 3 | 4 | [5,6,7,8,9] | [10,11,12,13,14,15] |\n",
    "|-------|---|---|---|---|-------------|---------------------|\n",
    "| 인덱스 | 0 | 1 | 2 | 3 | 4           | 5                   |\n",
    "\n"
   ]
  },
  {
   "cell_type": "markdown",
   "metadata": {},
   "source": [
    "| 값        | 5   | 6   | 7   | 8   | 9   | 10  | 11  | 12  | 13  | 14  | 15  |\n",
    "|--------------|-----|-----|-----|-----|-----|-----|-----|-----|-----|-----|-----|\n",
    "| 중첩 인덱스 | 4-0 | 4-1 | 4-2 | 4-3 | 4-4 | 5-0 | 5-1 | 5-2 | 5-3 | 5-4 | 5-5 |"
   ]
  },
  {
   "cell_type": "code",
   "execution_count": 34,
   "metadata": {},
   "outputs": [],
   "source": [
    "a = [1, 2, 3, 4, [5, 6, 7, 8, 9], [10, 11, 12, 13, 14, 15]]"
   ]
  },
  {
   "cell_type": "code",
   "execution_count": 35,
   "metadata": {},
   "outputs": [
    {
     "data": {
      "text/plain": [
       "[5, 6, 7, 8, 9]"
      ]
     },
     "execution_count": 35,
     "metadata": {},
     "output_type": "execute_result"
    }
   ],
   "source": [
    "a[4]"
   ]
  },
  {
   "cell_type": "code",
   "execution_count": 36,
   "metadata": {},
   "outputs": [
    {
     "data": {
      "text/plain": [
       "[5, 6]"
      ]
     },
     "execution_count": 36,
     "metadata": {},
     "output_type": "execute_result"
    }
   ],
   "source": [
    "a[4][:2]"
   ]
  },
  {
   "cell_type": "markdown",
   "metadata": {},
   "source": [
    "## 10. 제어문"
   ]
  },
  {
   "cell_type": "markdown",
   "metadata": {},
   "source": [
    "### 1. if 문"
   ]
  },
  {
   "cell_type": "markdown",
   "metadata": {},
   "source": [
    "if문은 조건을 평가하여 해당 조건이 참(True)인 경우에만 지정된 블록의 코드를 실행하는 조건문\n",
    "\n",
    "if문을 만들 때는 if 조건문:(콜론) 다음 문장부터 모든 문장에 들여쓰기를 해야한다."
   ]
  },
  {
   "cell_type": "code",
   "execution_count": null,
   "metadata": {},
   "outputs": [],
   "source": [
    "is_open = True\n",
    "\n",
    "# 조건문에서 사용\n",
    "\n",
    "if is_open:\n",
    "  print('문이 열렸습니다')\n",
    "else:\n",
    "  print('문이 닫혔습니다')"
   ]
  },
  {
   "cell_type": "markdown",
   "metadata": {},
   "source": [
    "#### 1. 비교연산자\n",
    "| 비교연산자 | 설명                |\n",
    "|------------|---------------------|\n",
    "| x < y      | x가 y보다 작다.     |\n",
    "| x > y      | x가 y보다 크다.     |\n",
    "| x == y     | x와 y가 같다.       |\n",
    "| x != y     | x와 y가 같지 않다.  |\n",
    "| x >= y     | x가 y보다 크거나 같다. |\n",
    "| x <= y     | x가 y보다 작거나 같다. |"
   ]
  },
  {
   "cell_type": "markdown",
   "metadata": {},
   "source": [
    "#### 2. 불 연산자\n",
    "| 불 연산자 | 설명                                                    |\n",
    "|---------------|---------------------------------------------------------|\n",
    "| `and`         | 두 조건이 모두 참(True)일 때만 참을 반환합니다.             |\n",
    "| `or`          | 두 조건 중 하나라도 참(True)이면 참을 반환합니다.           |\n",
    "| `not`         | 참(True)을 거짓(False)으로, 거짓을 참으로 반전시킵니다.      |"
   ]
  },
  {
   "cell_type": "markdown",
   "metadata": {},
   "source": [
    "#### 3. in, not in\n",
    "| 연산자   | 사용 예                | 설명                                      |\n",
    "|----------|------------------------|------------------------------------------|\n",
    "| `in`     | `x in 리스트`          | `x`가 리스트 내에 있으면 `True` 반환      |\n",
    "| `not in` | `x not in 리스트`      | `x`가 리스트 내에 없으면 `True` 반환      |\n",
    "| `in`     | `x in 튜플`            | `x`가 튜플 내에 있으면 `True` 반환        |\n",
    "| `not in` | `x not in 튜플`        | `x`가 튜플 내에 없으면 `True` 반환        |\n",
    "| `in`     | `x in 문자열`          | `x`가 문자열 내에 있으면 `True` 반환      |\n",
    "| `not in` | `x not in 문자열`      | `x`가 문자열 내에 없으면 `True` 반환      |\n"
   ]
  },
  {
   "cell_type": "markdown",
   "metadata": {},
   "source": [
    "#### if 문 기본 구조\n",
    "```python\n",
    "if 조건:\n",
    "    # 조건이 참(True)일 때 실행할 코드\n",
    "```"
   ]
  },
  {
   "cell_type": "markdown",
   "metadata": {},
   "source": [
    "나이('age')가 20세 이상일 경우에 '성인입니다.'라고 출력하세요"
   ]
  },
  {
   "cell_type": "code",
   "execution_count": 7,
   "metadata": {},
   "outputs": [
    {
     "name": "stdout",
     "output_type": "stream",
     "text": [
      "성인입니다.\n"
     ]
    }
   ],
   "source": [
    "#\n",
    "age = 20\n",
    "if age >= 20:\n",
    "    print('성인입니다.')"
   ]
  },
  {
   "cell_type": "markdown",
   "metadata": {},
   "source": [
    "#### else\n",
    "```python\n",
    "if 조건:\n",
    "    # 조건이 참(True)일 때 실행할 코드\n",
    "else:\n",
    "    # 조건이 거짓(False)일 때 실행할 코드"
   ]
  },
  {
   "cell_type": "markdown",
   "metadata": {},
   "source": [
    "나이('age')가 20세 이상일 경우에 '성인입니다.'라고 출력하고 그렇지 않으면 '미성년자입니다.'라고 출력하세요"
   ]
  },
  {
   "cell_type": "code",
   "execution_count": 1,
   "metadata": {},
   "outputs": [
    {
     "name": "stdout",
     "output_type": "stream",
     "text": [
      "미성년자입니다\n"
     ]
    }
   ],
   "source": [
    "#\n",
    "age = 18\n",
    "if age >= 20:\n",
    "    print('성인입니다.')\n",
    "else:\n",
    "    print('미성년자입니다')"
   ]
  },
  {
   "cell_type": "markdown",
   "metadata": {},
   "source": [
    "#### elif (여러 조건을 나란히 평가하고자 할때)\n",
    "```python\n",
    "if 조건1:\n",
    "    # 조건1이 참일 때 실행할 코드\n",
    "elif 조건2:\n",
    "    # 조건1이 거짓이고 조건2가 참일 때 실행할 코드\n",
    "else:\n",
    "    # 모든 조건이 거짓일 때 실행할 코드"
   ]
  },
  {
   "cell_type": "markdown",
   "metadata": {},
   "source": [
    "점수('score')가 90점 이상이면 'A학점입니다.', 80점 이상, 90점 미만이면 'B학점입니다.', 그 이하면 'C학점입니다.'라고 출력하세요"
   ]
  },
  {
   "cell_type": "code",
   "execution_count": 10,
   "metadata": {},
   "outputs": [
    {
     "name": "stdout",
     "output_type": "stream",
     "text": [
      "B학점입니다.\n"
     ]
    }
   ],
   "source": [
    "#\n",
    "score = 89\n",
    "if score >= 90:\n",
    "    print('A학점입니다.')\n",
    "elif score >= 80:\n",
    "    print('B학점입니다.')\n",
    "else:\n",
    "    print('C학점입니다.')"
   ]
  },
  {
   "cell_type": "markdown",
   "metadata": {},
   "source": [
    "#### 중첩 if문 (세부적인 조건을 검사, 여러 단계의 조건을 체크해야 할 때)\n",
    "```python\n",
    "if 조건1:\n",
    "    # 조건1이 참일 때 실행할 코드\n",
    "    if 조건1-1:\n",
    "        # 조건1이 참이고, 추가적인 조건1-1도 참일 때 실행할 코드\n",
    "    else:\n",
    "        # 조건1은 참이지만, 조건1-1은 거짓일 때 실행할 코드\n",
    "else:\n",
    "    # 조건1이 거짓일 때 실행할 코드"
   ]
  },
  {
   "cell_type": "markdown",
   "metadata": {},
   "source": [
    "나이('age')가 20세 미만이면 '미성년자입니다', 나이가 20세 이상이고 학생('is_student')가 참이면 '대학생입니다.', 거짓이면 '성인입니다'를 출력하세요"
   ]
  },
  {
   "cell_type": "code",
   "execution_count": 11,
   "metadata": {},
   "outputs": [
    {
     "name": "stdout",
     "output_type": "stream",
     "text": [
      "대학생입니다.\n"
     ]
    }
   ],
   "source": [
    "#\n",
    "age = 25\n",
    "is_student = True\n",
    "\n",
    "if age < 20:\n",
    "    print('미성년자입니다.')\n",
    "else:\n",
    "    if is_student:\n",
    "        print('대학생입니다.')\n",
    "    else:\n",
    "        print('성인입니다.')"
   ]
  },
  {
   "cell_type": "markdown",
   "metadata": {},
   "source": [
    "#### and 연산자"
   ]
  },
  {
   "cell_type": "markdown",
   "metadata": {},
   "source": [
    "나이('age')가 20세 이상이고 운전면허(has_license)가 있는지 검사하여 두 조건이 모두 참일 때 '운전할 수 있습니다.' 하나라도 거짓일 때 '운전할 수 없습니다'를 출력하세요"
   ]
  },
  {
   "cell_type": "code",
   "execution_count": 2,
   "metadata": {},
   "outputs": [
    {
     "name": "stdout",
     "output_type": "stream",
     "text": [
      "운전할 수 있습니다.\n"
     ]
    }
   ],
   "source": [
    "#\n",
    "age = 20\n",
    "has_license = True\n",
    "\n",
    "if age >= 20 and has_license:\n",
    "  print('운전할 수 있습니다.')\n",
    "else:\n",
    "  print('운전할 수 없습니다.')"
   ]
  },
  {
   "cell_type": "markdown",
   "metadata": {},
   "source": [
    "#### or 연산자"
   ]
  },
  {
   "cell_type": "markdown",
   "metadata": {},
   "source": [
    "날씨가 좋은지(weather_is_good), 무료 티켓이 있는지(have_free_tickets) 두 조건 중 하나라도 참이면 '놀이공원에 가자'를 출력하고 모두 거짓일 경우 '집에서 영화를 보자'를 출력하세요"
   ]
  },
  {
   "cell_type": "code",
   "execution_count": 2,
   "metadata": {},
   "outputs": [
    {
     "name": "stdout",
     "output_type": "stream",
     "text": [
      "놀이공원에 가자\n"
     ]
    }
   ],
   "source": [
    "#\n",
    "weather_is_good = True\n",
    "have_free_tickets = False\n",
    "\n",
    "if weather_is_good or have_free_tickets:\n",
    "    print('놀이공원에 가자')\n",
    "else:\n",
    "    print('집에서 영화를 보자')"
   ]
  },
  {
   "cell_type": "markdown",
   "metadata": {},
   "source": [
    "#### 단락평가\n",
    "\n",
    "or 연산자를 사용할 때 주의해야 함"
   ]
  },
  {
   "cell_type": "code",
   "execution_count": 2,
   "metadata": {},
   "outputs": [
    {
     "name": "stdout",
     "output_type": "stream",
     "text": [
      "조건만족\n"
     ]
    }
   ],
   "source": [
    "a = 0\n",
    "b = 10  \n",
    "\n",
    "if a == 0 or b/a > 2: # b/a는 10을 0으로 나누는 거라 파이썬에서 에러(division by zero)가 나지만 or 연산자로 앞에 조건이 True가 나와 뒤 조건이 연산 되지 않음\n",
    "    print('조건만족')"
   ]
  },
  {
   "cell_type": "markdown",
   "metadata": {},
   "source": [
    "#### not 연산자"
   ]
  },
  {
   "cell_type": "markdown",
   "metadata": {},
   "source": [
    "주말('is_weekend')이 아니면 '일을 하러 간다'를 출력하고 주말일 경우 '주말을 즐겨라'를 출력하세요"
   ]
  },
  {
   "cell_type": "code",
   "execution_count": 3,
   "metadata": {},
   "outputs": [
    {
     "name": "stdout",
     "output_type": "stream",
     "text": [
      "주말을 즐겨라\n"
     ]
    }
   ],
   "source": [
    "#\n",
    "is_weekend = True\n",
    "\n",
    "if not is_weekend:\n",
    "    print('일을 하러 간다')\n",
    "else:\n",
    "    print('주말을 즐겨라')"
   ]
  },
  {
   "cell_type": "markdown",
   "metadata": {},
   "source": [
    "#### in 연산자"
   ]
  },
  {
   "cell_type": "markdown",
   "metadata": {},
   "source": [
    "주소('address')에 기흥구가 포함되는지 확인하고 참이면 '주소는 기흥구에 위치해 있습니다', 거짓이면 '주소는 기흥구에 위치해 있지 않습니다'를 출력해 보세요"
   ]
  },
  {
   "cell_type": "code",
   "execution_count": 3,
   "metadata": {},
   "outputs": [
    {
     "name": "stdout",
     "output_type": "stream",
     "text": [
      "주소는 기흥구에 위치해 있습니다.\n"
     ]
    }
   ],
   "source": [
    "#\n",
    "address = '경기도 용인시 기흥구 용구대로'\n",
    "\n",
    "if '기흥구' in address:\n",
    "  print('주소는 기흥구에 위치해 있습니다.')\n",
    "else:\n",
    "  print('주소는 기흥구에 위치해 있지 않습니다')"
   ]
  },
  {
   "cell_type": "markdown",
   "metadata": {},
   "source": [
    "#### 중간실습\n",
    "1. 숫자를 입력받아 양수인지, 음수인지, 아니면 0인지 판별하는 프로그램을 작성하세요\n",
    "2. 사전에 정의된 아이디와 비밀번호가 주어져 있을 때 (id: user01, pw: pw1234), 입력받은 아이디와 비밀번호가 일치하는지 확인하고 로그인 성공 여부를 알려주는 프로그램을 작성하세요\n",
    "3. 정수를 입력받아 그 수가 짝수인지 홀수인지 판별하는 프로그램을 작성하세요\n",
    "4. 월(정수)을 입력받아 해당 월이 봄(3~5월), 여름(6~8월), 가을(9~11월), 겨율(12, 1~2월)중 어느 계절에 속하는지 알려주는 프로그램을 작성하세요\n",
    "5. 물건의 무게(kg)을 입력받아 무게에 따른 운송비를 계산하여 출력하는 프로그램을 작성하세요(5kg 이하 5000원 5kg 초과 10kg 이하 7000원, 10kg 초과 10000원)\n",
    "6. 방문객의 나이를 입력받아 어린이(14세 미만)는 4000원, 청소년(14이상 19세 이하)은 8000원, 성인(20세 이상)은 12000원의 입장료를 계산하는 프로그램을 작성하세요\n",
    "7. 사용한 데이터량(MB)를 입력받아 0~1GB(1024MB) 사용 시 10000원, 1GB 초과 2GB 이하 사용 시 20000원, 2GB초과 사용 시 30000원의 요금을 적용하는 프로그램을 작성하세요.\n",
    "8. 로그인 상태(is_logged_in)가 True이고, 회원 등급(userRole)이 'admin'일 때 \"관리자 페이지에 접근할 수 있습니다.\"라고 출력하는 프로그램을 작성하세요. 회원 등급이 'admin'이 아니면 \"일반 사용자 페이지에 접근할 수 있습니다.\"라고 출력하세요. 만약 로그인 상태가 False일 경우 \"로그인이 필요합니다.\"라고 출력하세요.\n",
    "9. info = {'name':'Kim', 'address':'경기도'} info에서 age가 없을 때 '나이 정보가 없습니다'를 출력하는 프로그램을 작성하세요('age':'value'도 넣어서 해보세요)"
   ]
  },
  {
   "cell_type": "code",
   "execution_count": 4,
   "metadata": {},
   "outputs": [
    {
     "name": "stdout",
     "output_type": "stream",
     "text": [
      "음수입니다.\n"
     ]
    }
   ],
   "source": [
    "# 1\n",
    "num = float(input(\"숫자를 입력하세요: \"))\n",
    "if num > 0:\n",
    "    print(\"양수입니다.\")\n",
    "elif num < 0:\n",
    "    print(\"음수입니다.\")\n",
    "else:\n",
    "    print(\"0입니다.\")"
   ]
  },
  {
   "cell_type": "code",
   "execution_count": 5,
   "metadata": {},
   "outputs": [
    {
     "name": "stdout",
     "output_type": "stream",
     "text": [
      "로그인 실패\n"
     ]
    }
   ],
   "source": [
    "# 2\n",
    "username = \"user01\"\n",
    "password = \"pw1234\"\n",
    "\n",
    "# 사용자 입력\n",
    "input_username = input(\"사용자 이름을 입력하세요: \")\n",
    "input_password = input(\"비밀번호를 입력하세요: \")\n",
    "\n",
    "# 로그인 검증\n",
    "if input_username == username and input_password == password:\n",
    "    print(\"로그인 성공\")\n",
    "else:\n",
    "    print(\"로그인 실패\")"
   ]
  },
  {
   "cell_type": "code",
   "execution_count": 6,
   "metadata": {},
   "outputs": [
    {
     "name": "stdout",
     "output_type": "stream",
     "text": [
      "홀수입니다.\n"
     ]
    }
   ],
   "source": [
    "# 3\n",
    "num = int(input(\"정수를 입력하세요: \"))\n",
    "if num % 2 == 0:\n",
    "    print(\"짝수입니다.\")\n",
    "else:\n",
    "    print(\"홀수입니다.\")"
   ]
  },
  {
   "cell_type": "code",
   "execution_count": 7,
   "metadata": {},
   "outputs": [
    {
     "name": "stdout",
     "output_type": "stream",
     "text": [
      "겨울입니다.\n"
     ]
    }
   ],
   "source": [
    "# 4\n",
    "month = int(input(\"월을 입력하세요(1~12): \"))\n",
    "if 3 <= month <= 5:\n",
    "    print(\"봄입니다.\")\n",
    "elif 6 <= month <= 8:\n",
    "    print(\"여름입니다.\")\n",
    "elif 9 <= month <= 11:\n",
    "    print(\"가을입니다.\")\n",
    "else:\n",
    "    print(\"겨울입니다.\")"
   ]
  },
  {
   "cell_type": "code",
   "execution_count": 10,
   "metadata": {},
   "outputs": [
    {
     "name": "stdout",
     "output_type": "stream",
     "text": [
      "겨울입니다.\n"
     ]
    }
   ],
   "source": [
    "# 4\n",
    "month = int(input(\"월을 입력하세요(1~12): \"))\n",
    "\n",
    "if 1 <= month <= 12:\n",
    "    if 3 <= month <= 5:\n",
    "        print(\"봄입니다.\")\n",
    "    elif 6 <= month <= 8:\n",
    "        print(\"여름입니다.\")\n",
    "    elif 9 <= month <= 11:\n",
    "        print(\"가을입니다.\")\n",
    "    else:\n",
    "        print(\"겨울입니다.\")\n",
    "else:\n",
    "    print(\"유효하지 않은 값입니다. 1부터 12 사이의 숫자를 입력해주세요.\")"
   ]
  },
  {
   "cell_type": "code",
   "execution_count": 9,
   "metadata": {},
   "outputs": [
    {
     "name": "stdout",
     "output_type": "stream",
     "text": [
      "겨울입니다.\n"
     ]
    }
   ],
   "source": [
    "month = int(input(\"월을 입력하세요(1~12): \"))\n",
    "\n",
    "if 1 <= month <= 12:\n",
    "    if month in [3, 4, 5]:\n",
    "        print(\"봄입니다.\")\n",
    "    elif month in [6, 7, 8]:\n",
    "        print(\"여름입니다.\")\n",
    "    elif month in [9, 10, 11]:\n",
    "        print(\"가을입니다.\")\n",
    "    else:\n",
    "        print(\"겨울입니다.\")\n",
    "else:\n",
    "    print(\"유효하지 않은 값입니다. 1부터 12 사이의 숫자를 입력해주세요.\")\n"
   ]
  },
  {
   "cell_type": "code",
   "execution_count": 9,
   "metadata": {},
   "outputs": [
    {
     "name": "stdout",
     "output_type": "stream",
     "text": [
      "운송비: 10000원\n"
     ]
    }
   ],
   "source": [
    "# 5\n",
    "weight = float(input(\"물건의 무게를 kg 단위로 입력하세요: \"))\n",
    "if weight <= 5:\n",
    "    fee = 5000\n",
    "elif weight <= 10:\n",
    "    fee = 7000\n",
    "else:\n",
    "    fee = 10000\n",
    "print(f\"운송비: {fee}원\")"
   ]
  },
  {
   "cell_type": "code",
   "execution_count": 17,
   "metadata": {},
   "outputs": [
    {
     "name": "stdout",
     "output_type": "stream",
     "text": [
      "운송비: 7000원\n"
     ]
    }
   ],
   "source": [
    "# 5\n",
    "weight = float(input(\"물건의 무게를 kg 단위로 입력하세요: \"))\n",
    "if weight > 10:\n",
    "    fee = 10000\n",
    "elif weight > 5:\n",
    "    fee = 7000\n",
    "else:\n",
    "    fee = 5000\n",
    "print(f\"운송비: {fee}원\")"
   ]
  },
  {
   "cell_type": "code",
   "execution_count": 18,
   "metadata": {},
   "outputs": [
    {
     "name": "stdout",
     "output_type": "stream",
     "text": [
      "입장료: 4000원\n"
     ]
    }
   ],
   "source": [
    "# 6\n",
    "age = int(input(\"나이를 입력하세요: \"))\n",
    "if age < 14:\n",
    "    fee = 4000\n",
    "elif age <= 19:\n",
    "    fee = 8000\n",
    "else:\n",
    "    fee = 12000\n",
    "print(f\"입장료: {fee}원\")"
   ]
  },
  {
   "cell_type": "code",
   "execution_count": 26,
   "metadata": {},
   "outputs": [
    {
     "name": "stdout",
     "output_type": "stream",
     "text": [
      "입장료: 12000원\n"
     ]
    }
   ],
   "source": [
    "# 6\n",
    "age = int(input(\"나이를 입력하세요: \"))\n",
    "if age >= 20:\n",
    "    fee = 12000\n",
    "elif age >= 14:\n",
    "    fee = 8000\n",
    "else:\n",
    "    fee = 4000\n",
    "print(f\"입장료: {fee}원\")"
   ]
  },
  {
   "cell_type": "code",
   "execution_count": 16,
   "metadata": {},
   "outputs": [
    {
     "name": "stdout",
     "output_type": "stream",
     "text": [
      "총 요금: 20000원\n"
     ]
    }
   ],
   "source": [
    "# 7\n",
    "data_usage = float(input(\"사용한 데이터량(MB)을 입력하세요: \"))\n",
    "if data_usage <= 1024:\n",
    "    fee = 10000\n",
    "elif data_usage <= 2048:\n",
    "    fee = 20000\n",
    "else:\n",
    "    fee = 30000\n",
    "print(f\"총 요금: {fee}원\")"
   ]
  },
  {
   "cell_type": "code",
   "execution_count": 27,
   "metadata": {},
   "outputs": [
    {
     "name": "stdout",
     "output_type": "stream",
     "text": [
      "총 요금: 30000원\n"
     ]
    }
   ],
   "source": [
    "# 7\n",
    "data_usage = float(input(\"사용한 데이터량(MB)을 입력하세요: \"))\n",
    "if data_usage > 2048:\n",
    "    fee = 30000\n",
    "elif data_usage > 1024:\n",
    "    fee = 20000\n",
    "else:\n",
    "    fee = 10000\n",
    "print(f\"총 요금: {fee}원\")"
   ]
  },
  {
   "cell_type": "code",
   "execution_count": 23,
   "metadata": {},
   "outputs": [
    {
     "name": "stdout",
     "output_type": "stream",
     "text": [
      "관리자 페이지에 접근할 수 있습니다.\n"
     ]
    }
   ],
   "source": [
    "# 8\n",
    "userRole = \"admin\"\n",
    "isLoggedIn = True\n",
    "\n",
    "if isLoggedIn:\n",
    "    if userRole == \"admin\":\n",
    "        print(\"관리자 페이지에 접근할 수 있습니다.\")\n",
    "    else:\n",
    "        print(\"일반 사용자 페이지에 접근할 수 있습니다.\")\n",
    "else:\n",
    "    print(\"로그인이 필요합니다.\")"
   ]
  },
  {
   "cell_type": "code",
   "execution_count": 8,
   "metadata": {},
   "outputs": [
    {
     "name": "stdout",
     "output_type": "stream",
     "text": [
      "나이 정보가 없습니다\n"
     ]
    }
   ],
   "source": [
    "# 9\n",
    "info = {'name':'Kim', 'address':'경기도'}\n",
    "\n",
    "if 'age' not in info:\n",
    "    print('나이 정보가 없습니다')\n",
    "else:\n",
    "    print(info['age'])"
   ]
  },
  {
   "cell_type": "markdown",
   "metadata": {},
   "source": [
    "### 2. while 문"
   ]
  },
  {
   "cell_type": "markdown",
   "metadata": {},
   "source": [
    "\n",
    "while 문은 주어진 조건이 참(True)인 동안 코드 블록을 반복 실행하는 데 사용됩니다.  \n",
    "이 구문은 조건이 거짓(False)이 될 때까지 코드 블록 내의 명령을 계속 실행합니다"
   ]
  },
  {
   "cell_type": "markdown",
   "metadata": {},
   "source": [
    "while 문 구조\n",
    "```python\n",
    "while 조건:\n",
    "  코드1\n",
    "  코드2\n",
    "  코드3\n",
    "  .\n",
    "  .\n",
    "  .\n",
    "  "
   ]
  },
  {
   "cell_type": "code",
   "execution_count": 16,
   "metadata": {},
   "outputs": [
    {
     "name": "stdout",
     "output_type": "stream",
     "text": [
      "count: 0\n",
      "count: 1\n",
      "count: 2\n",
      "count: 3\n",
      "count: 4\n"
     ]
    }
   ],
   "source": [
    "count = 0\n",
    "while count < 5: # count가 5에 도달하면 count < 5는 거짓이 되므로 반복문 종료\n",
    "    print(f\"count: {count}\")\n",
    "    count += 1 # count = count + 1\n",
    "    # print(f\"count: {count}\")"
   ]
  },
  {
   "cell_type": "code",
   "execution_count": 17,
   "metadata": {},
   "outputs": [
    {
     "name": "stdout",
     "output_type": "stream",
     "text": [
      "count: 1\n",
      "count: 2\n",
      "count: 3\n",
      "count: 4\n",
      "count: 5\n"
     ]
    }
   ],
   "source": [
    "count = 0\n",
    "while count < 5: # count가 5에 도달하면 count < 5는 거짓이 되므로 반복문 종료\n",
    "    # print(f\"count: {count}\")\n",
    "    count += 1 # count = count + 1\n",
    "    print(f\"count: {count}\")"
   ]
  },
  {
   "cell_type": "code",
   "execution_count": 8,
   "metadata": {},
   "outputs": [
    {
     "name": "stdout",
     "output_type": "stream",
     "text": [
      "나무를1번 찍었습니다.\n",
      "나무를2번 찍었습니다.\n",
      "나무를3번 찍었습니다.\n",
      "나무를4번 찍었습니다.\n",
      "나무를5번 찍었습니다.\n",
      "나무를6번 찍었습니다.\n",
      "나무를7번 찍었습니다.\n",
      "나무를8번 찍었습니다.\n",
      "나무를9번 찍었습니다.\n",
      "나무를10번 찍었습니다.\n"
     ]
    }
   ],
   "source": [
    "max_hit = 10\n",
    "tree_hit = 0\n",
    "\n",
    "while tree_hit < max_hit:\n",
    "  tree_hit += 1 # tree_hit = tree_hit + 1\n",
    "  print(f'나무를{tree_hit}번 찍었습니다.')\n"
   ]
  },
  {
   "cell_type": "code",
   "execution_count": 18,
   "metadata": {},
   "outputs": [
    {
     "name": "stdout",
     "output_type": "stream",
     "text": [
      "나무를1번 찍었습니다.\n",
      "나무를2번 찍었습니다.\n",
      "나무를3번 찍었습니다.\n",
      "나무를4번 찍었습니다.\n",
      "나무를5번 찍었습니다.\n",
      "나무를6번 찍었습니다.\n",
      "나무를7번 찍었습니다.\n",
      "나무를8번 찍었습니다.\n",
      "나무를9번 찍었습니다.\n",
      "나무를10번 찍었습니다.\n",
      "나무가 쓰러졌습니다\n"
     ]
    }
   ],
   "source": [
    "max_hit = 10\n",
    "tree_hit = 0\n",
    "\n",
    "while tree_hit < max_hit:\n",
    "  tree_hit += 1\n",
    "  print(f'나무를{tree_hit}번 찍었습니다.')\n",
    "  \n",
    "  if tree_hit == max_hit:\n",
    "    print('나무가 쓰러졌습니다')"
   ]
  },
  {
   "cell_type": "markdown",
   "metadata": {},
   "source": [
    "#### 1. while 문 앞으로 돌아가기(continue)"
   ]
  },
  {
   "cell_type": "markdown",
   "metadata": {},
   "source": [
    "```python\n",
    "a = 0\n",
    "\n",
    "while a < 20:\n",
    "  a += 1\n",
    "  print(a)"
   ]
  },
  {
   "cell_type": "code",
   "execution_count": 23,
   "metadata": {},
   "outputs": [
    {
     "name": "stdout",
     "output_type": "stream",
     "text": [
      "2\n",
      "4\n",
      "6\n",
      "8\n",
      "10\n",
      "12\n",
      "14\n",
      "16\n",
      "18\n",
      "20\n"
     ]
    }
   ],
   "source": [
    "a = 0\n",
    "\n",
    "while a < 20:\n",
    "  a += 1\n",
    "  if a % 2 == 1: # (a % 2 != 0) a를 2로 나눴을 때 나머지가 0이 아닐 때, 홀 수 일때\n",
    "    continue # while 문 앞으로 돌아감\n",
    "  print(a) # 출력은 짝수만"
   ]
  },
  {
   "cell_type": "code",
   "execution_count": 25,
   "metadata": {},
   "outputs": [
    {
     "name": "stdout",
     "output_type": "stream",
     "text": [
      "5\n",
      "10\n",
      "15\n",
      "20\n",
      "25\n",
      "30\n",
      "35\n",
      "40\n",
      "45\n",
      "50\n"
     ]
    }
   ],
   "source": [
    "a = 0\n",
    "\n",
    "while a < 50:\n",
    "  a += 1\n",
    "  if a % 5 != 0: # (a % 2 != 0) a를 2로 나눴을 때 나머지가 0이 아닐 때, 홀 수 일때\n",
    "    continue # while 문 앞으로 돌아감\n",
    "  print(a) # 출력은 짝수만"
   ]
  },
  {
   "cell_type": "markdown",
   "metadata": {},
   "source": [
    "#### 2. while 문 무한루프, 강제 종료(break)"
   ]
  },
  {
   "cell_type": "markdown",
   "metadata": {},
   "source": [
    "우리가 사용하는 일반 프로그램 중에서 대부분은 무한 루프 개념을 사용하고 있음  "
   ]
  },
  {
   "cell_type": "markdown",
   "metadata": {},
   "source": [
    "```python\n",
    "while True:\n",
    "  a = input(\"명령을 입력하세요 (종료하려면 '종료')\")\n",
    "  if a == '종료':\n",
    "    print(f'입력한 명령: {a}')\n",
    "    break"
   ]
  },
  {
   "cell_type": "markdown",
   "metadata": {},
   "source": [
    "```python\n",
    "tree_hit = 0\n",
    "max_hit = 10\n",
    "\n",
    "while True:\n",
    "  tree_hit += 1\n",
    "  print(f'나무를{tree_hit}번 찍었습니다') # break 문이 없다 > 무한 루프"
   ]
  }
 ],
 "metadata": {
  "kernelspec": {
   "display_name": "Python 3",
   "language": "python",
   "name": "python3"
  },
  "language_info": {
   "codemirror_mode": {
    "name": "ipython",
    "version": 3
   },
   "file_extension": ".py",
   "mimetype": "text/x-python",
   "name": "python",
   "nbconvert_exporter": "python",
   "pygments_lexer": "ipython3",
   "version": "3.9.13"
  }
 },
 "nbformat": 4,
 "nbformat_minor": 2
}
