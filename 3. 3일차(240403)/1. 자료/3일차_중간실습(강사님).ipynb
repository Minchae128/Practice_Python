{
 "cells": [
  {
   "cell_type": "code",
   "execution_count": 1,
   "metadata": {},
   "outputs": [
    {
     "name": "stdout",
     "output_type": "stream",
     "text": [
      "양수입니다.\n"
     ]
    }
   ],
   "source": [
    "# 1\n",
    "num = float(input(\"숫자를 입력하세요: \"))\n",
    "if num > 0:\n",
    "    print(\"양수입니다.\")\n",
    "elif num < 0:\n",
    "    print(\"음수입니다.\")\n",
    "else:\n",
    "    print(\"0입니다.\")"
   ]
  },
  {
   "cell_type": "code",
   "execution_count": null,
   "metadata": {},
   "outputs": [],
   "source": [
    "# 2\n",
    "username = \"user01\"\n",
    "password = \"pw1234\"\n",
    "\n",
    "# 사용자 입력\n",
    "input_username = input(\"사용자 이름을 입력하세요: \")\n",
    "input_password = input(\"비밀번호를 입력하세요: \")\n",
    "\n",
    "# 로그인 검증\n",
    "if input_username == username and input_password == password:\n",
    "    print(\"로그인 성공\")\n",
    "else:\n",
    "    print(\"로그인 실패\")"
   ]
  },
  {
   "cell_type": "code",
   "execution_count": null,
   "metadata": {},
   "outputs": [],
   "source": [
    "# 3\n",
    "num = int(input(\"정수를 입력하세요: \"))\n",
    "if num % 2 == 0:\n",
    "    print(\"짝수입니다.\")\n",
    "else:\n",
    "    print(\"홀수입니다.\")"
   ]
  },
  {
   "cell_type": "code",
   "execution_count": null,
   "metadata": {},
   "outputs": [],
   "source": [
    "# 4\n",
    "month = int(input(\"월을 입력하세요(1~12): \"))\n",
    "if 3 <= month <= 5:\n",
    "    print(\"봄입니다.\")\n",
    "elif 6 <= month <= 8:\n",
    "    print(\"여름입니다.\")\n",
    "elif 9 <= month <= 11:\n",
    "    print(\"가을입니다.\")\n",
    "else:\n",
    "    print(\"겨울입니다.\")\n",
    "\n",
    "# 4\n",
    "month = int(input(\"월을 입력하세요(1~12): \"))\n",
    "\n",
    "if 1 <= month <= 12:\n",
    "    if 3 <= month <= 5:\n",
    "        print(\"봄입니다.\")\n",
    "    elif 6 <= month <= 8:\n",
    "        print(\"여름입니다.\")\n",
    "    elif 9 <= month <= 11:\n",
    "        print(\"가을입니다.\")\n",
    "    else:\n",
    "        print(\"겨울입니다.\")\n",
    "else:\n",
    "    print(\"유효하지 않은 값입니다. 1부터 12 사이의 숫자를 입력해주세요.\")\n",
    "\n",
    "month = int(input(\"월을 입력하세요(1~12): \"))\n",
    "\n",
    "if 1 <= month <= 12:\n",
    "    if month in [3, 4, 5]:\n",
    "        print(\"봄입니다.\")\n",
    "    elif month in [6, 7, 8]:\n",
    "        print(\"여름입니다.\")\n",
    "    elif month in [9, 10, 11]:\n",
    "        print(\"가을입니다.\")\n",
    "    else:\n",
    "        print(\"겨울입니다.\")\n",
    "else:\n",
    "    print(\"유효하지 않은 값입니다. 1부터 12 사이의 숫자를 입력해주세요.\")"
   ]
  },
  {
   "cell_type": "code",
   "execution_count": null,
   "metadata": {},
   "outputs": [],
   "source": [
    "# 5\n",
    "weight = float(input(\"물건의 무게를 kg 단위로 입력하세요: \"))\n",
    "if weight <= 5:\n",
    "    fee = 5000\n",
    "elif weight <= 10:\n",
    "    fee = 7000\n",
    "else:\n",
    "    fee = 10000\n",
    "print(f\"운송비: {fee}원\")"
   ]
  },
  {
   "cell_type": "code",
   "execution_count": null,
   "metadata": {},
   "outputs": [],
   "source": [
    "# 6\n",
    "age = int(input(\"나이를 입력하세요: \"))\n",
    "if age < 14:\n",
    "    fee = 4000\n",
    "elif age <= 19:\n",
    "    fee = 8000\n",
    "else:\n",
    "    fee = 12000\n",
    "print(f\"입장료: {fee}원\")\n",
    "\n",
    "# 6\n",
    "age = int(input(\"나이를 입력하세요: \"))\n",
    "if age >= 20:\n",
    "    fee = 12000\n",
    "elif age >= 14:\n",
    "    fee = 8000\n",
    "else:\n",
    "    fee = 4000\n",
    "print(f\"입장료: {fee}원\")"
   ]
  },
  {
   "cell_type": "code",
   "execution_count": null,
   "metadata": {},
   "outputs": [],
   "source": [
    "# 7\n",
    "data_usage = float(input(\"사용한 데이터량(MB)을 입력하세요: \"))\n",
    "if data_usage <= 1024:\n",
    "    fee = 10000\n",
    "elif data_usage <= 2048:\n",
    "    fee = 20000\n",
    "else:\n",
    "    fee = 30000\n",
    "print(f\"총 요금: {fee}원\")\n",
    "\n",
    "\n",
    "# 7\n",
    "data_usage = float(input(\"사용한 데이터량(MB)을 입력하세요: \"))\n",
    "if data_usage > 2048:\n",
    "    fee = 30000\n",
    "elif data_usage > 1024:\n",
    "    fee = 20000\n",
    "else:\n",
    "    fee = 10000\n",
    "print(f\"총 요금: {fee}원\")"
   ]
  },
  {
   "cell_type": "code",
   "execution_count": null,
   "metadata": {},
   "outputs": [],
   "source": [
    "# 8\n",
    "userRole = \"admin\"\n",
    "isLoggedIn = True\n",
    "\n",
    "if isLoggedIn:\n",
    "    if userRole == \"admin\":\n",
    "        print(\"관리자 페이지에 접근할 수 있습니다.\")\n",
    "    else:\n",
    "        print(\"일반 사용자 페이지에 접근할 수 있습니다.\")\n",
    "else:\n",
    "    print(\"로그인이 필요합니다.\")"
   ]
  },
  {
   "cell_type": "code",
   "execution_count": null,
   "metadata": {},
   "outputs": [],
   "source": [
    "# 9\n",
    "info = {'name':'Kim', 'address':'경기도'}\n",
    "\n",
    "if 'age' not in info:\n",
    "    print('나이 정보가 없습니다')\n",
    "else:\n",
    "    print(info['age'])"
   ]
  }
 ],
 "metadata": {
  "kernelspec": {
   "display_name": "Python 3.9.13 64-bit",
   "language": "python",
   "name": "python3"
  },
  "language_info": {
   "codemirror_mode": {
    "name": "ipython",
    "version": 3
   },
   "file_extension": ".py",
   "mimetype": "text/x-python",
   "name": "python",
   "nbconvert_exporter": "python",
   "pygments_lexer": "ipython3",
   "version": "3.9.13"
  },
  "orig_nbformat": 4,
  "vscode": {
   "interpreter": {
    "hash": "1d5c1156327dacead463cc502c55ebae8ce9c8c01979cf154173ff808e75bf55"
   }
  }
 },
 "nbformat": 4,
 "nbformat_minor": 2
}
