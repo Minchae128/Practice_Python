{
 "cells": [
  {
   "cell_type": "markdown",
   "metadata": {},
   "source": [
    "제어문\n",
    "\n",
    "if문\n",
    "\n",
    "#### 1. 비교연산자\n",
    "| 비교연산자 | 설명                |\n",
    "|------------|---------------------|\n",
    "| x < y      | x가 y보다 작다.     |\n",
    "| x > y      | x가 y보다 크다.     |\n",
    "| x == y     | x와 y가 같다.       |\n",
    "| x != y     | x와 y가 같지 않다.  |\n",
    "| x >= y     | x가 y보다 크거나 같다. |\n",
    "| x <= y     | x가 y보다 작거나 같다. |\n",
    "\n",
    "#### 2. 불 연산자\n",
    "| 불 연산자 | 설명                                                    |\n",
    "|---------------|---------------------------------------------------------|\n",
    "| `and`         | 두 조건이 모두 참(True)일 때만 참을 반환합니다.             |\n",
    "| `or`          | 두 조건 중 하나라도 참(True)이면 참을 반환합니다.           |\n",
    "| `not`         | 참(True)을 거짓(False)으로, 거짓을 참으로 반전시킵니다.      |\n",
    "\n",
    "#### 3. in, not in\n",
    "| 연산자   | 사용 예                | 설명                                      |\n",
    "|----------|------------------------|------------------------------------------|\n",
    "| `in`     | `x in 리스트`          | `x`가 리스트 내에 있으면 `True` 반환      |\n",
    "| `not in` | `x not in 리스트`      | `x`가 리스트 내에 없으면 `True` 반환      |\n",
    "| `in`     | `x in 튜플`            | `x`가 튜플 내에 있으면 `True` 반환        |\n",
    "| `not in` | `x not in 튜플`        | `x`가 튜플 내에 없으면 `True` 반환        |\n",
    "| `in`     | `x in 문자열`          | `x`가 문자열 내에 있으면 `True` 반환      |\n",
    "| `not in` | `x not in 문자열`      | `x`가 문자열 내에 없으면 `True` 반환      |"
   ]
  },
  {
   "cell_type": "code",
   "execution_count": 12,
   "metadata": {},
   "outputs": [
    {
     "name": "stdout",
     "output_type": "stream",
     "text": [
      "성인입니다.\n"
     ]
    }
   ],
   "source": [
    "\n",
    "# if 조건:\n",
    "    # 조건이 참(True)일 때 실행 할 코드\n",
    "\n",
    "    # 문제 : 나이(age)rk 20세 이상일 경우 '성인입니다.'라고 출력하세요\n",
    "\n",
    "age = int(input())\n",
    "\n",
    "if 20 <= age:\n",
    "    print('성인입니다.')"
   ]
  },
  {
   "cell_type": "code",
   "execution_count": 16,
   "metadata": {},
   "outputs": [
    {
     "name": "stdout",
     "output_type": "stream",
     "text": [
      "미성년자입니다.\n"
     ]
    }
   ],
   "source": [
    "# if 조건:\n",
    "    # 조건이 참(True)일 때 실행 할 코드\n",
    "# else:\n",
    "    #조건이 거짓(false)일 때 실행 할 코드\n",
    "\n",
    "    # 문제 : 나이(age)rk 20세 이상일 경우 '성인입니다.'라고 출력하고, 그렇지 않으면 '미성년자입니다.'라고 출력하세요\n",
    "\n",
    "age = int(input())\n",
    "\n",
    "if 20 <= age:\n",
    "    print('성인 입니다.')\n",
    "else:\n",
    "    print('미성년자 입니다.')"
   ]
  },
  {
   "cell_type": "code",
   "execution_count": 18,
   "metadata": {},
   "outputs": [
    {
     "name": "stdout",
     "output_type": "stream",
     "text": [
      "A학점 입니다.\n"
     ]
    }
   ],
   "source": [
    "# if 조건1:\n",
    "    # 조건1이 참(True)일 때 실행 할 코드\n",
    "# elif 조건2\n",
    "    # 조건1이 거짓(false)이고, 조건2가 참일 때 실행할 코드\n",
    "# else:\n",
    "    #모든 조건이 거짓(false)일 때 실행 할 코드\n",
    "\n",
    "    # 문제 : 점수(score)가 90점 이상이면 'A학점 입니다.', 80점 이상 90점 미만이면 'B학점 입니다.' 그 이하면 'C학점 입니다.'라고 출력하세요\n",
    "\n",
    "score = int(input())\n",
    "\n",
    "if 90 <= score:\n",
    "    print('A학점 입니다.')\n",
    "elif 80 <= score:\n",
    "    print('B학점 입니다.')\n",
    "else:\n",
    "    print('C학점 입니다.')"
   ]
  },
  {
   "cell_type": "code",
   "execution_count": 22,
   "metadata": {},
   "outputs": [
    {
     "name": "stdout",
     "output_type": "stream",
     "text": [
      "미성년자 입니다.\n"
     ]
    }
   ],
   "source": [
    "# if 조건1:\n",
    "    # 조건1이 참(True)일 때 실행 할 코드\n",
    "    # if 조건1-1\n",
    "        # 조건1이 참(True)이고, 추가적인 조건1-1도 참(True)일 때 실행할 코드\n",
    "    # else:\n",
    "        # 조건1이 참(True)이지만, 조건1-1은 거짓(false)일 때 실행 할 코드\n",
    "# else:\n",
    "    #모든 조건이 거짓(false)일 때 실행 할 코드\n",
    "\n",
    "    # 문제 : 나이(age)rk 20세 미만일 경우 '미성년자입니다.', 나이가 20세 이상이고 학생(is_student)가 참(True)이면 '대학생입니다.', 거짓이면 '성인입니다.'을 출력하세요\n",
    "\n",
    "age = int(input())\n",
    "\n",
    "if 20 <= age:\n",
    "    if age <= 30:\n",
    "        print('대학생 입니다.')\n",
    "    else:\n",
    "        print('성인 입니다.')\n",
    "else:\n",
    "    print('미성년자 입니다.')"
   ]
  },
  {
   "cell_type": "code",
   "execution_count": null,
   "metadata": {},
   "outputs": [],
   "source": []
  }
 ],
 "metadata": {
  "kernelspec": {
   "display_name": "Python 3.9.13 64-bit",
   "language": "python",
   "name": "python3"
  },
  "language_info": {
   "codemirror_mode": {
    "name": "ipython",
    "version": 3
   },
   "file_extension": ".py",
   "mimetype": "text/x-python",
   "name": "python",
   "nbconvert_exporter": "python",
   "pygments_lexer": "ipython3",
   "version": "3.9.13"
  },
  "orig_nbformat": 4,
  "vscode": {
   "interpreter": {
    "hash": "1d5c1156327dacead463cc502c55ebae8ce9c8c01979cf154173ff808e75bf55"
   }
  }
 },
 "nbformat": 4,
 "nbformat_minor": 2
}
