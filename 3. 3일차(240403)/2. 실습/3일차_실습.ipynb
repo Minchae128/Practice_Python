{
 "cells": [
  {
   "cell_type": "markdown",
   "metadata": {},
   "source": [
    "제어문\n",
    "\n",
    "if문\n",
    "\n",
    "#### 1. 비교연산자\n",
    "| 비교연산자 | 설명                |\n",
    "|------------|---------------------|\n",
    "| x < y      | x가 y보다 작다.     |\n",
    "| x > y      | x가 y보다 크다.     |\n",
    "| x == y     | x와 y가 같다.       |\n",
    "| x != y     | x와 y가 같지 않다.  |\n",
    "| x >= y     | x가 y보다 크거나 같다. |\n",
    "| x <= y     | x가 y보다 작거나 같다. |\n",
    "\n",
    "#### 2. 불 연산자\n",
    "| 불 연산자 | 설명                                                    |\n",
    "|---------------|---------------------------------------------------------|\n",
    "| `and`         | 두 조건이 모두 참(True)일 때만 참을 반환합니다.             |\n",
    "| `or`          | 두 조건 중 하나라도 참(True)이면 참을 반환합니다.           |\n",
    "| `not`         | 참(True)을 거짓(False)으로, 거짓을 참으로 반전시킵니다.      |\n",
    "\n",
    "#### 3. in, not in\n",
    "| 연산자   | 사용 예                | 설명                                      |\n",
    "|----------|------------------------|------------------------------------------|\n",
    "| `in`     | `x in 리스트`          | `x`가 리스트 내에 있으면 `True` 반환      |\n",
    "| `not in` | `x not in 리스트`      | `x`가 리스트 내에 없으면 `True` 반환      |\n",
    "| `in`     | `x in 튜플`            | `x`가 튜플 내에 있으면 `True` 반환        |\n",
    "| `not in` | `x not in 튜플`        | `x`가 튜플 내에 없으면 `True` 반환        |\n",
    "| `in`     | `x in 문자열`          | `x`가 문자열 내에 있으면 `True` 반환      |\n",
    "| `not in` | `x not in 문자열`      | `x`가 문자열 내에 없으면 `True` 반환      |"
   ]
  },
  {
   "cell_type": "code",
   "execution_count": 12,
   "metadata": {},
   "outputs": [
    {
     "name": "stdout",
     "output_type": "stream",
     "text": [
      "성인입니다.\n"
     ]
    }
   ],
   "source": [
    "\n",
    "# if 조건:\n",
    "    # 조건이 참(True)일 때 실행 할 코드\n",
    "\n",
    "    # 문제 : 나이(age)rk 20세 이상일 경우 '성인입니다.'라고 출력하세요\n",
    "\n",
    "age = int(input())\n",
    "\n",
    "if 20 <= age:\n",
    "    print('성인입니다.')"
   ]
  },
  {
   "cell_type": "code",
   "execution_count": 16,
   "metadata": {},
   "outputs": [
    {
     "name": "stdout",
     "output_type": "stream",
     "text": [
      "미성년자입니다.\n"
     ]
    }
   ],
   "source": [
    "# if 조건:\n",
    "    # 조건이 참(True)일 때 실행 할 코드\n",
    "# else:\n",
    "    #조건이 거짓(false)일 때 실행 할 코드\n",
    "\n",
    "    # 문제 : 나이(age)rk 20세 이상일 경우 '성인입니다.'라고 출력하고, 그렇지 않으면 '미성년자입니다.'라고 출력하세요\n",
    "\n",
    "age = int(input())\n",
    "\n",
    "if 20 <= age:\n",
    "    print('성인 입니다.')\n",
    "else:\n",
    "    print('미성년자 입니다.')"
   ]
  },
  {
   "cell_type": "code",
   "execution_count": 18,
   "metadata": {},
   "outputs": [
    {
     "name": "stdout",
     "output_type": "stream",
     "text": [
      "A학점 입니다.\n"
     ]
    }
   ],
   "source": [
    "# if 조건1:\n",
    "    # 조건1이 참(True)일 때 실행 할 코드\n",
    "# elif 조건2\n",
    "    # 조건1이 거짓(false)이고, 조건2가 참일 때 실행할 코드\n",
    "# else:\n",
    "    #모든 조건이 거짓(false)일 때 실행 할 코드\n",
    "\n",
    "    # 문제 : 점수(score)가 90점 이상이면 'A학점 입니다.', 80점 이상 90점 미만이면 'B학점 입니다.' 그 이하면 'C학점 입니다.'라고 출력하세요\n",
    "\n",
    "score = int(input())\n",
    "\n",
    "if 90 <= score:\n",
    "    print('A학점 입니다.')\n",
    "elif 80 <= score:\n",
    "    print('B학점 입니다.')\n",
    "else:\n",
    "    print('C학점 입니다.')"
   ]
  },
  {
   "cell_type": "code",
   "execution_count": 38,
   "metadata": {},
   "outputs": [
    {
     "name": "stdout",
     "output_type": "stream",
     "text": [
      "성인 입니다.\n"
     ]
    }
   ],
   "source": [
    "# if 조건1:\n",
    "    # 조건1이 참(True)일 때 실행 할 코드\n",
    "    # if 조건1-1\n",
    "        # 조건1이 참(True)이고, 추가적인 조건1-1도 참(True)일 때 실행할 코드\n",
    "    # else:\n",
    "        # 조건1이 참(True)이지만, 조건1-1은 거짓(false)일 때 실행 할 코드\n",
    "# else:\n",
    "    #모든 조건이 거짓(false)일 때 실행 할 코드\n",
    "\n",
    "    # 문제 : 나이(age)rk 20세 미만일 경우 '미성년자입니다.', 나이가 20세 이상이고 학생(is_student)가 참(True)이면 '대학생입니다.', \n",
    "    # 거짓이면 '성인입니다.'을 출력하세요\n",
    "\n",
    "age = int(input())\n",
    "\n",
    "if 20 < age:\n",
    "    \n",
    "    if age < 30:\n",
    "        print('대학생 입니다.')\n",
    "    else:\n",
    "        print('성인 입니다.')\n",
    "else:\n",
    "    print('미성년자 입니다.')\n"
   ]
  },
  {
   "cell_type": "code",
   "execution_count": 41,
   "metadata": {},
   "outputs": [
    {
     "name": "stdout",
     "output_type": "stream",
     "text": [
      "운전할 수 없습니다.\n"
     ]
    }
   ],
   "source": [
    "# 나이('age')가 20세 이상이고 운전면허(has_license)가 있는지 검사하여 두 조건이 모두 참(True)일 때, '운전할 수 있습니다.' \n",
    "# 하나라도 거짓(false)일 때 '운전할 수 없습니다.'를 출력하세요\n",
    "\n",
    "age = int(input())\n",
    "has_license = str(input())\n",
    "\n",
    "if 20 <= age:\n",
    "    if has_license == \"True\":\n",
    "        print(\"운전할 수 있습니다.\")\n",
    "    else:\n",
    "        print(\"운전할 수 없습니다.\")\n",
    "else:\n",
    "    print(\"운전할 수 없습니다.\")\n"
   ]
  },
  {
   "cell_type": "code",
   "execution_count": 59,
   "metadata": {},
   "outputs": [
    {
     "name": "stdout",
     "output_type": "stream",
     "text": [
      "놀이공원에 가자!!\n"
     ]
    }
   ],
   "source": [
    "# 날씨가 좋은지(weather_is_good), 무료 티켓이 있는지(have_free_ticket) 두 조건 중 하나라도 참(True)이면, \"놀이공원에 가자!!\" 출력,\n",
    "# 모두 거짓(false)일 경우 \"집에서 영화를 보자ㅠㅠ\"를 출력하세요.\n",
    "\n",
    "weather_is_good = str(input())\n",
    "have_free_ticket = str(input())\n",
    "\n",
    "if weather_is_good == \"g\": \n",
    "    if have_free_ticket == \"y\":\n",
    "        print(\"놀이공원에 가자!!\")\n",
    "    else:\n",
    "        print(\"놀이공원에 가자!!\")\n",
    "elif have_free_ticket == \"yes\":\n",
    "    print(\"놀이공원에 가자!!\")\n",
    "else:\n",
    "    print(\"집에서 영화를 보자ㅠㅠ\")\n",
    "\n",
    "\n",
    "if weather_is_good == \"g\" & have_free_ticket == \"y\": \n",
    "    print(\"놀이공원에 가자!!\")\n",
    "else:\n",
    "    print(\"집에서 영화를 보자ㅠㅠ\")\n",
    "\n",
    "\n"
   ]
  },
  {
   "cell_type": "code",
   "execution_count": 4,
   "metadata": {},
   "outputs": [
    {
     "name": "stdout",
     "output_type": "stream",
     "text": [
      "일을 하러 간다.\n"
     ]
    }
   ],
   "source": [
    "# 주말(\"is_weekend\")이 아니면 '일을 하러 간다'를 출력하고 주말일 경우 '주말을 즐겨라'를 출력하세요\n",
    "\n",
    "is_weekend = str(input())\n",
    "\n",
    "if not is_weekend == True:\n",
    "    print(\"일을 하러 간다.\")\n",
    "else:\n",
    "    print(\"주말을 즐겨라.\")"
   ]
  },
  {
   "cell_type": "code",
   "execution_count": 65,
   "metadata": {},
   "outputs": [
    {
     "name": "stdout",
     "output_type": "stream",
     "text": [
      "주소는 기흥구에 위치에 있지 않습니다.\n"
     ]
    }
   ],
   "source": [
    "# 주소(\"address\")에 기흥구가 포함되는지 확인하고, 참(True) \"주소는 기흥구에 위치에 있습니다.\",\n",
    "# 거짓(false)이면 \"주소는 기흥구에 위치에 있지 않습니다.\" 출력해보세요.\n",
    "\n",
    "address = str(input())\n",
    "\n",
    "if \"기흥구\" in address:\n",
    "    print(\"주소는 기흥구에 위치에 있습니다.\")\n",
    "else:\n",
    "    print(\"주소는 기흥구에 위치에 있지 않습니다.\")"
   ]
  },
  {
   "cell_type": "markdown",
   "metadata": {},
   "source": [
    "중간 실습\n",
    "1. 숫자를 입력받아 양수인지, 음수인지, 아니면 0인지 판별하는 프로그램을 작성하세요\n",
    "2. 사전에 정의된 아이디와 비밀번호가 주어져 있을 때 (id: user01, pw: pw1234), 입력받은 아이디와 비밀번호가 일치하는지 확인하고 로그인 성공 여부를 알려주는 프로그램을 작성하세요\n",
    "3. 정수를 입력받아 그 수가 짝수인지 홀수인지 판별하는 프로그램을 작성하세요\n",
    "4. 월(정수)을 입력받아 해당 월이 봄(3~5월), 여름(6~8월), 가을(9~11월), 겨율(12, 1~2월)중 어느 계절에 속하는지 알려주는 프로그램을 작성하세요\n",
    "5. 물건의 무게(kg)을 입력받아 무게에 따른 운송비를 계산하여 출력하는 프로그램을 작성하세요(5kg 이하 5000원 5kg 초과 10kg 이하 7000원, 10kg 초과 10000원)\n",
    "6. 방문객의 나이를 입력받아 어린이(14세 미만)는 4000원, 청소년(14이상 19세 이하)은 8000원, 성인(20세 이상)은 12000원의 입장료를 계산하는 프로그램을 작성하세요\n",
    "7. 사용한 데이터량(MB)를 입력받아 0~1GB(1024MB) 사용 시 10000원, 1GB 초과 2GB 이하 사용 시 20000원, 2GB초과 사용 시 30000원의 요금을 적용하는 프로그램을 작성하세요.\n",
    "8. 로그인 상태(is_logged_in)가 True이고, 회원 등급(userRole)이 'admin'일 때 \"관리자 페이지에 접근할 수 있습니다.\"라고 출력하는 프로그램을 작성하세요. 회원 등급이 'admin'이 아니면 \"일반 사용자 페이지에 접근할 수 있습니다.\"라고 출력하세요. 만약 로그인 상태가 False일 경우 \"로그인이 필요합니다.\"라고 출력하세요.\n",
    "9. info = {'name':'Kim', 'address':'경기도'} info에서 age가 없을 때 '나이 정보가 없습니다'를 출력하는 프로그램을 작성하세요('age':'value'도 넣어서 해보세요)"
   ]
  },
  {
   "cell_type": "code",
   "execution_count": 8,
   "metadata": {},
   "outputs": [
    {
     "name": "stdout",
     "output_type": "stream",
     "text": [
      "음수\n"
     ]
    }
   ],
   "source": [
    "# 1. 숫자를 입력받아 양수인지, 음수인지, 아니면 0인지 판별하는 프로그램을 작성하세요\n",
    "a = float(input('숫자를 입력하시오 : '))\n",
    "\n",
    "if 0 < a:\n",
    "    print(\"양수\")\n",
    "elif a < 0:\n",
    "    print(\"음수\")    \n",
    "else:\n",
    "    print(\"0\") "
   ]
  },
  {
   "cell_type": "code",
   "execution_count": 15,
   "metadata": {},
   "outputs": [
    {
     "name": "stdout",
     "output_type": "stream",
     "text": [
      "계정에 접속할 수 없습니다.\n"
     ]
    }
   ],
   "source": [
    "# 2. 사전에 정의된 아이디와 비밀번호가 주어져 있을 때 (id: user01, pw: pw1234), \n",
    "# 입력받은 아이디와 비밀번호가 일치하는지 확인하고 로그인 성공 여부를 알려주는 프로그램을 작성하세요\n",
    "a = input(\"아이디를 입력하세요: \")\n",
    "b = input(\"비밀번호를 입력하세요: \")\n",
    "\n",
    "id = \"user01\"\n",
    "pw = \"pw1234\"\n",
    "\n",
    "if a == id and b == pw:\n",
    "    print('아이디-비밀번호 일치!')\n",
    "    print('로그인 되었습니다 :)')\n",
    "else:\n",
    "    print('계정에 접속할 수 없습니다.')\n"
   ]
  },
  {
   "cell_type": "code",
   "execution_count": 17,
   "metadata": {},
   "outputs": [
    {
     "name": "stdout",
     "output_type": "stream",
     "text": [
      "홀수 입니다.\n"
     ]
    }
   ],
   "source": [
    "# 3. 정수를 입력받아 그 수가 짝수인지 홀수인지 판별하는 프로그램을 작성하세요\n",
    "\n",
    "a = int(input('정수를 입력하시오 : '))\n",
    "\n",
    "if (a % 2) == 0:\n",
    "    print(\"짝수 입니다.\")\n",
    "else:\n",
    "    print(\"홀수 입니다.\")"
   ]
  },
  {
   "cell_type": "code",
   "execution_count": 24,
   "metadata": {},
   "outputs": [
    {
     "name": "stdout",
     "output_type": "stream",
     "text": [
      "잘못 입력하셨습니다. 다시 입력해주세요.\n"
     ]
    }
   ],
   "source": [
    "# 4. 월(정수)을 입력받아 해당 월이 봄(3~5월), 여름(6~8월), 가을(9~11월), 겨율(12, 1~2월)중 어느 계절에 속하는지 알려주는 프로그램을 작성하세요\n",
    "try:\n",
    "    a = int(input('월을 입력하세요 : '))  \n",
    "    if a in range(1, 13):  \n",
    "        if a in (3, 4, 5):\n",
    "            print('봄')\n",
    "        elif a in (6, 7, 8):\n",
    "            print('여름')\n",
    "        elif a in (9, 10, 11):\n",
    "            print('가을')\n",
    "        else:\n",
    "            print('겨울')\n",
    "    else:\n",
    "        print('1부터 12 사이의 숫자를 입력하세요.') \n",
    "except ValueError:\n",
    "    print('잘못된 입력입니다. 숫자를 입력하세요.') # 숫자 아닐 때 \n"
   ]
  },
  {
   "cell_type": "code",
   "execution_count": 38,
   "metadata": {},
   "outputs": [
    {
     "name": "stdout",
     "output_type": "stream",
     "text": [
      "10000원\n"
     ]
    }
   ],
   "source": [
    "# 5. 물건의 무게(kg)을 입력받아 무게에 따른 운송비를 계산하여 출력하는 프로그램을 작성하세요\n",
    "# (5kg 이하 5000원 5kg 초과 10kg 이하 7000원, 10kg 초과 10000원)\n",
    "\n",
    "a = float(input('물건의 무게에 따른 운송비는?(kg)'))\n",
    "\n",
    "if a <= 10:\n",
    "    if a <= 5:\n",
    "        print('5000원')\n",
    "    else:\n",
    "        print('7000원') \n",
    "else:\n",
    "    print('10000원')"
   ]
  },
  {
   "cell_type": "code",
   "execution_count": 45,
   "metadata": {},
   "outputs": [
    {
     "name": "stdout",
     "output_type": "stream",
     "text": [
      "12000원\n"
     ]
    }
   ],
   "source": [
    "# 6. 방문객의 나이를 입력받아 어린이(14세 미만)는 4000원, 청소년(14이상 19세 이하)은 8000원, 성인(20세 이상)은 12000원의 \n",
    "# 입장료를 계산하는 프로그램을 작성하세요\n",
    "\n",
    "a = int(input('나이는 : '))\n",
    "\n",
    "if a < 20:\n",
    "    if a < 14:\n",
    "        print('4000원')\n",
    "    else:\n",
    "        print('8000원')\n",
    "else:\n",
    "    print('12000원')\n"
   ]
  },
  {
   "cell_type": "code",
   "execution_count": 51,
   "metadata": {},
   "outputs": [
    {
     "name": "stdout",
     "output_type": "stream",
     "text": [
      "30000원\n"
     ]
    }
   ],
   "source": [
    "# 7. 사용한 데이터량(MB)를 입력받아 0~1GB(1024MB) 사용 시 10000원, \n",
    "# 1GB 초과 2GB 이하 사용 시 20000원, 2GB초과 사용 시 30000원의 요금을 적용하는 프로그램을 작성하세요.\n",
    "\n",
    "a = int(input('사용한 데이터량은 : '))\n",
    "b = str(input('사용한 데이터량의 단위는? (MB 또는 GB) : '))\n",
    "\n",
    "if b == \"MB\":\n",
    "        print('10000원')\n",
    "elif b == \"GB\":\n",
    "    if a < 2:\n",
    "        print('10000원')\n",
    "    elif a < 3:\n",
    "        print('20000원')\n",
    "    else:\n",
    "        print('30000원')\n",
    "else:\n",
    "    print(\"다시 입력하세요.\")\n"
   ]
  },
  {
   "cell_type": "code",
   "execution_count": 54,
   "metadata": {},
   "outputs": [
    {
     "name": "stdout",
     "output_type": "stream",
     "text": [
      "일반 사용자 페이지에 접근할 수 있습니다.\n"
     ]
    }
   ],
   "source": [
    "# 8. 로그인 상태(is_logged_in)가 True이고, 회원 등급(userRole)이 'admin'일 때, \n",
    "# \"관리자 페이지에 접근할 수 있습니다.\"라고 출력하는 프로그램을 작성하세요. \n",
    "# 회원 등급이 'admin'이 아니면 \"일반 사용자 페이지에 접근할 수 있습니다.\"라고 출력하세요. \n",
    "# 만약 로그인 상태가 False일 경우 \"로그인이 필요합니다.\"라고 출력하세요.\n",
    "\n",
    "is_logged_in = str(input('로그인 상태를 입력해주세요 : '))\n",
    "\n",
    "if is_logged_in in \"True\":\n",
    "    userRole = str(input('로그인이 되었습니다.\\n회원 등급을 입력해주세요 : '))\n",
    "    if userRole in \"admin\":\n",
    "        print(\"관리자 페이지에 접근할 수 있습니다.\")\n",
    "    else:\n",
    "        print(\"일반 사용자 페이지에 접근할 수 있습니다.\")\n",
    "else:\n",
    "    print(\"로그인이 필요합니다.\")"
   ]
  },
  {
   "cell_type": "code",
   "execution_count": 56,
   "metadata": {},
   "outputs": [
    {
     "name": "stdout",
     "output_type": "stream",
     "text": [
      "나이 정보가 없습니다.\n",
      "나이 정보는: 16\n"
     ]
    }
   ],
   "source": [
    "# 9. info = {'name':'Kim', 'address':'경기도'} info에서 age가 없을 때,\n",
    "#  '나이 정보가 없습니다'를 출력하는 프로그램을 작성하세요('age':'value'도 넣어서 해보세요)\n",
    "\n",
    "info = {'name': 'Kim', 'address': '경기도'}\n",
    "\n",
    "if 'age' not in info:\n",
    "    print('나이 정보가 없습니다.')\n",
    "else:\n",
    "    print('나이 정보는:', info['age'])\n",
    "\n",
    "\n",
    "# input 받아서 할때!\n",
    "info = {'name': 'Kim', 'address': '경기도'}\n",
    "\n",
    "# 사용자로부터 나이 정보 입력 받음\n",
    "age_input = input('나이를 입력하세요: ')\n",
    "\n",
    "# 입력 받은 나이 정보를 딕셔너리에 추가\n",
    "info['age'] = age_input\n",
    "\n",
    "if 'age' not in info:\n",
    "    print('나이 정보가 없습니다.')\n",
    "else:\n",
    "    print('나이 정보는:', info['age'])\n"
   ]
  },
  {
   "cell_type": "markdown",
   "metadata": {},
   "source": [
    "while문"
   ]
  },
  {
   "cell_type": "code",
   "execution_count": 58,
   "metadata": {},
   "outputs": [
    {
     "name": "stdout",
     "output_type": "stream",
     "text": [
      "cont: 1\n",
      "cont: 2\n",
      "cont: 3\n",
      "cont: 4\n",
      "cont: 5\n"
     ]
    }
   ],
   "source": [
    "count = 0\n",
    "\n",
    "while count < 5:\n",
    "    count += 1\n",
    "    print(f'cont: {count}')"
   ]
  },
  {
   "cell_type": "code",
   "execution_count": 61,
   "metadata": {},
   "outputs": [
    {
     "name": "stdout",
     "output_type": "stream",
     "text": [
      "나무를1번 찍었습니다.\n",
      "나무를2번 찍었습니다.\n",
      "나무를3번 찍었습니다.\n",
      "나무를4번 찍었습니다.\n",
      "나무를5번 찍었습니다.\n",
      "나무를6번 찍었습니다.\n",
      "나무를7번 찍었습니다.\n",
      "나무가 넘어갔습니다. :)\n"
     ]
    }
   ],
   "source": [
    "max_hit = 10\n",
    "tree_hit = 0\n",
    "\n",
    "while tree_hit < max_hit:\n",
    "    tree_hit += 1\n",
    "    print(f'나무를{tree_hit}번 찍었습니다.') \n",
    "\n",
    "    if tree_hit == 7:\n",
    "        print('나무가 넘어갔습니다. :)')\n",
    "        break"
   ]
  },
  {
   "cell_type": "code",
   "execution_count": 62,
   "metadata": {},
   "outputs": [
    {
     "name": "stdout",
     "output_type": "stream",
     "text": [
      "\n"
     ]
    }
   ],
   "source": [
    "while True:\n",
    "    a = input(\"명령을 입력하세요 (종료하려면 '종료')\")\n",
    "    if a == '종료':\n",
    "        break\n",
    "    print(a)"
   ]
  },
  {
   "cell_type": "code",
   "execution_count": null,
   "metadata": {},
   "outputs": [],
   "source": []
  }
 ],
 "metadata": {
  "kernelspec": {
   "display_name": "Python 3.9.13 64-bit",
   "language": "python",
   "name": "python3"
  },
  "language_info": {
   "codemirror_mode": {
    "name": "ipython",
    "version": 3
   },
   "file_extension": ".py",
   "mimetype": "text/x-python",
   "name": "python",
   "nbconvert_exporter": "python",
   "pygments_lexer": "ipython3",
   "version": "3.9.13"
  },
  "orig_nbformat": 4,
  "vscode": {
   "interpreter": {
    "hash": "1d5c1156327dacead463cc502c55ebae8ce9c8c01979cf154173ff808e75bf55"
   }
  }
 },
 "nbformat": 4,
 "nbformat_minor": 2
}
