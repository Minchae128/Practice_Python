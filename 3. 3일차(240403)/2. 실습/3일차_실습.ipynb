{
 "cells": [
  {
   "cell_type": "markdown",
   "metadata": {},
   "source": [
    "제어문\n",
    "if문\n",
    "\n",
    "|비교연산자|설명|\n",
    "|---|---|\n",
    "|x < y|x가 y보다 작다.|\n",
    "|x > y|x가 y보다 크다.|\n",
    "|x == y|x와 y가 같다.|\n",
    "|x != y|x와 y가 같지 않다.|\n",
    "|x >= y|x가 y보다 크거나 같다|\n",
    "|x <= y|x가 y보다 작거나 같다|"
   ]
  },
  {
   "cell_type": "markdown",
   "metadata": {},
   "source": []
  }
 ],
 "metadata": {
  "language_info": {
   "name": "python"
  },
  "orig_nbformat": 4
 },
 "nbformat": 4,
 "nbformat_minor": 2
}
