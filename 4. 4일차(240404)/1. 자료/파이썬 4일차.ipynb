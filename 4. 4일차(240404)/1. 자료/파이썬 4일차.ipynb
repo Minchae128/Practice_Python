{
 "cells": [
  {
   "cell_type": "markdown",
   "metadata": {},
   "source": [
    "# 파이썬 4일차"
   ]
  },
  {
   "cell_type": "markdown",
   "metadata": {},
   "source": [
    "#### while문 실습\n",
    "1. 1부터 10까지 숫자 출력하기\n",
    "2. 무한 루프를 사용하여 메시지를 계속 출력하다가 '종료'를 입력하면 '종료합니다.'를 출력하는 프로그램을 작성하세요\n",
    "3. 1부터 시작해 숫자를 더해나가고 합이 100을 초과할 때까지 반복하는 프로그램을 작성하세요(중간 연산 결과도 함께 출력해 보세요)\n",
    "4. '네' 혹은 '아니오'를 입력할 때까지 계속 질문하기('당신은 파이썬을 좋아하나요?') \n",
    "5. 숫자를 계속 입력받다가 0을 입력받으면 입력된 모든 숫자의 합계를 출력하는 프로그램을 작성하세요(중간 연산 결과도 함께 출력해 보세요)\n",
    "6. 미리 설정된 id, pw와 입력한 id, pw와 검사하여 일치할 때까지 id와 pw를 입력받는 프로그램을 작성하세요\n",
    "7. 정수 하나를 입력받고 입력된 숫자만큼 줄에 걸쳐 *(별)을 이용해 직각 삼각형을 출력하는 프로그램을 작성하세요(5를 입력받으면, 1개의 별부터 시작하여 각 줄마다 1개씩 늘려가며 별을 찍습니다.)\n",
    "8. 연산자(+, -, *, /)와 두 개의 숫자를 입력받아 연산을 수행하고 결과를 출력하는 프로그램을 작성하세요\n",
    "9. 8번의 프로그램에 입력한 연산자가 올바른지 확인하고 잘못된 연산자가 입력될 경우, 올바른 연산자가 입력될 때까지 계속 입력을 요구하는 로직을 추가해 보세요\n",
    "10. 숫자에 0을 넣어보고 나오는 오류메세지를 해결해 보세요\n",
    "\n",
    "숫자(실수 포함)을 입력받았을 때 나오는 에러를 잡아서 올바른 숫자가 입력되면 더 이상 숫자를 input 받지 않고 연산자만 올바른 연산자가 들어올 때까지 계속 입력을 받는 프로그램을 작성해 보세요"
   ]
  },
  {
   "cell_type": "code",
   "execution_count": null,
   "metadata": {},
   "outputs": [],
   "source": [
    "# 1\n",
    "\n",
    "a = 1\n",
    "while a < 11:\n",
    "  print(a)\n",
    "  a += 1"
   ]
  },
  {
   "cell_type": "code",
   "execution_count": null,
   "metadata": {},
   "outputs": [],
   "source": [
    "# 2\n",
    "while True:\n",
    "  msg = input('메세지를 입력하세요 (\"종료\" 를 입력하면 반복 종료): ')\n",
    "  if msg == '종료':\n",
    "    print('종료합니다')\n",
    "    break\n",
    "  print(msg)"
   ]
  },
  {
   "cell_type": "code",
   "execution_count": null,
   "metadata": {},
   "outputs": [],
   "source": [
    "# 3\n",
    "\n",
    "num = 1\n",
    "sum = 0\n",
    "\n",
    "while sum <= 100:\n",
    "  print(f'{sum} + {num} = {sum+num}')\n",
    "  sum += num\n",
    "  num += 1\n",
    "print(f'총합: {sum}')"
   ]
  },
  {
   "cell_type": "code",
   "execution_count": null,
   "metadata": {},
   "outputs": [],
   "source": [
    "# 4\n",
    "while True:\n",
    "  a = input('당신은 파이썬을 좋아하나요? (\"네\", \"아니오\"로 입력하세요)')\n",
    "\n",
    "  if a in ['네', '아니오']:\n",
    "    print(a)\n",
    "    break\n",
    "  else:\n",
    "    print('\"네\" or \"아니오\"로 대답해 주세요')"
   ]
  },
  {
   "cell_type": "code",
   "execution_count": null,
   "metadata": {},
   "outputs": [],
   "source": [
    "# 5\n",
    "sum = 0\n",
    "while True:\n",
    "  num = float(input(\"숫자를 입력하세요 '0'을 입력하면 모든 합계를 출력합니다\"))\n",
    "  if num == 0:\n",
    "    break\n",
    "  print(f'{sum} + {num} = {sum+num}')\n",
    "  sum += num\n",
    "print(f'결과는 {sum}')"
   ]
  },
  {
   "cell_type": "code",
   "execution_count": null,
   "metadata": {},
   "outputs": [],
   "source": [
    "# 6\n",
    "id = 'user01'\n",
    "pw = 'pw1234'\n",
    "\n",
    "while True:\n",
    "  input_id = input('아이디를 입력하세요')\n",
    "  input_pw = input('패스워드를 입력하세요')\n",
    "  if id == input_id and pw == input_pw:\n",
    "    print(f'로그인 완료 {id}님 환영합니다')\n",
    "    break\n",
    "  print('아이디와 패스워드를 확인해 주세요')"
   ]
  },
  {
   "cell_type": "code",
   "execution_count": null,
   "metadata": {},
   "outputs": [],
   "source": [
    "# 7\n",
    "\n",
    "a = 0\n",
    "b = int(input('숫자를 입력하세요'))\n",
    "while a < b:\n",
    "  a += 1\n",
    "  print('*'*a)\n"
   ]
  },
  {
   "cell_type": "code",
   "execution_count": null,
   "metadata": {},
   "outputs": [],
   "source": [
    "# 8, 9, 10\n",
    "\n",
    "while True:\n",
    "  input_oper = input('연산자를 입력해 주세요')\n",
    "  if input_oper in ['+', '-', '*', '/']:\n",
    "    a = float(input('첫 번째 수를 입력하세요'))\n",
    "    b = float(input('두 번째 수를 입력하세요'))\n",
    "    if input_oper == \"+\":\n",
    "      print(f'{a}+{b} = {a+b}')\n",
    "      break\n",
    "    elif input_oper == \"-\":\n",
    "      print(f'{a}-{b} = {a-b}')\n",
    "      break\n",
    "    elif input_oper == \"*\":\n",
    "      print(f'{a}*{b} = {a*b}')\n",
    "      break\n",
    "    elif input_oper == \"/\":\n",
    "      if b == 0:\n",
    "        print('0으로 나눌수 없습니다')\n",
    "        continue\n",
    "      print(f'{a}/{b} = {a/b}')\n",
    "      break\n",
    "  else:\n",
    "    print('올바른 연산자를 입력해 주세요')"
   ]
  },
  {
   "cell_type": "code",
   "execution_count": null,
   "metadata": {},
   "outputs": [],
   "source": [
    "# 8, 9, 10\n",
    "\n",
    "while True:\n",
    "  input_oper = input('연산자를 입력해 주세요')\n",
    "  if input_oper in [\"+\", \"-\", \"*\", \"/\"]:\n",
    "      a = float(input('첫 번째 수를 입력하세요'))\n",
    "      b = float(input('두 번째 수를 입력하세요'))\n",
    "      if input_oper == \"+\":\n",
    "          result = a + b\n",
    "      elif input_oper == \"-\":\n",
    "          result = a - b\n",
    "      elif input_oper == \"*\":\n",
    "          result = a * b\n",
    "      elif input_oper == \"/\":\n",
    "          if b == 0:\n",
    "              print(\"0으로 나눌 수 없습니다. 다시 입력하세요.\")\n",
    "              continue\n",
    "          result = a / b\n",
    "      print(f'{a} {input_oper} {b} = {result}')\n",
    "      break\n",
    "  else:\n",
    "      print('올바른 연산자를 입력해 주세요.')"
   ]
  },
  {
   "cell_type": "markdown",
   "metadata": {},
   "source": [
    "### 3. for 문"
   ]
  },
  {
   "cell_type": "markdown",
   "metadata": {},
   "source": [
    "Python의 for 문은 반복 가능한 객체(예: 리스트, 튜플, 문자열, 딕셔너리 등)를 순회하면서, 각 요소에 대해 코드 블록을 실행하는 데 사용됩니다.  \n",
    "이 구문은 반복 작업을 수행할 때 특히 유용하며, 다양한 데이터 타입을 다룰 때 자주 사용됩니다."
   ]
  },
  {
   "cell_type": "markdown",
   "metadata": {},
   "source": [
    "for 문 구조\n",
    "```python\n",
    "for 변수 in 반복 가능한 객체: # 반복 가능한 객체: 리스트, 튜플, 문자열, 딕셔너리, 집함 등등\n",
    "  코드1\n",
    "  코드2\n",
    "  .\n",
    "  .\n",
    "  .\n",
    "  "
   ]
  },
  {
   "cell_type": "code",
   "execution_count": null,
   "metadata": {},
   "outputs": [],
   "source": [
    "# 리스트에서 각 숫자를 세 배로\n",
    "\n",
    "num_1 = [1, 2, 3, 4, 5, 6, 7, 8, 9, 10]\n",
    "num_3 = list(range(1, 11))\n",
    "num_2 = []\n",
    "\n",
    "for num in num_1:\n",
    "    num_2.append(num*3)\n",
    "print(num_2)"
   ]
  },
  {
   "cell_type": "code",
   "execution_count": null,
   "metadata": {},
   "outputs": [],
   "source": [
    "num_1 = [1, 2, 3, 4, 5]\n",
    "num_2 = []\n",
    "\n",
    "for i in num_1:\n",
    "  num_2.append(i*3)\n",
    "print(num_2)"
   ]
  },
  {
   "cell_type": "code",
   "execution_count": null,
   "metadata": {},
   "outputs": [],
   "source": [
    "fruits = ['apple', 'banana', 'cherry']\n",
    "\n",
    "for fruit in fruits:\n",
    "  print(fruit)"
   ]
  },
  {
   "cell_type": "code",
   "execution_count": null,
   "metadata": {},
   "outputs": [],
   "source": [
    "# 언패킹\n",
    "a = [[1, 2], [3, 4], (5, 6), 'ab']\n",
    "\n",
    "for i, j in a:\n",
    "  print(i, j)"
   ]
  },
  {
   "cell_type": "markdown",
   "metadata": {},
   "source": [
    "#### 리스트 컴프리헨션"
   ]
  },
  {
   "cell_type": "code",
   "execution_count": null,
   "metadata": {},
   "outputs": [],
   "source": [
    "num_1 = [1, 2, 3, 4, 5]\n",
    "\n",
    "num_3 = [i* 3 for i in num_1]\n",
    "print(num_3)"
   ]
  },
  {
   "cell_type": "code",
   "execution_count": null,
   "metadata": {},
   "outputs": [],
   "source": [
    "num_1 = [1, 2, 3, 4, 5]\n",
    "\n",
    "num_4 = [i * 4 for i in num_1 if i % 2 == 0]\n",
    "print(num_4)"
   ]
  },
  {
   "cell_type": "markdown",
   "metadata": {},
   "source": [
    "#### 1. for 문 앞으로 돌아가기(continue)"
   ]
  },
  {
   "cell_type": "code",
   "execution_count": null,
   "metadata": {},
   "outputs": [],
   "source": [
    "scores = [45, 90, 59, 80, 95, 37, 61]\n",
    "\n",
    "for score in scores:\n",
    "  if score < 60:\n",
    "    continue\n",
    "  print(f'{score}')"
   ]
  },
  {
   "cell_type": "code",
   "execution_count": null,
   "metadata": {},
   "outputs": [],
   "source": [
    "scores = [45, 90, 59, 80, 95, 37, 61]\n",
    "num = 0 # 번호\n",
    "\n",
    "for score in scores:\n",
    "  num += 1\n",
    "  if score < 60:\n",
    "    continue\n",
    "  print(f'{num}번 학생 합격 축하합니다')"
   ]
  },
  {
   "cell_type": "markdown",
   "metadata": {},
   "source": [
    "scores = {'a':80, 'b':90, 'c':59, 'd':45} 딕셔너리를 사용하여 점수가 60점 이상이면 \"'key' 학생 'value'점입니다. 합격 축하합니다\"를 출력하세요"
   ]
  },
  {
   "cell_type": "code",
   "execution_count": null,
   "metadata": {},
   "outputs": [],
   "source": [
    "scores = {'a':80, 'b':90, 'c':59, 'd':45}\n",
    "\n",
    "for id, score in scores.items():\n",
    "  if score < 60:\n",
    "    continue\n",
    "  print(f'{id} 학생, {score}점입니다. 합격 축하합니다')"
   ]
  },
  {
   "cell_type": "markdown",
   "metadata": {},
   "source": [
    "#### 2. range 함수"
   ]
  },
  {
   "cell_type": "markdown",
   "metadata": {},
   "source": [
    "range 함수: 연속된 숫자를 생성하는데 사용, step 을 사용해서 선택적으로 증가치를 지정할 수 있다.\n",
    "\n",
    "| 인자의 수 | 형식                | 설명                                                        |\n",
    "|-----------|---------------------|-------------------------------------------------------------|\n",
    "| 1         | `range(stop)`       | 0부터 `stop-1`까지의 정수를 생성합니다.               |\n",
    "| 2         | `range(start, stop)`| `start`부터 `stop-1`까지의 정수를 생성합니다.         |\n",
    "| 3         | `range(start, stop, step)` | `start`에서 시작하여 `stop-1`까지, `step`의 값만큼 증가하는 정수를 생성합니다. |\n",
    "\n",
    "range(0, 11, 2): 시작 값은 0, 종료값은 11미만까지, step이 2이므로 0에 2를 더해서 2를 출력, 이후 숫자는 이전 숫자에 2를 더한 값이 된다\n"
   ]
  },
  {
   "cell_type": "code",
   "execution_count": null,
   "metadata": {},
   "outputs": [],
   "source": [
    "for i in range(11):\n",
    "  print(i)"
   ]
  },
  {
   "cell_type": "code",
   "execution_count": null,
   "metadata": {},
   "outputs": [],
   "source": [
    "for i in range(1, 11): # 숫자 1이상 11미만\n",
    "  print(i)"
   ]
  },
  {
   "cell_type": "code",
   "execution_count": null,
   "metadata": {},
   "outputs": [],
   "source": [
    "for i in range(0, 11, 2): # 시작 값은 0, step이 2이므로 0에 2를 더해서 2를 출력, 이후 숫자는 이전 숫자에 2를 더한 값이 된다 \n",
    "  print(i)"
   ]
  },
  {
   "cell_type": "markdown",
   "metadata": {},
   "source": [
    "marks = [45, 90, 59, 80, 95, 37, 61]  \n",
    "marks를 range 함수를 사용해 반복해서 60점 이상인 학생에게 합격 축하 문장을 출력하세요\n"
   ]
  },
  {
   "cell_type": "code",
   "execution_count": null,
   "metadata": {},
   "outputs": [],
   "source": [
    "#\n",
    "scores = [45, 90, 59, 80, 95, 37, 61]\n",
    "\n",
    "# print(len(scores)) # 요소의 개수\n",
    "\n",
    "for index in range(len(scores)):\n",
    "  if scores[index] < 60:\n",
    "    continue\n",
    "  print(f'{index+1}번 학생, {scores[index]}점 입니다. 합격 축하합니다')"
   ]
  }
 ],
 "metadata": {
  "kernelspec": {
   "display_name": "Python 3.9.13 64-bit",
   "language": "python",
   "name": "python3"
  },
  "language_info": {
   "codemirror_mode": {
    "name": "ipython",
    "version": 3
   },
   "file_extension": ".py",
   "mimetype": "text/x-python",
   "name": "python",
   "nbconvert_exporter": "python",
   "pygments_lexer": "ipython3",
   "version": "3.9.13"
  },
  "vscode": {
   "interpreter": {
    "hash": "1d5c1156327dacead463cc502c55ebae8ce9c8c01979cf154173ff808e75bf55"
   }
  }
 },
 "nbformat": 4,
 "nbformat_minor": 2
}
