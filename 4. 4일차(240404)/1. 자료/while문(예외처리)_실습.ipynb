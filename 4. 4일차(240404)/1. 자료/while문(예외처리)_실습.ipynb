{
 "cells": [
  {
   "cell_type": "code",
   "execution_count": 1,
   "metadata": {},
   "outputs": [
    {
     "name": "stdout",
     "output_type": "stream",
     "text": [
      "1\n",
      "2\n",
      "3\n",
      "4\n",
      "5\n",
      "6\n",
      "7\n",
      "8\n",
      "9\n",
      "10\n"
     ]
    }
   ],
   "source": [
    "# 1\n",
    "\n",
    "a = 1\n",
    "while a < 11:\n",
    "  print(a)\n",
    "  a += 1"
   ]
  },
  {
   "cell_type": "code",
   "execution_count": 2,
   "metadata": {},
   "outputs": [
    {
     "name": "stdout",
     "output_type": "stream",
     "text": [
      "종료합니다\n"
     ]
    }
   ],
   "source": [
    "# 2\n",
    "while True:\n",
    "  msg = input('메세지를 입력하세요 (\"종료\" 를 입력하면 반복 종료): ')\n",
    "  if msg == '종료':\n",
    "    print('종료합니다')\n",
    "    break\n",
    "  print(msg)"
   ]
  },
  {
   "cell_type": "code",
   "execution_count": 3,
   "metadata": {},
   "outputs": [
    {
     "name": "stdout",
     "output_type": "stream",
     "text": [
      "0 + 1 = 1\n",
      "1 + 2 = 3\n",
      "3 + 3 = 6\n",
      "6 + 4 = 10\n",
      "10 + 5 = 15\n",
      "15 + 6 = 21\n",
      "21 + 7 = 28\n",
      "28 + 8 = 36\n",
      "36 + 9 = 45\n",
      "45 + 10 = 55\n",
      "55 + 11 = 66\n",
      "66 + 12 = 78\n",
      "78 + 13 = 91\n",
      "91 + 14 = 105\n",
      "총합: 105\n"
     ]
    }
   ],
   "source": [
    "# 3\n",
    "\n",
    "num = 1\n",
    "sum = 0\n",
    "\n",
    "while sum <= 100:\n",
    "  print(f'{sum} + {num} = {sum+num}')\n",
    "  sum += num\n",
    "  num += 1\n",
    "print(f'총합: {sum}')"
   ]
  },
  {
   "cell_type": "code",
   "execution_count": 4,
   "metadata": {},
   "outputs": [
    {
     "name": "stdout",
     "output_type": "stream",
     "text": [
      "네\n"
     ]
    }
   ],
   "source": [
    "# 4\n",
    "while True:\n",
    "  a = input('당신은 파이썬을 좋아하나요? (\"네\", \"아니오\"로 입력하세요)')\n",
    "\n",
    "  if a in ['네', '아니오']:\n",
    "    print(a)\n",
    "    break\n",
    "  else:\n",
    "    print('\"네\" or \"아니오\"로 대답해 주세요')"
   ]
  },
  {
   "cell_type": "code",
   "execution_count": 5,
   "metadata": {},
   "outputs": [
    {
     "name": "stdout",
     "output_type": "stream",
     "text": [
      "결과는 0\n"
     ]
    }
   ],
   "source": [
    "# 5\n",
    "sum = 0\n",
    "while True:\n",
    "  num = float(input(\"숫자를 입력하세요 '0'을 입력하면 모든 합계를 출력합니다\"))\n",
    "  if num == 0:\n",
    "    break\n",
    "  print(f'{sum} + {num} = {sum+num}')\n",
    "  sum += num\n",
    "print(f'결과는 {sum}')"
   ]
  },
  {
   "cell_type": "code",
   "execution_count": 6,
   "metadata": {},
   "outputs": [
    {
     "name": "stdout",
     "output_type": "stream",
     "text": [
      "로그인 완료 user01님 환영합니다\n"
     ]
    }
   ],
   "source": [
    "# 6\n",
    "id = 'user01'\n",
    "pw = 'pw1234'\n",
    "\n",
    "while True:\n",
    "  input_id = input('아이디를 입력하세요')\n",
    "  input_pw = input('패스워드를 입력하세요')\n",
    "  if id == input_id and pw == input_pw:\n",
    "    print(f'로그인 완료 {id}님 환영합니다')\n",
    "    break\n",
    "  print('아이디와 패스워드를 확인해 주세요')\n"
   ]
  },
  {
   "cell_type": "code",
   "execution_count": 7,
   "metadata": {},
   "outputs": [
    {
     "name": "stdout",
     "output_type": "stream",
     "text": [
      "*\n",
      "**\n",
      "***\n"
     ]
    }
   ],
   "source": [
    "# 7\n",
    "\n",
    "a = 0\n",
    "b = int(input('숫자를 입력하세요'))\n",
    "while a < b:\n",
    "  a += 1\n",
    "  print('*'*a)"
   ]
  },
  {
   "cell_type": "code",
   "execution_count": null,
   "metadata": {},
   "outputs": [],
   "source": [
    "# 8, 9, 10\n",
    "\n",
    "while True:\n",
    "  input_oper = input('연산자를 입력해 주세요')\n",
    "  if input_oper in ['+', '-', '*', '/']:\n",
    "    a = float(input('첫 번째 수를 입력하세요'))\n",
    "    b = float(input('두 번째 수를 입력하세요'))\n",
    "    if input_oper == \"+\":\n",
    "      print(f'{a}+{b} = {a+b}')\n",
    "      break\n",
    "    elif input_oper == \"-\":\n",
    "      print(f'{a}-{b} = {a-b}')\n",
    "      break\n",
    "    elif input_oper == \"*\":\n",
    "      print(f'{a}*{b} = {a*b}')\n",
    "      break\n",
    "    elif input_oper == \"/\":\n",
    "      if b == 0:\n",
    "        print('0으로 나눌수 없습니다')\n",
    "        continue\n",
    "      print(f'{a}/{b} = {a/b}')\n",
    "      break\n",
    "  else:\n",
    "    print('올바른 연산자를 입력해 주세요')\n",
    "\n",
    "\n",
    "# 8, 9, 10\n",
    "\n",
    "while True:\n",
    "  input_oper = input('연산자를 입력해 주세요')\n",
    "  if input_oper in [\"+\", \"-\", \"*\", \"/\"]:\n",
    "      a = float(input('첫 번째 수를 입력하세요'))\n",
    "      b = float(input('두 번째 수를 입력하세요'))\n",
    "      if input_oper == \"+\":\n",
    "          result = a + b\n",
    "      elif input_oper == \"-\":\n",
    "          result = a - b\n",
    "      elif input_oper == \"*\":\n",
    "          result = a * b\n",
    "      elif input_oper == \"/\":\n",
    "          if b == 0:\n",
    "              print(\"0으로 나눌 수 없습니다. 다시 입력하세요.\")\n",
    "              continue\n",
    "          result = a / b\n",
    "      print(f'{a} {input_oper} {b} = {result}')\n",
    "      break\n",
    "  else:\n",
    "      print('올바른 연산자를 입력해 주세요.')"
   ]
  }
 ],
 "metadata": {
  "kernelspec": {
   "display_name": "Python 3.9.13 64-bit",
   "language": "python",
   "name": "python3"
  },
  "language_info": {
   "codemirror_mode": {
    "name": "ipython",
    "version": 3
   },
   "file_extension": ".py",
   "mimetype": "text/x-python",
   "name": "python",
   "nbconvert_exporter": "python",
   "pygments_lexer": "ipython3",
   "version": "3.9.13"
  },
  "orig_nbformat": 4,
  "vscode": {
   "interpreter": {
    "hash": "1d5c1156327dacead463cc502c55ebae8ce9c8c01979cf154173ff808e75bf55"
   }
  }
 },
 "nbformat": 4,
 "nbformat_minor": 2
}
