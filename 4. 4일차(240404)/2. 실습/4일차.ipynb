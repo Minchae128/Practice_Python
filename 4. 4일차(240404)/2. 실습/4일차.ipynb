{
 "cells": [
  {
   "cell_type": "markdown",
   "metadata": {},
   "source": [
    "for문\n",
    "\n",
    "for 변수 in 리스트(또는 튜플, 문자열):\n",
    "\n",
    "    수행할_문장1\n",
    "    수행할_문장2\n",
    "    ..."
   ]
  },
  {
   "cell_type": "code",
   "execution_count": 1,
   "metadata": {},
   "outputs": [
    {
     "name": "stdout",
     "output_type": "stream",
     "text": [
      "one\n",
      "two\n",
      "three\n"
     ]
    }
   ],
   "source": [
    "test_list = ['one', 'two', 'three'] \n",
    "for i in test_list: \n",
    "   print(i)"
   ]
  },
  {
   "cell_type": "code",
   "execution_count": 9,
   "metadata": {},
   "outputs": [
    {
     "name": "stdout",
     "output_type": "stream",
     "text": [
      "1 2\n",
      "3 4\n",
      "5 6\n",
      "a b\n"
     ]
    }
   ],
   "source": [
    "# 언패킹\n",
    "\n",
    "a = [{1, 2},{3, 4}, {5, 6}, 'ab']\n",
    "\n",
    "for i,j in a:\n",
    "    print(i, j)"
   ]
  },
  {
   "cell_type": "code",
   "execution_count": 2,
   "metadata": {},
   "outputs": [
    {
     "name": "stdout",
     "output_type": "stream",
     "text": [
      "1번 학생은 합격입니다.\n",
      "2번 학생은 불합격입니다.\n",
      "3번 학생은 합격입니다.\n",
      "4번 학생은 불합격입니다.\n",
      "5번 학생은 합격입니다.\n"
     ]
    }
   ],
   "source": [
    "scores = [90, 25, 67, 45, 80]   # 학생들의 시험 점수 리스트\n",
    "\n",
    "number = 0   # 학생에게 붙여 줄 번호\n",
    "for score in scores:   # 90, 25, 67, 45, 80을 순서대로 score에 대입\n",
    "    number = number +1 \n",
    "    if score >= 60: \n",
    "        print(\"%d번 학생은 합격입니다.\" % number)\n",
    "    else: \n",
    "        print(\"%d번 학생은 불합격입니다.\" % number)"
   ]
  },
  {
   "cell_type": "code",
   "execution_count": 8,
   "metadata": {},
   "outputs": [
    {
     "name": "stdout",
     "output_type": "stream",
     "text": [
      "학생1의 점수는 90이며, 합격입니다.\n",
      "학생2의 점수는 25이며, 불합격입니다.\n",
      "학생3의 점수는 67이며, 합격입니다.\n",
      "학생4의 점수는 45이며, 불합격입니다.\n",
      "학생5의 점수는 80이며, 합격입니다.\n"
     ]
    }
   ],
   "source": [
    "scores = [90, 25, 67, 45, 80] \n",
    "dic = {}\n",
    "\n",
    "number = 0   # 학생에게 붙여 줄 번호\n",
    "for score in scores: # 90, 25, 67, 45, 80을 순서대로 score에 대입\n",
    "    number = number + 1 # 학생 번호 부여\n",
    "    student_name = f'학생{number}' # number변수를 이용해서 학생이름을 생성 후 딕셔너리 dic에 저장\n",
    "    dic[student_name] = score # 생성한 딕셔너리 dic에 키값인 학생이름에 점수 value 추가\n",
    "\n",
    "for student, score in dic.items():\n",
    "    if score >= 60: \n",
    "        print(f\"{student}의 점수는 {score}이며, 합격입니다.\")\n",
    "    else: \n",
    "        print(f\"{student}의 점수는 {score}이며, 불합격입니다.\")\n"
   ]
  },
  {
   "cell_type": "markdown",
   "metadata": {},
   "source": [
    "range\n",
    "\n",
    "|인자의 수|형식|\n",
    "|---|---|\n",
    "|1|range(stop)|\n",
    "|2|range(start, stop)|\n",
    "|3|range(start, stop, step)|"
   ]
  },
  {
   "cell_type": "code",
   "execution_count": 14,
   "metadata": {},
   "outputs": [
    {
     "name": "stdout",
     "output_type": "stream",
     "text": [
      "1번 학생은 90점수로 합격입니다.\n",
      "2번 학생은 25점수로 불합격입니다.\n",
      "3번 학생은 67점수로 합격입니다.\n",
      "4번 학생은 45점수로 불합격입니다.\n",
      "5번 학생은 80점수로 합격입니다.\n"
     ]
    }
   ],
   "source": [
    "scores = [90, 25, 67, 45, 80]   # 학생들의 시험 점수 리스트\n",
    "\n",
    "\n",
    "for i in range(len(scores)):\n",
    "    score = scores[i]\n",
    "    if score >= 60: \n",
    "        print(f\"{i+1}번 학생은 {score}점수로 합격입니다.\")\n",
    "    else: \n",
    "         print(f\"{i+1}번 학생은 {score}점수로 불합격입니다.\")"
   ]
  },
  {
   "cell_type": "code",
   "execution_count": null,
   "metadata": {},
   "outputs": [],
   "source": []
  }
 ],
 "metadata": {
  "kernelspec": {
   "display_name": "Python 3.9.13 64-bit",
   "language": "python",
   "name": "python3"
  },
  "language_info": {
   "codemirror_mode": {
    "name": "ipython",
    "version": 3
   },
   "file_extension": ".py",
   "mimetype": "text/x-python",
   "name": "python",
   "nbconvert_exporter": "python",
   "pygments_lexer": "ipython3",
   "version": "3.9.13"
  },
  "orig_nbformat": 4,
  "vscode": {
   "interpreter": {
    "hash": "1d5c1156327dacead463cc502c55ebae8ce9c8c01979cf154173ff808e75bf55"
   }
  }
 },
 "nbformat": 4,
 "nbformat_minor": 2
}
